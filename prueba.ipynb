{
 "cells": [
  {
   "cell_type": "code",
   "execution_count": 1,
   "metadata": {},
   "outputs": [],
   "source": [
    "import pandas as pd"
   ]
  },
  {
   "cell_type": "code",
   "execution_count": 2,
   "metadata": {},
   "outputs": [],
   "source": [
    "df = pd.read_csv('./movie_dataset_clean(by_alexDRandom).csv')"
   ]
  },
  {
   "cell_type": "code",
   "execution_count": 4,
   "metadata": {},
   "outputs": [
    {
     "data": {
      "text/plain": [
       "Index(['budget', 'genres', 'original_language', 'overview', 'popularity',\n",
       "       'production_companies', 'production_countries', 'release_date',\n",
       "       'revenue', 'runtime', 'spoken_languages', 'status', 'tagline', 'title',\n",
       "       'vote_average', 'belongs_to_collection', 'release_year', 'return'],\n",
       "      dtype='object')"
      ]
     },
     "execution_count": 4,
     "metadata": {},
     "output_type": "execute_result"
    }
   ],
   "source": [
    "df.columns"
   ]
  },
  {
   "cell_type": "code",
   "execution_count": 6,
   "metadata": {},
   "outputs": [],
   "source": [
    "dupes = df['title'].duplicated()\n",
    "dupes_rows = df[dupes]\n",
    "df['title_count'] = df.groupby('title')['title'].transform('count')"
   ]
  },
  {
   "cell_type": "code",
   "execution_count": 7,
   "metadata": {},
   "outputs": [
    {
     "name": "stdout",
     "output_type": "stream",
     "text": [
      "           budget                           genres original_language  \\\n",
      "886     2238813.0   ['Comedy', 'Drama', 'Romance']                en   \n",
      "928           0.0                        ['Drama']                en   \n",
      "1294          0.0            ['Drama', 'Thriller']                en   \n",
      "1463          0.0             ['Drama', 'Romance']                de   \n",
      "1642   80000000.0           ['Drama', 'Adventure']                en   \n",
      "...           ...                              ...               ...   \n",
      "45332         0.0             ['Drama', 'Foreign']                zh   \n",
      "45364         0.0   ['Crime', 'Drama', 'Thriller']                hi   \n",
      "45365         0.0              ['Comedy', 'Drama']                en   \n",
      "45371         0.0   ['Drama', 'Action', 'Romance']                en   \n",
      "45373         0.0  ['Action', 'Drama', 'Thriller']                en   \n",
      "\n",
      "                                                overview  popularity  \\\n",
      "886    Linus and David Larrabee are the two sons of a...    7.359741   \n",
      "928    In Puritan Boston, seamstress Hester Prynne is...    0.284522   \n",
      "1294   Sam Bowden witnesses a rape committed by Max C...    7.583191   \n",
      "1463   East-Berlin, 1961, shortly after the erection ...    0.122178   \n",
      "1642   In 2013 there are no highways, no I-ways, no d...    6.537407   \n",
      "...                                                  ...         ...   \n",
      "45332  Little pocket thief Wu never got away from the...    0.350365   \n",
      "45364  The bliss of a biology teacher’s family life i...    1.559596   \n",
      "45365  The Morning After is a feature film that consi...    0.139936   \n",
      "45371  Yet another version of the classic epic, with ...    5.683753   \n",
      "45373  When one of her hits goes wrong, a professiona...    0.903007   \n",
      "\n",
      "                                    production_companies  \\\n",
      "886                               ['Paramount Pictures']   \n",
      "928                        ['Metro-Goldwyn-Mayer (MGM)']   \n",
      "1294                     ['Melville-Talbot Productions']   \n",
      "1463   ['Studio Babelsberg', 'Centre National de la C...   \n",
      "1642                 ['Tig Productions', 'Warner Bros.']   \n",
      "...                                                  ...   \n",
      "45332  ['Hu Tong Communications', 'Radiant Advertisin...   \n",
      "45364                ['Mad Films', 'Third Eye Pictures']   \n",
      "45365  ['Oops Doughnuts Productions', 'He and She Fil...   \n",
      "45371  ['Westdeutscher Rundfunk (WDR)', 'Working Titl...   \n",
      "45373                        ['American World Pictures']   \n",
      "\n",
      "                                    production_countries release_date  \\\n",
      "886                         ['United States of America']   1954-09-28   \n",
      "928                         ['United States of America']   1926-08-09   \n",
      "1294                        ['United States of America']   1962-04-12   \n",
      "1463                                         ['Germany']   1995-02-16   \n",
      "1642                        ['United States of America']   1997-12-25   \n",
      "...                                                  ...          ...   \n",
      "45332                             ['China', 'Hong Kong']   1997-01-01   \n",
      "45364                                          ['India']   2017-07-07   \n",
      "45365                       ['United States of America']   2015-01-11   \n",
      "45371  ['Canada', 'Germany', 'United Kingdom', 'Unite...   1991-05-13   \n",
      "45373                       ['United States of America']   2003-08-01   \n",
      "\n",
      "          revenue  runtime         spoken_languages    status  \\\n",
      "886    10000000.0    113.0  ['English', 'Italiano']  Released   \n",
      "928           0.0    115.0              ['English']  Released   \n",
      "1294          0.0    105.0              ['English']  Released   \n",
      "1463          0.0    115.0              ['Deutsch']  Released   \n",
      "1642   17626234.0    177.0  ['English', 'Français']  Released   \n",
      "...           ...      ...                      ...       ...   \n",
      "45332         0.0    105.0                  ['普通话']  Released   \n",
      "45364         0.0    146.0               ['हिन्दी']  Released   \n",
      "45365         0.0     79.0              ['English']  Released   \n",
      "45371         0.0    104.0              ['English']  Released   \n",
      "45373         0.0     90.0              ['English']  Released   \n",
      "\n",
      "                                                 tagline               title  \\\n",
      "886    ...the chauffeur's daughter who learned her st...             Sabrina   \n",
      "928                                               No tag  The Scarlet Letter   \n",
      "1294   Now he had only one weapon left - murder! ...T...           Cape Fear   \n",
      "1463                             A love, a hope, a wall.         The Promise   \n",
      "1642   The year is 2013. One man walked in off the ho...         The Postman   \n",
      "...                                                  ...                 ...   \n",
      "45332                                             No tag          Pickpocket   \n",
      "45364                                             No tag                 Mom   \n",
      "45365                          What happened last night?   The Morning After   \n",
      "45371                                             No tag          Robin Hood   \n",
      "45373                             A deadly game of wits.            Betrayal   \n",
      "\n",
      "       vote_average belongs_to_collection  release_year    return  \n",
      "886             7.4         No collection          1954  4.466653  \n",
      "928             8.3         No collection          1926  0.000000  \n",
      "1294            7.2         No collection          1962  0.000000  \n",
      "1463            5.0         No collection          1995  0.000000  \n",
      "1642            6.1         No collection          1997  0.220328  \n",
      "...             ...                   ...           ...       ...  \n",
      "45332           7.2         No collection          1997  0.000000  \n",
      "45364           6.6         No collection          2017  0.000000  \n",
      "45365           4.0         No collection          2015  0.000000  \n",
      "45371           5.7         No collection          1991  0.000000  \n",
      "45373           3.8         No collection          2003  0.000000  \n",
      "\n",
      "[3180 rows x 18 columns]\n"
     ]
    }
   ],
   "source": [
    "print(dupes_rows)"
   ]
  },
  {
   "cell_type": "markdown",
   "metadata": {},
   "source": [
    "La última pregunta a Claude\n",
    "___\n",
    "Bien, siguiendo en ese contexto (hablando de un proyecto ML en una academia de data-science), tengo un dataset con películas, hay una columna 'title' entre otras, también hay una 'overview' que contiene una descripción de cada película, y finalmente hay otras columnas ya numéricas que son 'popularity' y 'vote_average' que quizás también se podrían tener en cuenta para un sistema de recomendación.\n",
    "El usuario indica un título y se le recomiendan 5 películas similares.\n",
    "quizás usando algo de lo que explican en este artículo:\n",
    "https://medium.com/web-mining-is688-spring-2021/cosine-similarity-and-tfidf-c2a7079e13fa"
   ]
  },
  {
   "cell_type": "markdown",
   "metadata": {},
   "source": [
    "Su respuesta:\n",
    "___\n",
    "Con este conjunto de datos, aquí está cómo podrías crear un sistema de recomendación de películas:\n",
    "\n",
    "- Hacer preprocesamiento en los campos de texto 'title' y 'overview':\n",
    "    - Convertir todo a minúsculas\n",
    "    - Eliminar signos de puntuación y números\n",
    "    - Eliminar stopwords\n",
    "    - Lematizar las palabras\n",
    "\n",
    "- Crear una matriz de términos usando todas las palabras únicas en los campos 'title' y 'overview' combinados.\n",
    "\n",
    "- Crear vectores bag-of-words para cada fila:\n",
    "    - Asignar 1 a las entradas de la matriz de términos si la palabra aparece en 'title' o 'overview', 0 en otro caso.   \n",
    "\n",
    "\n",
    "- Calcular TF-IDF para cada entrada vectorial. Puede dar más peso a términos inusuales y menos frecuentes.\n",
    "\n",
    "- Calcular la similitud cosinusal entre el vector del título dado por el usuario y los vectores de todas las otras películas.\n",
    "\n",
    "- Ordenar todas las demás películas en función de su similitud cosinusal (de mayor a menor).\n",
    "\n",
    "- Recomendar las 5 películas con la similitud cosinusal más alta.\n",
    "\n",
    "- (Opcional) Ajustar los resultados usando otros campos como 'popularity' y 'vote_average'.\n",
    "\n",
    "Para probar este sistema, puedes:\n",
    "    - Separar el conjunto de datos en train/test\n",
    "    - Probar con títulos en el conjunto de test\n",
    "    - Verificar si los resultados coinciden con la intuición humana\n",
    "\n",
    "Entonces en resumen, usando vectorización, TF-IDF, similitud cosinusal y posiblemente otros campos numéricos, se puede crear un sistema básico de recomendación de películas. ¡Déjame saber si esto tiene sentido o necesitas más detalles!"
   ]
  }
 ],
 "metadata": {
  "kernelspec": {
   "display_name": "fastapi-env",
   "language": "python",
   "name": "python3"
  },
  "language_info": {
   "codemirror_mode": {
    "name": "ipython",
    "version": 3
   },
   "file_extension": ".py",
   "mimetype": "text/x-python",
   "name": "python",
   "nbconvert_exporter": "python",
   "pygments_lexer": "ipython3",
   "version": "3.11.0"
  },
  "orig_nbformat": 4
 },
 "nbformat": 4,
 "nbformat_minor": 2
}
