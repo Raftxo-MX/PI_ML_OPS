{
 "cells": [
  {
   "attachments": {},
   "cell_type": "markdown",
   "metadata": {},
   "source": [
    "# DESARROLLO SISTEMA DE RECOMENDACIONES"
   ]
  },
  {
   "attachments": {},
   "cell_type": "markdown",
   "metadata": {},
   "source": [
    "___\n",
    "1. Preprocesamiento de datos\n",
    "___"
   ]
  },
  {
   "cell_type": "code",
   "execution_count": 212,
   "metadata": {},
   "outputs": [],
   "source": [
    "# Importamos las librerías necesarias\n",
    "# RAKE = Rapid Automatic Keyword Extraction\n",
    "# nltk = Natural Language Toolkit\n",
    "import pandas as pd\n",
    "import numpy as np\n",
    "import nltk\n",
    "from nltk.corpus import stopwords\n",
    "from nltk.tokenize import word_tokenize\n",
    "from nltk.stem import WordNetLemmatizer\n",
    "from rake_nltk import Rake\n",
    "from sklearn.feature_extraction.text import CountVectorizer\n",
    "from sklearn.metrics.pairwise import cosine_similarity\n"
   ]
  },
  {
   "cell_type": "code",
   "execution_count": 213,
   "metadata": {},
   "outputs": [
    {
     "name": "stderr",
     "output_type": "stream",
     "text": [
      "[nltk_data] Downloading package stopwords to\n",
      "[nltk_data]     C:\\Users\\raftx\\AppData\\Roaming\\nltk_data...\n",
      "[nltk_data]   Package stopwords is already up-to-date!\n",
      "[nltk_data] Downloading package punkt to\n",
      "[nltk_data]     C:\\Users\\raftx\\AppData\\Roaming\\nltk_data...\n",
      "[nltk_data]   Package punkt is already up-to-date!\n",
      "[nltk_data] Downloading package wordnet to\n",
      "[nltk_data]     C:\\Users\\raftx\\AppData\\Roaming\\nltk_data...\n"
     ]
    },
    {
     "data": {
      "text/plain": [
       "True"
      ]
     },
     "execution_count": 213,
     "metadata": {},
     "output_type": "execute_result"
    }
   ],
   "source": [
    "# nltk rake necesitará un diccionario de palabras vacías, \"stopwords\" para suprimir palabras que no aportan nada al modelo.\n",
    "# también necesitamos el tokenizador de oraciones 'punkt' que ayudará a eliminar signos de puntuación, espacios en blanco y otros caracteres\n",
    "# no deseados.. y 'wordnet' para usar 'WordNetLemmatizer'\n",
    "nltk.download('stopwords')\n",
    "nltk.download('punkt')\n",
    "nltk.download('wordnet')"
   ]
  },
  {
   "cell_type": "code",
   "execution_count": 186,
   "metadata": {},
   "outputs": [],
   "source": [
    "# Cargamos el set de datos limpios resultante del proceso ETL anterior\n",
    "df=pd.read_csv('./data/datos_limpios.csv')"
   ]
  },
  {
   "cell_type": "code",
   "execution_count": 314,
   "metadata": {},
   "outputs": [
    {
     "data": {
      "text/plain": [
       "0           ['John Lasseter']\n",
       "1            ['Joe Johnston']\n",
       "2           ['Howard Deutch']\n",
       "3         ['Forest Whitaker']\n",
       "4           ['Charles Shyer']\n",
       "                 ...         \n",
       "41299            ['Ben Rock']\n",
       "41300       ['Aaron Osborne']\n",
       "41301            ['Lav Diaz']\n",
       "41302    ['Yakov Protazanov']\n",
       "41303       ['Daisy Asquith']\n",
       "Name: directed_by, Length: 41304, dtype: object"
      ]
     },
     "execution_count": 314,
     "metadata": {},
     "output_type": "execute_result"
    }
   ],
   "source": [
    "df['directed_by']"
   ]
  },
  {
   "cell_type": "code",
   "execution_count": 188,
   "metadata": {},
   "outputs": [
    {
     "data": {
      "text/plain": [
       "(45348, 22)"
      ]
     },
     "execution_count": 188,
     "metadata": {},
     "output_type": "execute_result"
    }
   ],
   "source": [
    "df.shape"
   ]
  },
  {
   "cell_type": "code",
   "execution_count": 189,
   "metadata": {},
   "outputs": [
    {
     "data": {
      "text/html": [
       "<div>\n",
       "<style scoped>\n",
       "    .dataframe tbody tr th:only-of-type {\n",
       "        vertical-align: middle;\n",
       "    }\n",
       "\n",
       "    .dataframe tbody tr th {\n",
       "        vertical-align: top;\n",
       "    }\n",
       "\n",
       "    .dataframe thead th {\n",
       "        text-align: right;\n",
       "    }\n",
       "</style>\n",
       "<table border=\"1\" class=\"dataframe\">\n",
       "  <thead>\n",
       "    <tr style=\"text-align: right;\">\n",
       "      <th></th>\n",
       "      <th>index</th>\n",
       "      <th>id</th>\n",
       "      <th>budget</th>\n",
       "      <th>original_language</th>\n",
       "      <th>overview</th>\n",
       "      <th>popularity</th>\n",
       "      <th>release_date</th>\n",
       "      <th>revenue</th>\n",
       "      <th>runtime</th>\n",
       "      <th>spoken_languages</th>\n",
       "      <th>...</th>\n",
       "      <th>title</th>\n",
       "      <th>vote_average</th>\n",
       "      <th>vote_count</th>\n",
       "      <th>return</th>\n",
       "      <th>release_year</th>\n",
       "      <th>directed_by</th>\n",
       "      <th>franchise</th>\n",
       "      <th>produced_by</th>\n",
       "      <th>produced_in</th>\n",
       "      <th>genres_clean</th>\n",
       "    </tr>\n",
       "  </thead>\n",
       "  <tbody>\n",
       "    <tr>\n",
       "      <th>0</th>\n",
       "      <td>0</td>\n",
       "      <td>862</td>\n",
       "      <td>30000000</td>\n",
       "      <td>en</td>\n",
       "      <td>Led by Woody, Andy's toys live happily in his ...</td>\n",
       "      <td>21.946943</td>\n",
       "      <td>1995-10-30</td>\n",
       "      <td>373554033.0</td>\n",
       "      <td>81.0</td>\n",
       "      <td>[{'iso_639_1': 'en', 'name': 'English'}]</td>\n",
       "      <td>...</td>\n",
       "      <td>Toy Story</td>\n",
       "      <td>7.7</td>\n",
       "      <td>5415.0</td>\n",
       "      <td>12.451801</td>\n",
       "      <td>1995</td>\n",
       "      <td>['John Lasseter']</td>\n",
       "      <td>Toy Story Collection</td>\n",
       "      <td>['Pixar Animation Studios']</td>\n",
       "      <td>['United States of America']</td>\n",
       "      <td>['Animation' 'Comedy' 'Family']</td>\n",
       "    </tr>\n",
       "    <tr>\n",
       "      <th>1</th>\n",
       "      <td>1</td>\n",
       "      <td>8844</td>\n",
       "      <td>65000000</td>\n",
       "      <td>en</td>\n",
       "      <td>When siblings Judy and Peter discover an encha...</td>\n",
       "      <td>17.015539</td>\n",
       "      <td>1995-12-15</td>\n",
       "      <td>262797249.0</td>\n",
       "      <td>104.0</td>\n",
       "      <td>[{'iso_639_1': 'en', 'name': 'English'}, {'iso...</td>\n",
       "      <td>...</td>\n",
       "      <td>Jumanji</td>\n",
       "      <td>6.9</td>\n",
       "      <td>2413.0</td>\n",
       "      <td>4.043035</td>\n",
       "      <td>1995</td>\n",
       "      <td>['Joe Johnston']</td>\n",
       "      <td>NaN</td>\n",
       "      <td>['TriStar Pictures' 'Teitler Film' 'Interscope...</td>\n",
       "      <td>['United States of America']</td>\n",
       "      <td>['Adventure' 'Fantasy' 'Family']</td>\n",
       "    </tr>\n",
       "    <tr>\n",
       "      <th>2</th>\n",
       "      <td>2</td>\n",
       "      <td>15602</td>\n",
       "      <td>0</td>\n",
       "      <td>en</td>\n",
       "      <td>A family wedding reignites the ancient feud be...</td>\n",
       "      <td>11.712900</td>\n",
       "      <td>1995-12-22</td>\n",
       "      <td>0.0</td>\n",
       "      <td>101.0</td>\n",
       "      <td>[{'iso_639_1': 'en', 'name': 'English'}]</td>\n",
       "      <td>...</td>\n",
       "      <td>Grumpier Old Men</td>\n",
       "      <td>6.5</td>\n",
       "      <td>92.0</td>\n",
       "      <td>0.000000</td>\n",
       "      <td>1995</td>\n",
       "      <td>['Howard Deutch']</td>\n",
       "      <td>Grumpy Old Men Collection</td>\n",
       "      <td>['Warner Bros.' 'Lancaster Gate']</td>\n",
       "      <td>['United States of America']</td>\n",
       "      <td>['Romance' 'Comedy']</td>\n",
       "    </tr>\n",
       "    <tr>\n",
       "      <th>3</th>\n",
       "      <td>3</td>\n",
       "      <td>31357</td>\n",
       "      <td>16000000</td>\n",
       "      <td>en</td>\n",
       "      <td>Cheated on, mistreated and stepped on, the wom...</td>\n",
       "      <td>3.859495</td>\n",
       "      <td>1995-12-22</td>\n",
       "      <td>81452156.0</td>\n",
       "      <td>127.0</td>\n",
       "      <td>[{'iso_639_1': 'en', 'name': 'English'}]</td>\n",
       "      <td>...</td>\n",
       "      <td>Waiting to Exhale</td>\n",
       "      <td>6.1</td>\n",
       "      <td>34.0</td>\n",
       "      <td>5.090760</td>\n",
       "      <td>1995</td>\n",
       "      <td>['Forest Whitaker']</td>\n",
       "      <td>NaN</td>\n",
       "      <td>['Twentieth Century Fox Film Corporation']</td>\n",
       "      <td>['United States of America']</td>\n",
       "      <td>['Comedy' 'Drama' 'Romance']</td>\n",
       "    </tr>\n",
       "    <tr>\n",
       "      <th>4</th>\n",
       "      <td>4</td>\n",
       "      <td>11862</td>\n",
       "      <td>0</td>\n",
       "      <td>en</td>\n",
       "      <td>Just when George Banks has recovered from his ...</td>\n",
       "      <td>8.387519</td>\n",
       "      <td>1995-02-10</td>\n",
       "      <td>76578911.0</td>\n",
       "      <td>106.0</td>\n",
       "      <td>[{'iso_639_1': 'en', 'name': 'English'}]</td>\n",
       "      <td>...</td>\n",
       "      <td>Father of the Bride Part II</td>\n",
       "      <td>5.7</td>\n",
       "      <td>173.0</td>\n",
       "      <td>0.000000</td>\n",
       "      <td>1995</td>\n",
       "      <td>['Charles Shyer']</td>\n",
       "      <td>Father of the Bride Collection</td>\n",
       "      <td>['Sandollar Productions' 'Touchstone Pictures']</td>\n",
       "      <td>['United States of America']</td>\n",
       "      <td>['Comedy']</td>\n",
       "    </tr>\n",
       "  </tbody>\n",
       "</table>\n",
       "<p>5 rows × 22 columns</p>\n",
       "</div>"
      ],
      "text/plain": [
       "   index     id    budget original_language  \\\n",
       "0      0    862  30000000                en   \n",
       "1      1   8844  65000000                en   \n",
       "2      2  15602         0                en   \n",
       "3      3  31357  16000000                en   \n",
       "4      4  11862         0                en   \n",
       "\n",
       "                                            overview  popularity release_date  \\\n",
       "0  Led by Woody, Andy's toys live happily in his ...   21.946943   1995-10-30   \n",
       "1  When siblings Judy and Peter discover an encha...   17.015539   1995-12-15   \n",
       "2  A family wedding reignites the ancient feud be...   11.712900   1995-12-22   \n",
       "3  Cheated on, mistreated and stepped on, the wom...    3.859495   1995-12-22   \n",
       "4  Just when George Banks has recovered from his ...    8.387519   1995-02-10   \n",
       "\n",
       "       revenue  runtime                                   spoken_languages  \\\n",
       "0  373554033.0     81.0           [{'iso_639_1': 'en', 'name': 'English'}]   \n",
       "1  262797249.0    104.0  [{'iso_639_1': 'en', 'name': 'English'}, {'iso...   \n",
       "2          0.0    101.0           [{'iso_639_1': 'en', 'name': 'English'}]   \n",
       "3   81452156.0    127.0           [{'iso_639_1': 'en', 'name': 'English'}]   \n",
       "4   76578911.0    106.0           [{'iso_639_1': 'en', 'name': 'English'}]   \n",
       "\n",
       "   ...                        title vote_average vote_count     return  \\\n",
       "0  ...                    Toy Story          7.7     5415.0  12.451801   \n",
       "1  ...                      Jumanji          6.9     2413.0   4.043035   \n",
       "2  ...             Grumpier Old Men          6.5       92.0   0.000000   \n",
       "3  ...            Waiting to Exhale          6.1       34.0   5.090760   \n",
       "4  ...  Father of the Bride Part II          5.7      173.0   0.000000   \n",
       "\n",
       "   release_year          directed_by                       franchise  \\\n",
       "0          1995    ['John Lasseter']            Toy Story Collection   \n",
       "1          1995     ['Joe Johnston']                             NaN   \n",
       "2          1995    ['Howard Deutch']       Grumpy Old Men Collection   \n",
       "3          1995  ['Forest Whitaker']                             NaN   \n",
       "4          1995    ['Charles Shyer']  Father of the Bride Collection   \n",
       "\n",
       "                                         produced_by  \\\n",
       "0                        ['Pixar Animation Studios']   \n",
       "1  ['TriStar Pictures' 'Teitler Film' 'Interscope...   \n",
       "2                  ['Warner Bros.' 'Lancaster Gate']   \n",
       "3         ['Twentieth Century Fox Film Corporation']   \n",
       "4    ['Sandollar Productions' 'Touchstone Pictures']   \n",
       "\n",
       "                    produced_in                      genres_clean  \n",
       "0  ['United States of America']   ['Animation' 'Comedy' 'Family']  \n",
       "1  ['United States of America']  ['Adventure' 'Fantasy' 'Family']  \n",
       "2  ['United States of America']              ['Romance' 'Comedy']  \n",
       "3  ['United States of America']      ['Comedy' 'Drama' 'Romance']  \n",
       "4  ['United States of America']                        ['Comedy']  \n",
       "\n",
       "[5 rows x 22 columns]"
      ]
     },
     "execution_count": 189,
     "metadata": {},
     "output_type": "execute_result"
    }
   ],
   "source": [
    "df.head()"
   ]
  },
  {
   "cell_type": "markdown",
   "metadata": {},
   "source": [
    "Antes de continuar, vamos a comprobar si quedan valores nulos o faltantes"
   ]
  },
  {
   "cell_type": "code",
   "execution_count": 197,
   "metadata": {},
   "outputs": [],
   "source": [
    "def check_nan_values(dataframe_name):\n",
    "    df = globals()[dataframe_name]          # Obtener el dataframe usando su nombre\n",
    "    nan_counts = {}                         # Diccionario para almacenar el recuento de NaN por columna\n",
    "    for column in df.columns:\n",
    "        nan_count = df[column].isna().sum() # Contar los valores NaN en la columna\n",
    "        nan_counts[column] = nan_count\n",
    "    return nan_counts"
   ]
  },
  {
   "cell_type": "code",
   "execution_count": 199,
   "metadata": {},
   "outputs": [
    {
     "data": {
      "text/plain": [
       "{'index': 0,\n",
       " 'id': 0,\n",
       " 'budget': 0,\n",
       " 'original_language': 11,\n",
       " 'overview': 941,\n",
       " 'popularity': 0,\n",
       " 'release_date': 0,\n",
       " 'revenue': 0,\n",
       " 'runtime': 246,\n",
       " 'spoken_languages': 0,\n",
       " 'status': 80,\n",
       " 'tagline': 24960,\n",
       " 'title': 0,\n",
       " 'vote_average': 0,\n",
       " 'vote_count': 0,\n",
       " 'return': 0,\n",
       " 'release_year': 0,\n",
       " 'directed_by': 0,\n",
       " 'franchise': 40862,\n",
       " 'produced_by': 0,\n",
       " 'produced_in': 0,\n",
       " 'genres_clean': 0}"
      ]
     },
     "execution_count": 199,
     "metadata": {},
     "output_type": "execute_result"
    }
   ],
   "source": [
    "check_nan_values('df')"
   ]
  },
  {
   "cell_type": "code",
   "execution_count": 200,
   "metadata": {},
   "outputs": [],
   "source": [
    "# Para entrenar el modelo voy a usar las columnas 'title', 'overview' y 'genres_clean'.\n",
    "# ya que en 'tagline' hay muchas vacías, no la voy a tener en cuenta.\n",
    "# Hemos visto que la columna 'overview' aún tiene valores vacíos o NaN en 941 filas\n",
    "# Eliminamos esas filas\n",
    "df.dropna(subset=['overview'], inplace=True)"
   ]
  },
  {
   "cell_type": "code",
   "execution_count": 202,
   "metadata": {},
   "outputs": [
    {
     "data": {
      "text/plain": [
       "(41304, 22)"
      ]
     },
     "execution_count": 202,
     "metadata": {},
     "output_type": "execute_result"
    }
   ],
   "source": [
    "# Eliminamos también los títulos duplicados para aligerar el modelo y tener una fila por título\n",
    "df.drop_duplicates(subset=['title'],inplace=True)\n",
    "df=df.reset_index(drop=True)\n",
    "df.shape"
   ]
  },
  {
   "cell_type": "code",
   "execution_count": 203,
   "metadata": {},
   "outputs": [],
   "source": [
    "# Exportamos a CSV el dataset en el estado actual.\n",
    "# df.to_csv('./data/datos_ligeros.csv')"
   ]
  },
  {
   "cell_type": "code",
   "execution_count": null,
   "metadata": {},
   "outputs": [],
   "source": []
  },
  {
   "cell_type": "code",
   "execution_count": 205,
   "metadata": {},
   "outputs": [
    {
     "data": {
      "text/plain": [
       "{'index': 0,\n",
       " 'id': 0,\n",
       " 'budget': 0,\n",
       " 'original_language': 10,\n",
       " 'overview': 0,\n",
       " 'popularity': 0,\n",
       " 'release_date': 0,\n",
       " 'revenue': 0,\n",
       " 'runtime': 0,\n",
       " 'spoken_languages': 0,\n",
       " 'status': 61,\n",
       " 'tagline': 22269,\n",
       " 'title': 0,\n",
       " 'vote_average': 0,\n",
       " 'vote_count': 0,\n",
       " 'return': 0,\n",
       " 'release_year': 0,\n",
       " 'directed_by': 0,\n",
       " 'franchise': 37004,\n",
       " 'produced_by': 0,\n",
       " 'produced_in': 0,\n",
       " 'genres_clean': 0}"
      ]
     },
     "execution_count": 205,
     "metadata": {},
     "output_type": "execute_result"
    }
   ],
   "source": [
    "check_nan_values('df')"
   ]
  },
  {
   "attachments": {},
   "cell_type": "markdown",
   "metadata": {},
   "source": [
    "### creamos un dataset para el modelo ML que contenga solo las columnas necesarias"
   ]
  },
  {
   "cell_type": "code",
   "execution_count": 206,
   "metadata": {},
   "outputs": [],
   "source": [
    "df_modelo=df[['title','overview','genres_clean']]"
   ]
  },
  {
   "cell_type": "code",
   "execution_count": 207,
   "metadata": {},
   "outputs": [
    {
     "data": {
      "text/html": [
       "<div>\n",
       "<style scoped>\n",
       "    .dataframe tbody tr th:only-of-type {\n",
       "        vertical-align: middle;\n",
       "    }\n",
       "\n",
       "    .dataframe tbody tr th {\n",
       "        vertical-align: top;\n",
       "    }\n",
       "\n",
       "    .dataframe thead th {\n",
       "        text-align: right;\n",
       "    }\n",
       "</style>\n",
       "<table border=\"1\" class=\"dataframe\">\n",
       "  <thead>\n",
       "    <tr style=\"text-align: right;\">\n",
       "      <th></th>\n",
       "      <th>title</th>\n",
       "      <th>overview</th>\n",
       "      <th>genres_clean</th>\n",
       "    </tr>\n",
       "  </thead>\n",
       "  <tbody>\n",
       "    <tr>\n",
       "      <th>41299</th>\n",
       "      <td>The Burkittsville 7</td>\n",
       "      <td>A film archivist revisits the story of Rustin ...</td>\n",
       "      <td>['Horror']</td>\n",
       "    </tr>\n",
       "    <tr>\n",
       "      <th>41300</th>\n",
       "      <td>Caged Heat 3000</td>\n",
       "      <td>It's the year 3000 AD. The world's most danger...</td>\n",
       "      <td>['Science Fiction']</td>\n",
       "    </tr>\n",
       "    <tr>\n",
       "      <th>41301</th>\n",
       "      <td>Century of Birthing</td>\n",
       "      <td>An artist struggles to finish his work while a...</td>\n",
       "      <td>['Drama']</td>\n",
       "    </tr>\n",
       "    <tr>\n",
       "      <th>41302</th>\n",
       "      <td>Satan Triumphant</td>\n",
       "      <td>In a small town live two brothers, one a minis...</td>\n",
       "      <td>[]</td>\n",
       "    </tr>\n",
       "    <tr>\n",
       "      <th>41303</th>\n",
       "      <td>Queerama</td>\n",
       "      <td>50 years after decriminalisation of homosexual...</td>\n",
       "      <td>[]</td>\n",
       "    </tr>\n",
       "  </tbody>\n",
       "</table>\n",
       "</div>"
      ],
      "text/plain": [
       "                     title                                           overview  \\\n",
       "41299  The Burkittsville 7  A film archivist revisits the story of Rustin ...   \n",
       "41300      Caged Heat 3000  It's the year 3000 AD. The world's most danger...   \n",
       "41301  Century of Birthing  An artist struggles to finish his work while a...   \n",
       "41302     Satan Triumphant  In a small town live two brothers, one a minis...   \n",
       "41303             Queerama  50 years after decriminalisation of homosexual...   \n",
       "\n",
       "              genres_clean  \n",
       "41299           ['Horror']  \n",
       "41300  ['Science Fiction']  \n",
       "41301            ['Drama']  \n",
       "41302                   []  \n",
       "41303                   []  "
      ]
     },
     "execution_count": 207,
     "metadata": {},
     "output_type": "execute_result"
    }
   ],
   "source": [
    "df_modelo.tail()"
   ]
  },
  {
   "cell_type": "code",
   "execution_count": 211,
   "metadata": {},
   "outputs": [
    {
     "name": "stdout",
     "output_type": "stream",
     "text": [
      "Número de filas coincidentes: 1984\n",
      "Filas coincidentes:\n",
      "                                  title  \\\n",
      "54              Kids of the Round Table   \n",
      "82          Last Summer in the Hamptons   \n",
      "125                      Jupiter's Wife   \n",
      "136                              Target   \n",
      "388                        Desert Winds   \n",
      "...                                 ...   \n",
      "41290           The Untameable Whiskers   \n",
      "41291  The Imperceptable Transmutations   \n",
      "41296         St. Michael Had a Rooster   \n",
      "41302                  Satan Triumphant   \n",
      "41303                          Queerama   \n",
      "\n",
      "                                                overview genres_clean  \n",
      "54     Set in modern times, Alex finds King Arthur's ...           []  \n",
      "82     Filmed entirely on location in East Hampton, L...           []  \n",
      "125    Michel Negroponte, a documentary filmmaker, me...           []  \n",
      "136     A subtle yet violent commentary on feudal lords.           []  \n",
      "388    Jackie and Eugene are joined by a mystical win...           []  \n",
      "...                                                  ...          ...  \n",
      "41290  The background of this picture represents a sc...           []  \n",
      "41291  This shows a prince entering upon the stage of...           []  \n",
      "41296  Sentenced to life imprisonment for illegal act...           []  \n",
      "41302  In a small town live two brothers, one a minis...           []  \n",
      "41303  50 years after decriminalisation of homosexual...           []  \n",
      "\n",
      "[1984 rows x 3 columns]\n"
     ]
    }
   ],
   "source": [
    "valor_fila_41303 = df_modelo.loc[41303, 'genres_clean']\n",
    "filas_coincidentes = df_modelo[df_modelo['genres_clean'] == valor_fila_41303]\n",
    "print(\"Número de filas coincidentes:\", len(filas_coincidentes))\n",
    "print(\"Filas coincidentes:\")\n",
    "print(filas_coincidentes)"
   ]
  },
  {
   "cell_type": "markdown",
   "metadata": {},
   "source": [
    "Con las últimas comprobaciones nos damos cuenta que 'genres_clean' con 1984 filas vacías tampoco nos va a aportar mucho para el modelo"
   ]
  },
  {
   "cell_type": "markdown",
   "metadata": {},
   "source": [
    "___\n",
    "2. Creación de keywords y scores\n",
    "___"
   ]
  },
  {
   "cell_type": "code",
   "execution_count": null,
   "metadata": {},
   "outputs": [],
   "source": [
    "# Usaremos algoritmo de extracción de palabras clave Rake (Rapid Automatic Keyword Extraction) del modulo rake_ntlp\n",
    "# de esta manera se aligeran los datos para el modelo\n",
    "\n",
    "# Creamos una instancia de Rake\n",
    "r = Rake()\n",
    "\n",
    "# Leer de nuevo los datos seleccionando solo las columnas 'title' y 'overview'\n",
    "data = df_modelo[['title', 'overview']]\n",
    "\n",
    "# Crear listas para almacenar los keywords y sus puntuajes de relevancia\n",
    "keywords_list = []\n",
    "scores_list = []\n",
    "\n",
    "# Iterar sobre cada fila del DataFrame\n",
    "for index, row in data.iterrows():\n",
    "    # Obtener el título y la descripción\n",
    "    title = row['title']\n",
    "    overview = row['overview']\n",
    "     # Concatenar el título y la descripción en un solo texto\n",
    "    text = title + ' ' + overview\n",
    "     # Tokenizar el texto en palabras\n",
    "    tokens = word_tokenize(text)\n",
    "     # Filtrar las stopwords en inglés\n",
    "    stop_words = set(stopwords.words('english'))\n",
    "    filtered_tokens = [token for token in tokens if token.lower() not in stop_words]\n",
    "     # Lematizar las palabras para obtener su forma base\n",
    "    lemmatizer = WordNetLemmatizer()\n",
    "    lemmatized_tokens = [lemmatizer.lemmatize(token) for token in filtered_tokens]\n",
    "     # Convertir la lista de tokens en un texto nuevamente\n",
    "    processed_text = ' '.join(lemmatized_tokens)\n",
    "     # Extraer los keywords y sus puntuajes de relevancia utilizando Rake\n",
    "    r.extract_keywords_from_text(processed_text)\n",
    "    keywords_scores = r.get_word_degrees()\n",
    "     # Agregar los keywords y sus puntuajes a las listas correspondientes\n",
    "    keywords_list.append(list(keywords_scores.keys()))\n",
    "    scores_list.append(list(keywords_scores.values()))\n",
    "\n",
    "# Agregar las listas de keywords y puntuajes al DataFrame original\n",
    "data['keywords'] = keywords_list\n",
    "data['scores'] = scores_list\n",
    "\n"
   ]
  },
  {
   "cell_type": "code",
   "execution_count": 217,
   "metadata": {},
   "outputs": [
    {
     "name": "stdout",
     "output_type": "stream",
     "text": [
      "                             title  \\\n",
      "0                        Toy Story   \n",
      "1                          Jumanji   \n",
      "2                 Grumpier Old Men   \n",
      "3                Waiting to Exhale   \n",
      "4      Father of the Bride Part II   \n",
      "...                            ...   \n",
      "41299          The Burkittsville 7   \n",
      "41300              Caged Heat 3000   \n",
      "41301          Century of Birthing   \n",
      "41302             Satan Triumphant   \n",
      "41303                     Queerama   \n",
      "\n",
      "                                                keywords  \\\n",
      "0      [toy, story, led, woody, andy, live, happily, ...   \n",
      "1      [jumanji, sibling, judy, peter, discover, ench...   \n",
      "2      [grumpier, old, men, family, wedding, reignite...   \n",
      "3      [waiting, exhale, cheated, mistreated, stepped...   \n",
      "4      [father, bride, part, ii, george, banks, recov...   \n",
      "...                                                  ...   \n",
      "41299  [burkittsville, 7, film, archivist, revisits, ...   \n",
      "41300  [caged, heat, 3000, year, ad, world, dangerous...   \n",
      "41301  [century, birthing, artist, struggle, finish, ...   \n",
      "41302  [satan, triumphant, small, town, live, two, br...   \n",
      "41303  [queerama, 50, year, decriminalisation, homose...   \n",
      "\n",
      "                                                  scores  \n",
      "0      [9, 4, 4, 12, 10, 5, 5, 5, 6, 6, 14, 6, 6, 6, ...  \n",
      "1      [12, 12, 12, 12, 12, 12, 12, 24, 12, 12, 12, 1...  \n",
      "2      [9, 9, 9, 9, 9, 9, 9, 9, 9, 6, 6, 6, 6, 6, 13,...  \n",
      "3      [12, 3, 3, 2, 2, 3, 3, 3, 9, 9, 9, 9, 9, 9, 9,...  \n",
      "4      [8, 8, 8, 8, 20, 8, 8, 8, 1, 2, 2, 3, 3, 1, 1,...  \n",
      "...                                                  ...  \n",
      "41299   [8, 8, 8, 8, 8, 8, 8, 8, 8, 8, 8, 8, 8, 8, 8, 8]  \n",
      "41300  [10, 10, 13, 13, 3, 1, 10, 10, 10, 10, 10, 10,...  \n",
      "41301           [10, 10, 10, 10, 10, 10, 10, 10, 10, 10]  \n",
      "41302  [7, 7, 7, 7, 7, 7, 21, 20, 59, 8, 8, 22, 18, 8...  \n",
      "41303  [6, 6, 6, 6, 6, 6, 10, 10, 10, 10, 10, 10, 10,...  \n",
      "\n",
      "[41304 rows x 3 columns]\n"
     ]
    }
   ],
   "source": [
    "# Comprobamos la existencia de keywords y scores\n",
    "print(data[['title', 'keywords', 'scores']])"
   ]
  },
  {
   "cell_type": "code",
   "execution_count": 216,
   "metadata": {},
   "outputs": [
    {
     "data": {
      "text/plain": [
       "Index(['title', 'overview', 'keywords', 'scores'], dtype='object')"
      ]
     },
     "execution_count": 216,
     "metadata": {},
     "output_type": "execute_result"
    }
   ],
   "source": [
    "data.columns"
   ]
  },
  {
   "cell_type": "code",
   "execution_count": 218,
   "metadata": {},
   "outputs": [],
   "source": [
    "# Ya podemos deshacernos de la columna 'overview'\n",
    "data.drop(columns=['overview'],inplace=True)"
   ]
  },
  {
   "cell_type": "code",
   "execution_count": 223,
   "metadata": {},
   "outputs": [
    {
     "data": {
      "text/html": [
       "<div>\n",
       "<style scoped>\n",
       "    .dataframe tbody tr th:only-of-type {\n",
       "        vertical-align: middle;\n",
       "    }\n",
       "\n",
       "    .dataframe tbody tr th {\n",
       "        vertical-align: top;\n",
       "    }\n",
       "\n",
       "    .dataframe thead th {\n",
       "        text-align: right;\n",
       "    }\n",
       "</style>\n",
       "<table border=\"1\" class=\"dataframe\">\n",
       "  <thead>\n",
       "    <tr style=\"text-align: right;\">\n",
       "      <th></th>\n",
       "      <th>title</th>\n",
       "      <th>keywords</th>\n",
       "      <th>scores</th>\n",
       "    </tr>\n",
       "  </thead>\n",
       "  <tbody>\n",
       "    <tr>\n",
       "      <th>0</th>\n",
       "      <td>Toy Story</td>\n",
       "      <td>toy story led woody andy live happily room bir...</td>\n",
       "      <td>[9, 4, 4, 12, 10, 5, 5, 5, 6, 6, 14, 6, 6, 6, ...</td>\n",
       "    </tr>\n",
       "    <tr>\n",
       "      <th>1</th>\n",
       "      <td>Jumanji</td>\n",
       "      <td>jumanji sibling judy peter discover enchanted ...</td>\n",
       "      <td>[12, 12, 12, 12, 12, 12, 12, 24, 12, 12, 12, 1...</td>\n",
       "    </tr>\n",
       "    <tr>\n",
       "      <th>2</th>\n",
       "      <td>Grumpier Old Men</td>\n",
       "      <td>grumpier old men family wedding reignites anci...</td>\n",
       "      <td>[9, 9, 9, 9, 9, 9, 9, 9, 9, 6, 6, 6, 6, 6, 13,...</td>\n",
       "    </tr>\n",
       "    <tr>\n",
       "      <th>3</th>\n",
       "      <td>Waiting to Exhale</td>\n",
       "      <td>waiting exhale cheated mistreated stepped woma...</td>\n",
       "      <td>[12, 3, 3, 2, 2, 3, 3, 3, 9, 9, 9, 9, 9, 9, 9,...</td>\n",
       "    </tr>\n",
       "    <tr>\n",
       "      <th>4</th>\n",
       "      <td>Father of the Bride Part II</td>\n",
       "      <td>father bride part ii george banks recovered da...</td>\n",
       "      <td>[8, 8, 8, 8, 20, 8, 8, 8, 1, 2, 2, 3, 3, 1, 1,...</td>\n",
       "    </tr>\n",
       "  </tbody>\n",
       "</table>\n",
       "</div>"
      ],
      "text/plain": [
       "                         title  \\\n",
       "0                    Toy Story   \n",
       "1                      Jumanji   \n",
       "2             Grumpier Old Men   \n",
       "3            Waiting to Exhale   \n",
       "4  Father of the Bride Part II   \n",
       "\n",
       "                                            keywords  \\\n",
       "0  toy story led woody andy live happily room bir...   \n",
       "1  jumanji sibling judy peter discover enchanted ...   \n",
       "2  grumpier old men family wedding reignites anci...   \n",
       "3  waiting exhale cheated mistreated stepped woma...   \n",
       "4  father bride part ii george banks recovered da...   \n",
       "\n",
       "                                              scores  \n",
       "0  [9, 4, 4, 12, 10, 5, 5, 5, 6, 6, 14, 6, 6, 6, ...  \n",
       "1  [12, 12, 12, 12, 12, 12, 12, 24, 12, 12, 12, 1...  \n",
       "2  [9, 9, 9, 9, 9, 9, 9, 9, 9, 6, 6, 6, 6, 6, 13,...  \n",
       "3  [12, 3, 3, 2, 2, 3, 3, 3, 9, 9, 9, 9, 9, 9, 9,...  \n",
       "4  [8, 8, 8, 8, 20, 8, 8, 8, 1, 2, 2, 3, 3, 1, 1,...  "
      ]
     },
     "execution_count": 223,
     "metadata": {},
     "output_type": "execute_result"
    }
   ],
   "source": [
    "data.head()"
   ]
  },
  {
   "attachments": {},
   "cell_type": "markdown",
   "metadata": {},
   "source": [
    "___\n",
    "3. Vectorización de texto (de los keywords)\n",
    "___"
   ]
  },
  {
   "cell_type": "code",
   "execution_count": 222,
   "metadata": {},
   "outputs": [],
   "source": [
    "# Convertimos el contenido de 'keywords' a minúsculas\n",
    "data['keywords'] = data['keywords'].apply(lambda x: [word.lower() for word in x])\n",
    "\n",
    "# Convertimos cada lista de palabras en una cadena de texto donde las palabras estarán separadas por espacios.\n",
    "data['keywords'] = data['keywords'].apply(lambda x: ' '.join(x))\n",
    "\n",
    "# Obtenemos la lista de keywords y scores\n",
    "keywords = data['keywords']\n",
    "scores = data['scores']\n",
    "\n",
    "# Creamos una instancia de CountVectorizer\n",
    "vectorizer = CountVectorizer()\n",
    "\n",
    "# Ajustamos y transformamos los keywords en vectores\n",
    "vectores_keywords = vectorizer.fit_transform(keywords)\n",
    "\n"
   ]
  },
  {
   "cell_type": "code",
   "execution_count": 225,
   "metadata": {},
   "outputs": [
    {
     "data": {
      "text/plain": [
       "(41304, 75199)"
      ]
     },
     "execution_count": 225,
     "metadata": {},
     "output_type": "execute_result"
    }
   ],
   "source": [
    "vectores_keywords.shape\n",
    "# tenemos 41304 vectores de 75199 palabras únicas"
   ]
  },
  {
   "cell_type": "code",
   "execution_count": 224,
   "metadata": {},
   "outputs": [
    {
     "name": "stdout",
     "output_type": "stream",
     "text": [
      "[[0 0 0 ... 0 0 0]\n",
      " [0 0 0 ... 0 0 0]\n",
      " [0 0 0 ... 0 0 0]\n",
      " ...\n",
      " [0 0 0 ... 0 0 0]\n",
      " [0 0 0 ... 0 0 0]\n",
      " [0 0 0 ... 0 0 0]]\n"
     ]
    }
   ],
   "source": [
    "# Imprimimos los vectores para su comprobación visual\n",
    "print(vectores_keywords.toarray())  # Vectores de los keywords"
   ]
  },
  {
   "cell_type": "markdown",
   "metadata": {},
   "source": [
    "___\n",
    "4. Cálculo de similitud.\n",
    "___"
   ]
  },
  {
   "cell_type": "code",
   "execution_count": 227,
   "metadata": {},
   "outputs": [
    {
     "name": "stdout",
     "output_type": "stream",
     "text": [
      "Matriz de similitud:\n",
      "[[1.         0.03149704 0.         ... 0.         0.02620712 0.        ]\n",
      " [0.03149704 1.         0.05634362 ... 0.05270463 0.04622502 0.0347524 ]\n",
      " [0.         0.05634362 1.         ... 0.         0.02344036 0.03524537]\n",
      " ...\n",
      " [0.         0.05270463 0.         ... 1.         0.         0.06593805]\n",
      " [0.02620712 0.04622502 0.02344036 ... 0.         1.         0.02891575]\n",
      " [0.         0.0347524  0.03524537 ... 0.06593805 0.02891575 1.        ]]\n"
     ]
    }
   ],
   "source": [
    "from sklearn.metrics.pairwise import cosine_similarity\n",
    " # Calcular la similitud del coseno entre los vectores de keywords\n",
    "similitud = cosine_similarity(vectores_keywords)\n",
    " # Imprimir la matriz de similitud\n",
    "print(\"Matriz de similitud:\")\n",
    "print(similitud)"
   ]
  },
  {
   "cell_type": "code",
   "execution_count": 233,
   "metadata": {},
   "outputs": [
    {
     "data": {
      "text/plain": [
       "(41304, 41304)"
      ]
     },
     "execution_count": 233,
     "metadata": {},
     "output_type": "execute_result"
    }
   ],
   "source": [
    "similitud.shape"
   ]
  },
  {
   "attachments": {},
   "cell_type": "markdown",
   "metadata": {},
   "source": [
    "___\n",
    "5. La función de Recomendación.\n",
    "___"
   ]
  },
  {
   "cell_type": "code",
   "execution_count": 276,
   "metadata": {},
   "outputs": [
    {
     "name": "stdout",
     "output_type": "stream",
     "text": [
      "(41304, 41304)\n"
     ]
    }
   ],
   "source": [
    "# para implementarla en main.py en la FastAPI voy a intentar exportar los datasets necesarios en csv\n",
    "print(similitud.shape)\n",
    "df_similitud = pd.DataFrame(similitud)\n",
    "# df_similitud.to_csv('similitud.csv',index=False)\n",
    "# VERY BAD IDEA - el archivo resultante es de tamaño: 16.4 GB (17,649,255,429 bytes)\n"
   ]
  },
  {
   "cell_type": "markdown",
   "metadata": {},
   "source": [
    "### Idea innovadora de un dataset preparado de recomendaciones\n",
    "> Consiste en crear un dataset usando el modelo ML en local, con 2 columnas, 'title' y 'recomendaciones'\n",
    "A ver cuánto ocupa el archivo resultante exportado a CSV"
   ]
  },
  {
   "cell_type": "code",
   "execution_count": 286,
   "metadata": {},
   "outputs": [
    {
     "name": "stdout",
     "output_type": "stream",
     "text": [
      "                                                   title  \\\n",
      "11                           Dracula: Dead and Loving It   \n",
      "18                        Ace Ventura: When Nature Calls   \n",
      "38                              Cry, the Beloved Country   \n",
      "60                                    Mr. Holland's Opus   \n",
      "61     Don't Be a Menace to South Central While Drink...   \n",
      "...                                                  ...   \n",
      "41281                             Blood, Sweat and Tears   \n",
      "41285                    The Scheming Gambler's Paradise   \n",
      "41292                   Pooh's Heffalump Halloween Movie   \n",
      "41293                                   The One-Man Band   \n",
      "41296                          St. Michael Had a Rooster   \n",
      "\n",
      "                                                overview  \\\n",
      "11     When a lawyer shows up at the vampire's doorst...   \n",
      "18     Summoned from an ashram in Tibet, Ace finds hi...   \n",
      "38     A South-African preacher goes to search for hi...   \n",
      "60     In 1965, passionate musician Glenn Holland tak...   \n",
      "61     When Ashtray (Shawn Wayans) moves to South Cen...   \n",
      "...                                                  ...   \n",
      "41281  Bloed, Zweet en Tranen (Blood, Sweat and Tears...   \n",
      "41285  A combination gambling den and bawdy house is ...   \n",
      "41292  It's Halloween in the 100 Acre Wood, and Roo's...   \n",
      "41293  A band-leader has arranged seven chairs for th...   \n",
      "41296  Sentenced to life imprisonment for illegal act...   \n",
      "\n",
      "                          genres_clean  \n",
      "11                 ['Comedy' 'Horror']  \n",
      "18      ['Crime' 'Comedy' 'Adventure']  \n",
      "38                           ['Drama']  \n",
      "60          ['Music' 'Drama' 'Family']  \n",
      "61                          ['Comedy']  \n",
      "...                                ...  \n",
      "41281                        ['Drama']  \n",
      "41285                               []  \n",
      "41292           ['Animation' 'Family']  \n",
      "41293  ['Fantasy' 'Action' 'Thriller']  \n",
      "41296                               []  \n",
      "\n",
      "[9035 rows x 3 columns]\n"
     ]
    }
   ],
   "source": [
    "# Create a new dataframe with rows that contain rare characters in the 'title' column\n",
    "df_rare_chars = df_modelo[df_modelo['title'].str.contains('[^a-zA-Z0-9\\s]', regex=True)]\n",
    "\n",
    "# Print the resulting dataframe\n",
    "print(df_rare_chars)"
   ]
  },
  {
   "cell_type": "code",
   "execution_count": 287,
   "metadata": {},
   "outputs": [],
   "source": [
    "def recomendar_peliculas(titulo, similitud, df_modelo, num_recomendaciones=5):\n",
    "    # Convertir el título a minúsculas\n",
    "    titulo = titulo.lower()\n",
    "\n",
    "    # Buscar películas que contengan el título proporcionado\n",
    "    peliculas_coincidentes = df_modelo[df_modelo['title'].str.lower().str.contains(titulo, regex=False)]\n",
    "    if len(peliculas_coincidentes) == 0:\n",
    "        return \"No se encontraron películas coincidentes\"\n",
    "    \n",
    "    # Obtener el índice de la primera película coincidente\n",
    "    indice_pelicula = peliculas_coincidentes.index[0]\n",
    "\n",
    "    # Obtener las puntuaciones de similitud de la película con otras películas\n",
    "    puntuaciones_similitud = list(enumerate(similitud[indice_pelicula]))\n",
    "\n",
    "    # Ordenar las películas por puntuaciones de similitud en orden descendente\n",
    "    puntuaciones_similitud = sorted(puntuaciones_similitud, key=lambda x: x[1], reverse=True)\n",
    "\n",
    "    # Excluir la película de entrada de las recomendaciones\n",
    "    puntuaciones_similitud = [p for p in puntuaciones_similitud if p[0] != indice_pelicula]\n",
    "\n",
    "    # Obtener los índices de las películas recomendadas\n",
    "    indices_recomendados = [i[0] for i in puntuaciones_similitud[:num_recomendaciones]]\n",
    "\n",
    "    # Obtener los títulos de las películas recomendadas\n",
    "    peliculas_recomendadas = df_modelo.loc[indices_recomendados, 'title']\n",
    "    return peliculas_recomendadas.tolist()\n"
   ]
  },
  {
   "cell_type": "code",
   "execution_count": 288,
   "metadata": {},
   "outputs": [],
   "source": [
    "# ML\n",
    "# @app.get('/recomendacion/{titulo}')\n",
    "def recomendacion(titulo):\n",
    "    '''\n",
    "    Ingresas un nombre de película y te recomienda las similares en una lista\n",
    "    '''\n",
    "    \n",
    "    peliculas_recomendadas = recomendar_peliculas(titulo, similitud, df_modelo)\n",
    "    return {'lista recomendada': peliculas_recomendadas}"
   ]
  },
  {
   "cell_type": "code",
   "execution_count": null,
   "metadata": {},
   "outputs": [],
   "source": [
    "def generar_recomendaciones(df):\n",
    "    recomendaciones = []  # Lista para almacenar las recomendaciones\n",
    "    for titulo in df['title']:\n",
    "        # Llamar a la función recomendar_peliculas o mejor_recomendacion\n",
    "        # y pasar el título como parámetro\n",
    "        recomendacion = recomendar_peliculas(titulo, similitud, df_modelo)\n",
    "        recomendaciones.append(recomendacion)  # Agregar la recomendación a la lista\n",
    "    df_recomendaciones = pd.DataFrame({'title': df['title'], 'recomendaciones': recomendaciones})\n",
    "    return df_recomendaciones\n",
    "\n",
    "# Llamar a la función para generar las recomendaciones en el dataset df_modelo\n",
    "df_recomendaciones = generar_recomendaciones(df_modelo)\n",
    "\n",
    "# 27 minutos\n",
    "\n"
   ]
  },
  {
   "cell_type": "code",
   "execution_count": 302,
   "metadata": {},
   "outputs": [],
   "source": [
    "\n",
    "# Cargar el archivo df_recomendaciones.csv como un dataframe\n",
    "df_recomendaciones = pd.read_csv('./recomendaciones.csv')\n",
    "\n",
    "# Definir la función de recomendación\n",
    "def recomendacion2(titulo):\n",
    "    # Buscar el título en el dataframe\n",
    "    filtro = df_recomendaciones['title'] == titulo\n",
    "    if filtro.any():\n",
    "        # Obtener las recomendaciones para el título dado\n",
    "        recomendaciones = df_recomendaciones.loc[filtro, 'recomendaciones'].values[0]\n",
    "        return {'lista recomendada': recomendaciones}\n",
    "    else:\n",
    "        return {'error': 'El título no se encuentra en la base de datos'}"
   ]
  },
  {
   "cell_type": "code",
   "execution_count": 303,
   "metadata": {},
   "outputs": [
    {
     "data": {
      "text/plain": [
       "Index(['title', 'recomendaciones'], dtype='object')"
      ]
     },
     "execution_count": 303,
     "metadata": {},
     "output_type": "execute_result"
    }
   ],
   "source": [
    "df_recomendaciones.columns"
   ]
  },
  {
   "cell_type": "code",
   "execution_count": 311,
   "metadata": {},
   "outputs": [
    {
     "data": {
      "text/plain": [
       "{'lista recomendada': \"['Slaves of New York', 'Super Capers', 'Max Steel', 'X-Men', 'Sex and the City']\"}"
      ]
     },
     "execution_count": 311,
     "metadata": {},
     "output_type": "execute_result"
    }
   ],
   "source": [
    "recomendacion2('The Phantom')"
   ]
  },
  {
   "cell_type": "code",
   "execution_count": 298,
   "metadata": {},
   "outputs": [
    {
     "data": {
      "text/html": [
       "<div>\n",
       "<style scoped>\n",
       "    .dataframe tbody tr th:only-of-type {\n",
       "        vertical-align: middle;\n",
       "    }\n",
       "\n",
       "    .dataframe tbody tr th {\n",
       "        vertical-align: top;\n",
       "    }\n",
       "\n",
       "    .dataframe thead th {\n",
       "        text-align: right;\n",
       "    }\n",
       "</style>\n",
       "<table border=\"1\" class=\"dataframe\">\n",
       "  <thead>\n",
       "    <tr style=\"text-align: right;\">\n",
       "      <th></th>\n",
       "      <th>title</th>\n",
       "      <th>recomendaciones</th>\n",
       "    </tr>\n",
       "  </thead>\n",
       "  <tbody>\n",
       "    <tr>\n",
       "      <th>28065</th>\n",
       "      <td>Satellite in the Sky</td>\n",
       "      <td>[The Mutations, Master of the World, Antarctic...</td>\n",
       "    </tr>\n",
       "    <tr>\n",
       "      <th>23721</th>\n",
       "      <td>Dead Souls</td>\n",
       "      <td>[Signs, Naked, The Haunted, Yours, Mine and Ou...</td>\n",
       "    </tr>\n",
       "    <tr>\n",
       "      <th>17988</th>\n",
       "      <td>Three Steps Above Heaven</td>\n",
       "      <td>[Doomed Love, Winter Cherries, The Experience,...</td>\n",
       "    </tr>\n",
       "    <tr>\n",
       "      <th>10953</th>\n",
       "      <td>The Howards of Virginia</td>\n",
       "      <td>[Day of the Outlaw, Basil, The Space Between U...</td>\n",
       "    </tr>\n",
       "    <tr>\n",
       "      <th>40713</th>\n",
       "      <td>Success</td>\n",
       "      <td>[Adam &amp; Steve, The Visitor, Dear Heart, Hungry...</td>\n",
       "    </tr>\n",
       "    <tr>\n",
       "      <th>15822</th>\n",
       "      <td>The Nun</td>\n",
       "      <td>[Story of Women, A Self-Made Hero, Red Tails, ...</td>\n",
       "    </tr>\n",
       "    <tr>\n",
       "      <th>1904</th>\n",
       "      <td>Candleshoe</td>\n",
       "      <td>[In Search of the Castaways, Saving Mr. Banks,...</td>\n",
       "    </tr>\n",
       "    <tr>\n",
       "      <th>34576</th>\n",
       "      <td>The People Speak</td>\n",
       "      <td>[C.S.A.: The Confederate States of America, 13...</td>\n",
       "    </tr>\n",
       "  </tbody>\n",
       "</table>\n",
       "</div>"
      ],
      "text/plain": [
       "                          title  \\\n",
       "28065      Satellite in the Sky   \n",
       "23721                Dead Souls   \n",
       "17988  Three Steps Above Heaven   \n",
       "10953   The Howards of Virginia   \n",
       "40713                   Success   \n",
       "15822                   The Nun   \n",
       "1904                 Candleshoe   \n",
       "34576          The People Speak   \n",
       "\n",
       "                                         recomendaciones  \n",
       "28065  [The Mutations, Master of the World, Antarctic...  \n",
       "23721  [Signs, Naked, The Haunted, Yours, Mine and Ou...  \n",
       "17988  [Doomed Love, Winter Cherries, The Experience,...  \n",
       "10953  [Day of the Outlaw, Basil, The Space Between U...  \n",
       "40713  [Adam & Steve, The Visitor, Dear Heart, Hungry...  \n",
       "15822  [Story of Women, A Self-Made Hero, Red Tails, ...  \n",
       "1904   [In Search of the Castaways, Saving Mr. Banks,...  \n",
       "34576  [C.S.A.: The Confederate States of America, 13...  "
      ]
     },
     "execution_count": 298,
     "metadata": {},
     "output_type": "execute_result"
    }
   ],
   "source": [
    "# Guardar el nuevo dataset en un archivo CSV\n",
    "df_recomendaciones.to_csv('recomendaciones.csv', index=False)\n",
    "\n",
    "df_recomendaciones.sample(8)"
   ]
  },
  {
   "cell_type": "code",
   "execution_count": null,
   "metadata": {},
   "outputs": [],
   "source": []
  },
  {
   "cell_type": "code",
   "execution_count": 263,
   "metadata": {},
   "outputs": [
    {
     "name": "stdout",
     "output_type": "stream",
     "text": [
      "['Toy Story 2', 'Toy Story 3', 'The Sunshine Makers', 'John Apple Jack', 'The Christine Jorgensen Story']\n"
     ]
    }
   ],
   "source": [
    "titulo = \"Toy Story\"\n",
    "recomendaciones = recomendar_peliculas(titulo, similitud, df_modelo)\n",
    "print(recomendaciones)"
   ]
  },
  {
   "cell_type": "code",
   "execution_count": 272,
   "metadata": {},
   "outputs": [
    {
     "data": {
      "text/plain": [
       "{'lista recomendada': ['My Brother the Pig',\n",
       "  '11 Minutes',\n",
       "  'The Brain',\n",
       "  'Now You Know',\n",
       "  'Palmipedarium']}"
      ]
     },
     "execution_count": 272,
     "metadata": {},
     "output_type": "execute_result"
    }
   ],
   "source": [
    "recomendacion('Babe')\n"
   ]
  },
  {
   "cell_type": "code",
   "execution_count": null,
   "metadata": {},
   "outputs": [],
   "source": []
  },
  {
   "cell_type": "code",
   "execution_count": 228,
   "metadata": {},
   "outputs": [
    {
     "data": {
      "text/plain": [
       "Index(['index', 'id', 'budget', 'original_language', 'overview', 'popularity',\n",
       "       'release_date', 'revenue', 'runtime', 'spoken_languages', 'status',\n",
       "       'tagline', 'title', 'vote_average', 'vote_count', 'return',\n",
       "       'release_year', 'directed_by', 'franchise', 'produced_by',\n",
       "       'produced_in', 'genres_clean'],\n",
       "      dtype='object')"
      ]
     },
     "execution_count": 228,
     "metadata": {},
     "output_type": "execute_result"
    }
   ],
   "source": [
    "df.columns"
   ]
  },
  {
   "cell_type": "code",
   "execution_count": 229,
   "metadata": {},
   "outputs": [
    {
     "data": {
      "text/plain": [
       "Index(['title', 'overview', 'genres_clean'], dtype='object')"
      ]
     },
     "execution_count": 229,
     "metadata": {},
     "output_type": "execute_result"
    }
   ],
   "source": [
    "df_modelo.columns"
   ]
  },
  {
   "cell_type": "code",
   "execution_count": 230,
   "metadata": {},
   "outputs": [
    {
     "data": {
      "text/plain": [
       "Index(['title', 'keywords', 'scores'], dtype='object')"
      ]
     },
     "execution_count": 230,
     "metadata": {},
     "output_type": "execute_result"
    }
   ],
   "source": [
    "data.columns"
   ]
  },
  {
   "attachments": {},
   "cell_type": "markdown",
   "metadata": {},
   "source": [
    "Defining a function to get recommendations"
   ]
  },
  {
   "cell_type": "code",
   "execution_count": null,
   "metadata": {},
   "outputs": [],
   "source": [
    "\n",
    "def recomendaciones(titulo, cosine_sim = cosine_sim):\n",
    "    # Getting the index of the movie that matches the title\n",
    "    idx = model_data[model_data['title'] == str(titulo).lower()].index[0]\n",
    "    # Getting the similarity scores\n",
    "    sim_scores = list(enumerate(cosine_sim[idx]))\n",
    "    #Sorting the movies based on the similarity scores\n",
    "    sim_scores = sorted(sim_scores, key=lambda x: x[1], reverse=True)\n",
    "\n",
    "    # Getting the top 5 recommendations\n",
    "    sim_scores = sim_scores[1:6]\n",
    "    movie_indices = [i[0] for i in sim_scores]\n",
    "    recommendations=list(model_data['title'].iloc[movie_indices].str.title())\n",
    "    return {'lista recomendada': recommendations} "
   ]
  },
  {
   "attachments": {},
   "cell_type": "markdown",
   "metadata": {},
   "source": [
    "Testing the model"
   ]
  },
  {
   "cell_type": "code",
   "execution_count": null,
   "metadata": {},
   "outputs": [],
   "source": [
    "recomendaciones('batman')"
   ]
  },
  {
   "cell_type": "code",
   "execution_count": null,
   "metadata": {},
   "outputs": [],
   "source": [
    "recomendaciones('the love letter')"
   ]
  },
  {
   "cell_type": "code",
   "execution_count": null,
   "metadata": {},
   "outputs": [],
   "source": [
    "recomendaciones('minions')"
   ]
  },
  {
   "cell_type": "code",
   "execution_count": null,
   "metadata": {},
   "outputs": [],
   "source": [
    "recomendaciones('the hunger games')"
   ]
  },
  {
   "cell_type": "code",
   "execution_count": null,
   "metadata": {},
   "outputs": [],
   "source": [
    "recomendaciones('toy story')"
   ]
  },
  {
   "cell_type": "code",
   "execution_count": null,
   "metadata": {},
   "outputs": [],
   "source": [
    "recomendaciones('Pride And Prejudice')"
   ]
  },
  {
   "attachments": {},
   "cell_type": "markdown",
   "metadata": {},
   "source": [
    "This works just fine on my pc, which, to be fair, has a lot of resources. However, I know I probably will not be able to use this algorithm with the full data on the free deploy since the RAM I get is much less than what I have on my local machine. So, for the API what I am going to do is take a random sample of the data (with a size of half the data) and then just use that for the API. I am not changing my alogorithm because I think the recommendations it is giving are kind of spot on, so if you actually want to try it in its full pontential, just download this file and run the previous code if you have a computer with at least 16gb of RAM. I am going put a default in the API for the function so that if a movie you search is not on the data it gives you as recommendation the top 5 most popular movies (I am going to get this information from the EDA)."
   ]
  },
  {
   "cell_type": "code",
   "execution_count": null,
   "metadata": {},
   "outputs": [],
   "source": [
    "model_data.shape"
   ]
  },
  {
   "attachments": {},
   "cell_type": "markdown",
   "metadata": {},
   "source": [
    "Since I am taking as a sample half of the data, n=41278/2=20639"
   ]
  },
  {
   "cell_type": "code",
   "execution_count": null,
   "metadata": {},
   "outputs": [],
   "source": [
    "sample_md=model_data.sample(n=20639, random_state=42)"
   ]
  },
  {
   "attachments": {},
   "cell_type": "markdown",
   "metadata": {},
   "source": [
    "Reseting the index to avoid problems "
   ]
  },
  {
   "cell_type": "code",
   "execution_count": null,
   "metadata": {},
   "outputs": [],
   "source": [
    "sample_md=sample_md.reset_index(drop=True)"
   ]
  },
  {
   "cell_type": "code",
   "execution_count": null,
   "metadata": {},
   "outputs": [],
   "source": [
    "sample_md"
   ]
  },
  {
   "attachments": {},
   "cell_type": "markdown",
   "metadata": {},
   "source": [
    "I am going to export this as a csv file to avoid doing all this transformations in the API. "
   ]
  },
  {
   "cell_type": "code",
   "execution_count": null,
   "metadata": {},
   "outputs": [],
   "source": [
    "sample_md.to_csv('ML_Data.csv')"
   ]
  },
  {
   "attachments": {},
   "cell_type": "markdown",
   "metadata": {},
   "source": [
    "Now, I am going to put together inside a function the model and leave out the vectorization steps."
   ]
  },
  {
   "cell_type": "code",
   "execution_count": null,
   "metadata": {},
   "outputs": [],
   "source": [
    "sample_md=pd.read_csv('Datasets\\ML_Data.csv')\n",
    "cv1 = CountVectorizer(stop_words='english')\n",
    "cv_matrix1 = cv1.fit_transform(sample_md['text'])\n",
    "cosine_sim1 = cosine_similarity(cv_matrix1,cv_matrix1)"
   ]
  },
  {
   "cell_type": "code",
   "execution_count": null,
   "metadata": {},
   "outputs": [],
   "source": [
    "def recomendaciones1(titulo):\n",
    "    try:\n",
    "        # Getting the index of the movie that matches the title\n",
    "        idx = sample_md[sample_md['title'] == str(titulo).lower()].index[0]\n",
    "        # Getting the similarity scores\n",
    "        sim_scores = list(enumerate(cosine_sim1[idx]))\n",
    "        #Sorting the movies based on the similarity scores\n",
    "        sim_scores = sorted(sim_scores, key=lambda x: x[1], reverse=True)\n",
    "\n",
    "        # Getting the top 5 recommendations\n",
    "        sim_scores = sim_scores[1:6]\n",
    "        movie_indices = [i[0] for i in sim_scores]\n",
    "        recommendations=list(sample_md['title'].iloc[movie_indices].str.title())\n",
    "        return {'lista recomendada': recommendations} \n",
    "    except:\n",
    "        return {'lista recomendada': ['Minions', 'Wonder Woman', 'Beauty and the Beast', 'Baby Driver', 'Big Hero 6']}"
   ]
  },
  {
   "cell_type": "code",
   "execution_count": 234,
   "metadata": {},
   "outputs": [
    {
     "ename": "NameError",
     "evalue": "name 'recomendaciones1' is not defined",
     "output_type": "error",
     "traceback": [
      "\u001b[1;31m---------------------------------------------------------------------------\u001b[0m",
      "\u001b[1;31mNameError\u001b[0m                                 Traceback (most recent call last)",
      "Cell \u001b[1;32mIn[234], line 1\u001b[0m\n\u001b[1;32m----> 1\u001b[0m recomendaciones1(\u001b[39m'\u001b[39m\u001b[39mtoy story\u001b[39m\u001b[39m'\u001b[39m)\n",
      "\u001b[1;31mNameError\u001b[0m: name 'recomendaciones1' is not defined"
     ]
    }
   ],
   "source": [
    "recomendaciones1('toy story')"
   ]
  },
  {
   "cell_type": "code",
   "execution_count": null,
   "metadata": {},
   "outputs": [],
   "source": [
    "#testing it with a movie in the sample data\n",
    "recomendaciones1('disconnect')"
   ]
  },
  {
   "cell_type": "code",
   "execution_count": null,
   "metadata": {},
   "outputs": [],
   "source": [
    "#testing it with a movie that is not in the sample data\n",
    "recomendaciones1('barbie')"
   ]
  },
  {
   "cell_type": "code",
   "execution_count": null,
   "metadata": {},
   "outputs": [],
   "source": [
    "recomendaciones1('minions')"
   ]
  }
 ],
 "metadata": {
  "kernelspec": {
   "display_name": "Python 3",
   "language": "python",
   "name": "python3"
  },
  "language_info": {
   "codemirror_mode": {
    "name": "ipython",
    "version": 3
   },
   "file_extension": ".py",
   "mimetype": "text/x-python",
   "name": "python",
   "nbconvert_exporter": "python",
   "pygments_lexer": "ipython3",
   "version": "3.11.0"
  },
  "orig_nbformat": 4
 },
 "nbformat": 4,
 "nbformat_minor": 2
}
