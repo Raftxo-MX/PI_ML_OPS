{
 "cells": [
  {
   "attachments": {},
   "cell_type": "markdown",
   "metadata": {},
   "source": [
    "### Ingesta de datos del proyecto PI_ML_OPS cohorte DTS-12 \n",
    "#### https://github.com/Raftxo-MX/PI_ML_OPS.git"
   ]
  },
  {
   "attachments": {},
   "cell_type": "markdown",
   "metadata": {},
   "source": [
    "Importamos las librerías necesarias en el proceso ETL\n"
   ]
  },
  {
   "cell_type": "code",
   "execution_count": 2,
   "metadata": {},
   "outputs": [],
   "source": [
    "import pandas as pd\n",
    "import numpy as np\n",
    "import matplotlib.pylab as plt\n",
    "import seaborn as sns\n",
    "plt.style.use('ggplot')"
   ]
  },
  {
   "attachments": {},
   "cell_type": "markdown",
   "metadata": {},
   "source": [
    "Cargamos los datos CSV en dataframes:"
   ]
  },
  {
   "cell_type": "code",
   "execution_count": 3,
   "metadata": {},
   "outputs": [
    {
     "name": "stderr",
     "output_type": "stream",
     "text": [
      "C:\\Users\\raftx\\AppData\\Local\\Temp\\ipykernel_17864\\3250179558.py:1: DtypeWarning: Columns (10) have mixed types. Specify dtype option on import or set low_memory=False.\n",
      "  movies_df = pd.read_csv('./data/movies_dataset.csv')\n"
     ]
    }
   ],
   "source": [
    "movies_df = pd.read_csv('./data/movies_dataset.csv')\n",
    "credits_df = pd.read_csv('./data/credits.csv')"
   ]
  },
  {
   "cell_type": "code",
   "execution_count": 6,
   "metadata": {},
   "outputs": [
    {
     "ename": "ValueError",
     "evalue": "invalid literal for int() with base 10: '/ff9qCepilowshEtG2GYWwzt2bs4.jpg'",
     "output_type": "error",
     "traceback": [
      "\u001b[1;31m---------------------------------------------------------------------------\u001b[0m",
      "\u001b[1;31mTypeError\u001b[0m                                 Traceback (most recent call last)",
      "File \u001b[1;32mc:\\Python311\\Lib\\site-packages\\pandas\\_libs\\parsers.pyx:1131\u001b[0m, in \u001b[0;36mpandas._libs.parsers.TextReader._convert_tokens\u001b[1;34m()\u001b[0m\n",
      "\u001b[1;31mTypeError\u001b[0m: Cannot cast array data from dtype('O') to dtype('int32') according to the rule 'safe'",
      "\nDuring handling of the above exception, another exception occurred:\n",
      "\u001b[1;31mValueError\u001b[0m                                Traceback (most recent call last)",
      "\u001b[1;32md:\\HENRY2023\\M7(PI)\\DTS-12\\PI_ML_OPS\\transform.ipynb Cell 6\u001b[0m in \u001b[0;36m3\n\u001b[0;32m      <a href='vscode-notebook-cell:/d%3A/HENRY2023/M7%28PI%29/DTS-12/PI_ML_OPS/transform.ipynb#Y226sZmlsZQ%3D%3D?line=0'>1</a>\u001b[0m \u001b[39m# Al retornarnos un DtypeWarning, intentamos ingestar movies_df\u001b[39;00m\n\u001b[0;32m      <a href='vscode-notebook-cell:/d%3A/HENRY2023/M7%28PI%29/DTS-12/PI_ML_OPS/transform.ipynb#Y226sZmlsZQ%3D%3D?line=1'>2</a>\u001b[0m \u001b[39m# indicando qué tipo queremos para cada columna\u001b[39;00m\n\u001b[1;32m----> <a href='vscode-notebook-cell:/d%3A/HENRY2023/M7%28PI%29/DTS-12/PI_ML_OPS/transform.ipynb#Y226sZmlsZQ%3D%3D?line=2'>3</a>\u001b[0m movies_df \u001b[39m=\u001b[39m pd\u001b[39m.\u001b[39;49mread_csv(\u001b[39m'\u001b[39;49m\u001b[39m./data/movies_dataset.csv\u001b[39;49m\u001b[39m'\u001b[39;49m,\n\u001b[0;32m      <a href='vscode-notebook-cell:/d%3A/HENRY2023/M7%28PI%29/DTS-12/PI_ML_OPS/transform.ipynb#Y226sZmlsZQ%3D%3D?line=3'>4</a>\u001b[0m                         dtype\u001b[39m=\u001b[39;49m{\u001b[39m'\u001b[39;49m\u001b[39madult\u001b[39;49m\u001b[39m'\u001b[39;49m:\u001b[39m'\u001b[39;49m\u001b[39mstr\u001b[39;49m\u001b[39m'\u001b[39;49m,\n\u001b[0;32m      <a href='vscode-notebook-cell:/d%3A/HENRY2023/M7%28PI%29/DTS-12/PI_ML_OPS/transform.ipynb#Y226sZmlsZQ%3D%3D?line=4'>5</a>\u001b[0m                                \u001b[39m'\u001b[39;49m\u001b[39mbelongs_to_collection\u001b[39;49m\u001b[39m'\u001b[39;49m:\u001b[39m'\u001b[39;49m\u001b[39mstr\u001b[39;49m\u001b[39m'\u001b[39;49m,\n\u001b[0;32m      <a href='vscode-notebook-cell:/d%3A/HENRY2023/M7%28PI%29/DTS-12/PI_ML_OPS/transform.ipynb#Y226sZmlsZQ%3D%3D?line=5'>6</a>\u001b[0m                                \u001b[39m'\u001b[39;49m\u001b[39mbudget\u001b[39;49m\u001b[39m'\u001b[39;49m:\u001b[39m'\u001b[39;49m\u001b[39mint\u001b[39;49m\u001b[39m'\u001b[39;49m,\n\u001b[0;32m      <a href='vscode-notebook-cell:/d%3A/HENRY2023/M7%28PI%29/DTS-12/PI_ML_OPS/transform.ipynb#Y226sZmlsZQ%3D%3D?line=6'>7</a>\u001b[0m                                \u001b[39m'\u001b[39;49m\u001b[39mgenres\u001b[39;49m\u001b[39m'\u001b[39;49m:\u001b[39m'\u001b[39;49m\u001b[39mstr\u001b[39;49m\u001b[39m'\u001b[39;49m,\n\u001b[0;32m      <a href='vscode-notebook-cell:/d%3A/HENRY2023/M7%28PI%29/DTS-12/PI_ML_OPS/transform.ipynb#Y226sZmlsZQ%3D%3D?line=7'>8</a>\u001b[0m                                \u001b[39m'\u001b[39;49m\u001b[39mhomepage\u001b[39;49m\u001b[39m'\u001b[39;49m:\u001b[39m'\u001b[39;49m\u001b[39mstr\u001b[39;49m\u001b[39m'\u001b[39;49m,\n\u001b[0;32m      <a href='vscode-notebook-cell:/d%3A/HENRY2023/M7%28PI%29/DTS-12/PI_ML_OPS/transform.ipynb#Y226sZmlsZQ%3D%3D?line=8'>9</a>\u001b[0m                                \u001b[39m'\u001b[39;49m\u001b[39mid\u001b[39;49m\u001b[39m'\u001b[39;49m:\u001b[39m'\u001b[39;49m\u001b[39mint\u001b[39;49m\u001b[39m'\u001b[39;49m,\n\u001b[0;32m     <a href='vscode-notebook-cell:/d%3A/HENRY2023/M7%28PI%29/DTS-12/PI_ML_OPS/transform.ipynb#Y226sZmlsZQ%3D%3D?line=9'>10</a>\u001b[0m                                \u001b[39m'\u001b[39;49m\u001b[39mimdb_id\u001b[39;49m\u001b[39m'\u001b[39;49m:\u001b[39m'\u001b[39;49m\u001b[39mstr\u001b[39;49m\u001b[39m'\u001b[39;49m,\n\u001b[0;32m     <a href='vscode-notebook-cell:/d%3A/HENRY2023/M7%28PI%29/DTS-12/PI_ML_OPS/transform.ipynb#Y226sZmlsZQ%3D%3D?line=10'>11</a>\u001b[0m                                \u001b[39m'\u001b[39;49m\u001b[39moriginal_language\u001b[39;49m\u001b[39m'\u001b[39;49m:\u001b[39m'\u001b[39;49m\u001b[39mstr\u001b[39;49m\u001b[39m'\u001b[39;49m,\n\u001b[0;32m     <a href='vscode-notebook-cell:/d%3A/HENRY2023/M7%28PI%29/DTS-12/PI_ML_OPS/transform.ipynb#Y226sZmlsZQ%3D%3D?line=11'>12</a>\u001b[0m                                \u001b[39m'\u001b[39;49m\u001b[39moriginal_title\u001b[39;49m\u001b[39m'\u001b[39;49m:\u001b[39m'\u001b[39;49m\u001b[39mstr\u001b[39;49m\u001b[39m'\u001b[39;49m,\n\u001b[0;32m     <a href='vscode-notebook-cell:/d%3A/HENRY2023/M7%28PI%29/DTS-12/PI_ML_OPS/transform.ipynb#Y226sZmlsZQ%3D%3D?line=12'>13</a>\u001b[0m                                \u001b[39m'\u001b[39;49m\u001b[39moverview\u001b[39;49m\u001b[39m'\u001b[39;49m:\u001b[39m'\u001b[39;49m\u001b[39mstr\u001b[39;49m\u001b[39m'\u001b[39;49m,\n\u001b[0;32m     <a href='vscode-notebook-cell:/d%3A/HENRY2023/M7%28PI%29/DTS-12/PI_ML_OPS/transform.ipynb#Y226sZmlsZQ%3D%3D?line=13'>14</a>\u001b[0m                                \u001b[39m'\u001b[39;49m\u001b[39mpopularity\u001b[39;49m\u001b[39m'\u001b[39;49m:\u001b[39m'\u001b[39;49m\u001b[39mstr\u001b[39;49m\u001b[39m'\u001b[39;49m,\n\u001b[0;32m     <a href='vscode-notebook-cell:/d%3A/HENRY2023/M7%28PI%29/DTS-12/PI_ML_OPS/transform.ipynb#Y226sZmlsZQ%3D%3D?line=14'>15</a>\u001b[0m                                \u001b[39m'\u001b[39;49m\u001b[39mposter_path\u001b[39;49m\u001b[39m'\u001b[39;49m:\u001b[39m'\u001b[39;49m\u001b[39mstr\u001b[39;49m\u001b[39m'\u001b[39;49m,\n\u001b[0;32m     <a href='vscode-notebook-cell:/d%3A/HENRY2023/M7%28PI%29/DTS-12/PI_ML_OPS/transform.ipynb#Y226sZmlsZQ%3D%3D?line=15'>16</a>\u001b[0m                                \u001b[39m'\u001b[39;49m\u001b[39mproduction_companies\u001b[39;49m\u001b[39m'\u001b[39;49m:\u001b[39m'\u001b[39;49m\u001b[39mstr\u001b[39;49m\u001b[39m'\u001b[39;49m,\n\u001b[0;32m     <a href='vscode-notebook-cell:/d%3A/HENRY2023/M7%28PI%29/DTS-12/PI_ML_OPS/transform.ipynb#Y226sZmlsZQ%3D%3D?line=16'>17</a>\u001b[0m                                \u001b[39m'\u001b[39;49m\u001b[39mproduction_countries\u001b[39;49m\u001b[39m'\u001b[39;49m:\u001b[39m'\u001b[39;49m\u001b[39mstr\u001b[39;49m\u001b[39m'\u001b[39;49m,\n\u001b[0;32m     <a href='vscode-notebook-cell:/d%3A/HENRY2023/M7%28PI%29/DTS-12/PI_ML_OPS/transform.ipynb#Y226sZmlsZQ%3D%3D?line=17'>18</a>\u001b[0m                                \u001b[39m'\u001b[39;49m\u001b[39mrelease_date\u001b[39;49m\u001b[39m'\u001b[39;49m:\u001b[39m'\u001b[39;49m\u001b[39mdatetime64[D]\u001b[39;49m\u001b[39m'\u001b[39;49m,\n\u001b[0;32m     <a href='vscode-notebook-cell:/d%3A/HENRY2023/M7%28PI%29/DTS-12/PI_ML_OPS/transform.ipynb#Y226sZmlsZQ%3D%3D?line=18'>19</a>\u001b[0m                                \u001b[39m'\u001b[39;49m\u001b[39mrevenue\u001b[39;49m\u001b[39m'\u001b[39;49m:\u001b[39m'\u001b[39;49m\u001b[39mint\u001b[39;49m\u001b[39m'\u001b[39;49m,\n\u001b[0;32m     <a href='vscode-notebook-cell:/d%3A/HENRY2023/M7%28PI%29/DTS-12/PI_ML_OPS/transform.ipynb#Y226sZmlsZQ%3D%3D?line=19'>20</a>\u001b[0m                                \u001b[39m'\u001b[39;49m\u001b[39mruntime\u001b[39;49m\u001b[39m'\u001b[39;49m:\u001b[39m'\u001b[39;49m\u001b[39mint\u001b[39;49m\u001b[39m'\u001b[39;49m,\n\u001b[0;32m     <a href='vscode-notebook-cell:/d%3A/HENRY2023/M7%28PI%29/DTS-12/PI_ML_OPS/transform.ipynb#Y226sZmlsZQ%3D%3D?line=20'>21</a>\u001b[0m                                \u001b[39m'\u001b[39;49m\u001b[39mspoken_languages\u001b[39;49m\u001b[39m'\u001b[39;49m:\u001b[39m'\u001b[39;49m\u001b[39mstr\u001b[39;49m\u001b[39m'\u001b[39;49m,\n\u001b[0;32m     <a href='vscode-notebook-cell:/d%3A/HENRY2023/M7%28PI%29/DTS-12/PI_ML_OPS/transform.ipynb#Y226sZmlsZQ%3D%3D?line=21'>22</a>\u001b[0m                                \u001b[39m'\u001b[39;49m\u001b[39mstatus\u001b[39;49m\u001b[39m'\u001b[39;49m:\u001b[39m'\u001b[39;49m\u001b[39mstr\u001b[39;49m\u001b[39m'\u001b[39;49m,\n\u001b[0;32m     <a href='vscode-notebook-cell:/d%3A/HENRY2023/M7%28PI%29/DTS-12/PI_ML_OPS/transform.ipynb#Y226sZmlsZQ%3D%3D?line=22'>23</a>\u001b[0m                                \u001b[39m'\u001b[39;49m\u001b[39mtagline\u001b[39;49m\u001b[39m'\u001b[39;49m:\u001b[39m'\u001b[39;49m\u001b[39mstr\u001b[39;49m\u001b[39m'\u001b[39;49m,\n\u001b[0;32m     <a href='vscode-notebook-cell:/d%3A/HENRY2023/M7%28PI%29/DTS-12/PI_ML_OPS/transform.ipynb#Y226sZmlsZQ%3D%3D?line=23'>24</a>\u001b[0m                                \u001b[39m'\u001b[39;49m\u001b[39mtitle\u001b[39;49m\u001b[39m'\u001b[39;49m:\u001b[39m'\u001b[39;49m\u001b[39mstr\u001b[39;49m\u001b[39m'\u001b[39;49m,\n\u001b[0;32m     <a href='vscode-notebook-cell:/d%3A/HENRY2023/M7%28PI%29/DTS-12/PI_ML_OPS/transform.ipynb#Y226sZmlsZQ%3D%3D?line=24'>25</a>\u001b[0m                                \u001b[39m'\u001b[39;49m\u001b[39mvideo\u001b[39;49m\u001b[39m'\u001b[39;49m:\u001b[39m'\u001b[39;49m\u001b[39mstr\u001b[39;49m\u001b[39m'\u001b[39;49m,\n\u001b[0;32m     <a href='vscode-notebook-cell:/d%3A/HENRY2023/M7%28PI%29/DTS-12/PI_ML_OPS/transform.ipynb#Y226sZmlsZQ%3D%3D?line=25'>26</a>\u001b[0m                                \u001b[39m'\u001b[39;49m\u001b[39mvote_average\u001b[39;49m\u001b[39m'\u001b[39;49m:\u001b[39m'\u001b[39;49m\u001b[39mfloat64\u001b[39;49m\u001b[39m'\u001b[39;49m,\n\u001b[0;32m     <a href='vscode-notebook-cell:/d%3A/HENRY2023/M7%28PI%29/DTS-12/PI_ML_OPS/transform.ipynb#Y226sZmlsZQ%3D%3D?line=26'>27</a>\u001b[0m                                \u001b[39m'\u001b[39;49m\u001b[39mvote_count\u001b[39;49m\u001b[39m'\u001b[39;49m:\u001b[39m'\u001b[39;49m\u001b[39mint\u001b[39;49m\u001b[39m'\u001b[39;49m,                               \n\u001b[0;32m     <a href='vscode-notebook-cell:/d%3A/HENRY2023/M7%28PI%29/DTS-12/PI_ML_OPS/transform.ipynb#Y226sZmlsZQ%3D%3D?line=27'>28</a>\u001b[0m                                },\n\u001b[0;32m     <a href='vscode-notebook-cell:/d%3A/HENRY2023/M7%28PI%29/DTS-12/PI_ML_OPS/transform.ipynb#Y226sZmlsZQ%3D%3D?line=28'>29</a>\u001b[0m                                low_memory\u001b[39m=\u001b[39;49m\u001b[39mFalse\u001b[39;49;00m)\n",
      "File \u001b[1;32mc:\\Python311\\Lib\\site-packages\\pandas\\io\\parsers\\readers.py:912\u001b[0m, in \u001b[0;36mread_csv\u001b[1;34m(filepath_or_buffer, sep, delimiter, header, names, index_col, usecols, dtype, engine, converters, true_values, false_values, skipinitialspace, skiprows, skipfooter, nrows, na_values, keep_default_na, na_filter, verbose, skip_blank_lines, parse_dates, infer_datetime_format, keep_date_col, date_parser, date_format, dayfirst, cache_dates, iterator, chunksize, compression, thousands, decimal, lineterminator, quotechar, quoting, doublequote, escapechar, comment, encoding, encoding_errors, dialect, on_bad_lines, delim_whitespace, low_memory, memory_map, float_precision, storage_options, dtype_backend)\u001b[0m\n\u001b[0;32m    899\u001b[0m kwds_defaults \u001b[39m=\u001b[39m _refine_defaults_read(\n\u001b[0;32m    900\u001b[0m     dialect,\n\u001b[0;32m    901\u001b[0m     delimiter,\n\u001b[1;32m   (...)\u001b[0m\n\u001b[0;32m    908\u001b[0m     dtype_backend\u001b[39m=\u001b[39mdtype_backend,\n\u001b[0;32m    909\u001b[0m )\n\u001b[0;32m    910\u001b[0m kwds\u001b[39m.\u001b[39mupdate(kwds_defaults)\n\u001b[1;32m--> 912\u001b[0m \u001b[39mreturn\u001b[39;00m _read(filepath_or_buffer, kwds)\n",
      "File \u001b[1;32mc:\\Python311\\Lib\\site-packages\\pandas\\io\\parsers\\readers.py:583\u001b[0m, in \u001b[0;36m_read\u001b[1;34m(filepath_or_buffer, kwds)\u001b[0m\n\u001b[0;32m    580\u001b[0m     \u001b[39mreturn\u001b[39;00m parser\n\u001b[0;32m    582\u001b[0m \u001b[39mwith\u001b[39;00m parser:\n\u001b[1;32m--> 583\u001b[0m     \u001b[39mreturn\u001b[39;00m parser\u001b[39m.\u001b[39;49mread(nrows)\n",
      "File \u001b[1;32mc:\\Python311\\Lib\\site-packages\\pandas\\io\\parsers\\readers.py:1704\u001b[0m, in \u001b[0;36mTextFileReader.read\u001b[1;34m(self, nrows)\u001b[0m\n\u001b[0;32m   1697\u001b[0m nrows \u001b[39m=\u001b[39m validate_integer(\u001b[39m\"\u001b[39m\u001b[39mnrows\u001b[39m\u001b[39m\"\u001b[39m, nrows)\n\u001b[0;32m   1698\u001b[0m \u001b[39mtry\u001b[39;00m:\n\u001b[0;32m   1699\u001b[0m     \u001b[39m# error: \"ParserBase\" has no attribute \"read\"\u001b[39;00m\n\u001b[0;32m   1700\u001b[0m     (\n\u001b[0;32m   1701\u001b[0m         index,\n\u001b[0;32m   1702\u001b[0m         columns,\n\u001b[0;32m   1703\u001b[0m         col_dict,\n\u001b[1;32m-> 1704\u001b[0m     ) \u001b[39m=\u001b[39m \u001b[39mself\u001b[39;49m\u001b[39m.\u001b[39;49m_engine\u001b[39m.\u001b[39;49mread(  \u001b[39m# type: ignore[attr-defined]\u001b[39;49;00m\n\u001b[0;32m   1705\u001b[0m         nrows\n\u001b[0;32m   1706\u001b[0m     )\n\u001b[0;32m   1707\u001b[0m \u001b[39mexcept\u001b[39;00m \u001b[39mException\u001b[39;00m:\n\u001b[0;32m   1708\u001b[0m     \u001b[39mself\u001b[39m\u001b[39m.\u001b[39mclose()\n",
      "File \u001b[1;32mc:\\Python311\\Lib\\site-packages\\pandas\\io\\parsers\\c_parser_wrapper.py:239\u001b[0m, in \u001b[0;36mCParserWrapper.read\u001b[1;34m(self, nrows)\u001b[0m\n\u001b[0;32m    236\u001b[0m         data \u001b[39m=\u001b[39m _concatenate_chunks(chunks)\n\u001b[0;32m    238\u001b[0m     \u001b[39melse\u001b[39;00m:\n\u001b[1;32m--> 239\u001b[0m         data \u001b[39m=\u001b[39m \u001b[39mself\u001b[39;49m\u001b[39m.\u001b[39;49m_reader\u001b[39m.\u001b[39;49mread(nrows)\n\u001b[0;32m    240\u001b[0m \u001b[39mexcept\u001b[39;00m \u001b[39mStopIteration\u001b[39;00m:\n\u001b[0;32m    241\u001b[0m     \u001b[39mif\u001b[39;00m \u001b[39mself\u001b[39m\u001b[39m.\u001b[39m_first_chunk:\n",
      "File \u001b[1;32mc:\\Python311\\Lib\\site-packages\\pandas\\_libs\\parsers.pyx:796\u001b[0m, in \u001b[0;36mpandas._libs.parsers.TextReader.read\u001b[1;34m()\u001b[0m\n",
      "File \u001b[1;32mc:\\Python311\\Lib\\site-packages\\pandas\\_libs\\parsers.pyx:891\u001b[0m, in \u001b[0;36mpandas._libs.parsers.TextReader._read_rows\u001b[1;34m()\u001b[0m\n",
      "File \u001b[1;32mc:\\Python311\\Lib\\site-packages\\pandas\\_libs\\parsers.pyx:1036\u001b[0m, in \u001b[0;36mpandas._libs.parsers.TextReader._convert_column_data\u001b[1;34m()\u001b[0m\n",
      "File \u001b[1;32mc:\\Python311\\Lib\\site-packages\\pandas\\_libs\\parsers.pyx:1137\u001b[0m, in \u001b[0;36mpandas._libs.parsers.TextReader._convert_tokens\u001b[1;34m()\u001b[0m\n",
      "\u001b[1;31mValueError\u001b[0m: invalid literal for int() with base 10: '/ff9qCepilowshEtG2GYWwzt2bs4.jpg'"
     ]
    }
   ],
   "source": [
    "# Al retornarnos un DtypeWarning, intentamos ingestar movies_df\n",
    "# indicando qué tipo queremos para cada columna\n",
    "\n",
    "# La idea era buena, pero no funciona realmente, da ValueError cuando hay datos que le\n",
    "# indico que sean int y son strings\n",
    "movies_df = pd.read_csv('./data/movies_dataset.csv',\n",
    "                        dtype={'adult':'str',\n",
    "                               'belongs_to_collection':'str',\n",
    "                               'budget':'int',\n",
    "                               'genres':'str',\n",
    "                               'homepage':'str',\n",
    "                               'id':'int',\n",
    "                               'imdb_id':'str',\n",
    "                               'original_language':'str',\n",
    "                               'original_title':'str',\n",
    "                               'overview':'str',\n",
    "                               'popularity':'str',\n",
    "                               'poster_path':'str',\n",
    "                               'production_companies':'str',\n",
    "                               'production_countries':'str',\n",
    "                               'release_date':'datetime64[D]',\n",
    "                               'revenue':'int',\n",
    "                               'runtime':'int',\n",
    "                               'spoken_languages':'str',\n",
    "                               'status':'str',\n",
    "                               'tagline':'str',\n",
    "                               'title':'str',\n",
    "                               'video':'str',\n",
    "                               'vote_average':'float64',\n",
    "                               'vote_count':'int',                               \n",
    "                               },\n",
    "                               low_memory=False)"
   ]
  },
  {
   "cell_type": "code",
   "execution_count": null,
   "metadata": {},
   "outputs": [],
   "source": [
    "movies_df['budget'] = pd.to_numeric(movies_df['budget'], \n",
    "                                    errors='coerce').fillna(0).astype('int')"
   ]
  },
  {
   "cell_type": "code",
   "execution_count": 7,
   "metadata": {},
   "outputs": [
    {
     "name": "stdout",
     "output_type": "stream",
     "text": [
      "<class 'pandas.core.frame.DataFrame'>\n",
      "RangeIndex: 45466 entries, 0 to 45465\n",
      "Data columns (total 24 columns):\n",
      " #   Column                 Non-Null Count  Dtype  \n",
      "---  ------                 --------------  -----  \n",
      " 0   adult                  45466 non-null  object \n",
      " 1   belongs_to_collection  4494 non-null   object \n",
      " 2   budget                 45466 non-null  object \n",
      " 3   genres                 45466 non-null  object \n",
      " 4   homepage               7782 non-null   object \n",
      " 5   id                     45466 non-null  object \n",
      " 6   imdb_id                45449 non-null  object \n",
      " 7   original_language      45455 non-null  object \n",
      " 8   original_title         45466 non-null  object \n",
      " 9   overview               44512 non-null  object \n",
      " 10  popularity             45461 non-null  object \n",
      " 11  poster_path            45080 non-null  object \n",
      " 12  production_companies   45463 non-null  object \n",
      " 13  production_countries   45463 non-null  object \n",
      " 14  release_date           45379 non-null  object \n",
      " 15  revenue                45460 non-null  float64\n",
      " 16  runtime                45203 non-null  float64\n",
      " 17  spoken_languages       45460 non-null  object \n",
      " 18  status                 45379 non-null  object \n",
      " 19  tagline                20412 non-null  object \n",
      " 20  title                  45460 non-null  object \n",
      " 21  video                  45460 non-null  object \n",
      " 22  vote_average           45460 non-null  float64\n",
      " 23  vote_count             45460 non-null  float64\n",
      "dtypes: float64(4), object(20)\n",
      "memory usage: 8.3+ MB\n"
     ]
    }
   ],
   "source": [
    "movies_df.info()"
   ]
  },
  {
   "cell_type": "code",
   "execution_count": 1,
   "metadata": {},
   "outputs": [],
   "source": [
    "import pandas as pd\n",
    "import numpy as np\n",
    "import re # regular expressions para normalizar algunas columnas\n",
    "# para las funciones de la API:\n",
    "import json\n",
    "from json.decoder import JSONDecodeError \n"
   ]
  },
  {
   "cell_type": "code",
   "execution_count": null,
   "metadata": {},
   "outputs": [],
   "source": [
    "# Lee los datos\n",
    "df_cc = pd.read_csv('./data/credits.csv') \n",
    "df_movies = pd.read_excel('./data/movies_dataset.xlsx')\n",
    "\n",
    "# Une los datasets en un DataFrame llamado 'df'\n",
    "# Usando la columna 'id' para unirlos \n",
    "df = pd.merge(df_cc, df_movies, on='id')"
   ]
  },
  {
   "cell_type": "code",
   "execution_count": null,
   "metadata": {},
   "outputs": [],
   "source": [
    "# Un pequeño estudio de los datos:\n",
    "# La dimensión:\n",
    "df.shape"
   ]
  },
  {
   "cell_type": "code",
   "execution_count": 5,
   "metadata": {},
   "outputs": [
    {
     "data": {
      "text/plain": [
       "Index(['cast', 'crew', 'id', 'adult', 'belongs_to_collection', 'budget',\n",
       "       'genres', 'homepage', 'imdb_id', 'original_language', 'original_title',\n",
       "       'overview', 'popularity', 'poster_path', 'production_companies',\n",
       "       'production_countries', 'release_date', 'revenue', 'runtime',\n",
       "       'spoken_languages', 'status', 'tagline', 'title', 'video',\n",
       "       'vote_average', 'vote_count'],\n",
       "      dtype='object')"
      ]
     },
     "execution_count": 5,
     "metadata": {},
     "output_type": "execute_result"
    }
   ],
   "source": [
    "# Las columnas que contiene:\n",
    "df.columns"
   ]
  },
  {
   "cell_type": "code",
   "execution_count": 6,
   "metadata": {},
   "outputs": [
    {
     "data": {
      "text/plain": [
       "cast                         0\n",
       "crew                         0\n",
       "id                           0\n",
       "adult                        0\n",
       "belongs_to_collection    41038\n",
       "budget                       0\n",
       "genres                       0\n",
       "homepage                 37746\n",
       "imdb_id                     17\n",
       "original_language           11\n",
       "original_title               0\n",
       "overview                   959\n",
       "popularity                   3\n",
       "poster_path                386\n",
       "production_companies         3\n",
       "production_countries         3\n",
       "release_date                87\n",
       "revenue                      3\n",
       "runtime                    260\n",
       "spoken_languages             3\n",
       "status                      84\n",
       "tagline                  25100\n",
       "title                        3\n",
       "video                        3\n",
       "vote_average                 3\n",
       "vote_count                   3\n",
       "dtype: int64"
      ]
     },
     "execution_count": 6,
     "metadata": {},
     "output_type": "execute_result"
    }
   ],
   "source": [
    "# Los valores nulos en cada columna:\n",
    "df.isnull().sum()"
   ]
  },
  {
   "attachments": {},
   "cell_type": "markdown",
   "metadata": {},
   "source": [
    "___\n",
    "TRANSFORMACIONES"
   ]
  },
  {
   "cell_type": "code",
   "execution_count": 7,
   "metadata": {},
   "outputs": [],
   "source": [
    "# Voy a empezar las transformaciones propuesta por el final, quitando las columnas\n",
    "quitar_columnas = ['video','imdb_id','adult','original_title','poster_path','homepage']\n",
    "# drop = quitar, axis=1 = columnas (eje 0 filas, eje 1 columnas), inplace=True modificar el dataframe existente en lugar de devolver una copia\n",
    "df.drop(quitar_columnas,axis=1,inplace=True)"
   ]
  },
  {
   "cell_type": "code",
   "execution_count": 14,
   "metadata": {},
   "outputs": [
    {
     "data": {
      "text/plain": [
       "(45538, 20)"
      ]
     },
     "execution_count": 14,
     "metadata": {},
     "output_type": "execute_result"
    }
   ],
   "source": [
    "# Compruebo las columnas ahora:\n",
    "df.shape\n"
   ]
  },
  {
   "cell_type": "code",
   "execution_count": 13,
   "metadata": {},
   "outputs": [
    {
     "data": {
      "text/plain": [
       "Index(['crew', 'id', 'belongs_to_collection', 'budget', 'genres',\n",
       "       'original_language', 'overview', 'popularity', 'production_companies',\n",
       "       'production_countries', 'release_date', 'revenue', 'runtime',\n",
       "       'spoken_languages', 'status', 'tagline', 'title', 'vote_average',\n",
       "       'vote_count', 'director_names'],\n",
       "      dtype='object')"
      ]
     },
     "execution_count": 13,
     "metadata": {},
     "output_type": "execute_result"
    }
   ],
   "source": [
    "# antes (45538, 26) / después (45538, 20)\n",
    "df.columns"
   ]
  },
  {
   "cell_type": "code",
   "execution_count": 10,
   "metadata": {},
   "outputs": [
    {
     "data": {
      "text/plain": [
       "Index(['crew', 'id', 'belongs_to_collection', 'budget', 'genres',\n",
       "       'original_language', 'overview', 'popularity', 'production_companies',\n",
       "       'production_countries', 'release_date', 'revenue', 'runtime',\n",
       "       'spoken_languages', 'status', 'tagline', 'title', 'vote_average',\n",
       "       'vote_count'],\n",
       "      dtype='object')"
      ]
     },
     "execution_count": 10,
     "metadata": {},
     "output_type": "execute_result"
    }
   ],
   "source": [
    "# En el desarrollo API posterior solo necesitaremos el nombre del director de cada película\n",
    "# Todos los demás datos de la columna 'crew' y toda la columna entera de 'cast' SOBRAN.\n",
    "# Elimino la columna 'cast'\n",
    "df.drop('cast', axis=1, inplace=True)\n",
    "df.columns"
   ]
  },
  {
   "cell_type": "code",
   "execution_count": 12,
   "metadata": {},
   "outputs": [],
   "source": [
    "import ast\n",
    "\n",
    "# tras mucha investigación al final acabo con la biblioteca \"ast\"\n",
    "# para convertir los valores 'string' de la columna 'crew' en lista de diccionarios.\n",
    "df['crew'] = df['crew'].apply(ast.literal_eval)\n",
    "\n",
    "\n",
    "# Seguidamente aplico la funcion lambda a todos los valores de 'crew' para extraer nombres de los directores\n",
    "# compruebo con isinstance(x, list) que no haya valores None u otros que no sean de lista.\n",
    "df['director_names'] = df['crew'].apply(lambda x: [d['name'] for d in x if d['job'] == 'Director'] if isinstance(x, list) else None)"
   ]
  },
  {
   "attachments": {},
   "cell_type": "markdown",
   "metadata": {},
   "source": [
    "___"
   ]
  },
  {
   "cell_type": "code",
   "execution_count": 67,
   "metadata": {},
   "outputs": [
    {
     "name": "stdout",
     "output_type": "stream",
     "text": [
      "           id belongs_to_collection budget  \\\n",
      "19999  152795                            0   \n",
      "\n",
      "                                    genres original_language  \\\n",
      "19999  [Drama, Science Fiction, Animation]                en   \n",
      "\n",
      "                                                                                                                                                                                                                                                                                                                                                                                                                                                                                                                                                                                                                                                                                                                                                                                                                                                                   overview  \\\n",
      "19999  More than two decades after catapulting to stardom with The Princess Bride, an aging actress (Robin Wright, playing a version of herself) decides to take her final job: preserving her digital likeness for a future Hollywood. Through a deal brokered by her loyal, longtime agent and the head of Miramount Studios, her alias will be controlled by the studio, and will star in any film they want with no restrictions. In return, she receives healthy compensation so she can care for her ailing son and her digitized character will stay forever young. Twenty years later, under the creative vision of the studio’s head animator, Wright’s digital double rises to immortal stardom. With her contract expiring, she is invited to take part in “The Congress” convention as she makes her comeback straight into the world of future fantasy cinema.   \n",
      "\n",
      "      popularity  \\\n",
      "19999   8.534039   \n",
      "\n",
      "                                                                                                             production_companies  \\\n",
      "19999  [Pandora Filmproduktion, Entre Chien et Loup, Opus Film, Bridgit Folman Film Gang, Paul Thiltges Distributions, Liverpool]   \n",
      "\n",
      "                                         production_countries  \\\n",
      "19999  [Belgium, France, Germany, Israel, Luxembourg, Poland]   \n",
      "\n",
      "              release_date   revenue  runtime spoken_languages    status  \\\n",
      "19999  2013-05-16 00:00:00  455815.0    122.0        [English]  Released   \n",
      "\n",
      "      tagline         title  vote_average  vote_count director_names  \n",
      "19999     NaN  The Congress           6.4       165.0   [Ari Folman]  \n"
     ]
    }
   ],
   "source": [
    "matrix_row = df[df['title'] == 'The Congress']\n",
    "print(matrix_row) "
   ]
  },
  {
   "cell_type": "code",
   "execution_count": 19,
   "metadata": {},
   "outputs": [
    {
     "data": {
      "text/plain": [
       "15                                    [Martin Scorsese]\n",
       "16                                            [Ang Lee]\n",
       "17    [Allison Anders, Alexandre Rockwell, Robert Ro...\n",
       "18                                     [Steve Oedekerk]\n",
       "19                                       [Joseph Ruben]\n",
       "20                                   [Barry Sonnenfeld]\n",
       "21                                          [Jon Amiel]\n",
       "22                                     [Richard Donner]\n",
       "23                                       [Victor Salva]\n",
       "24                                        [Mike Figgis]\n",
       "25                                      [Oliver Parker]\n",
       "26                                [Lesli Linka Glatter]\n",
       "27                                      [Roger Michell]\n",
       "28                      [Jean-Pierre Jeunet, Marc Caro]\n",
       "29                                        [Zhang Yimou]\n",
       "Name: director_names, dtype: object"
      ]
     },
     "execution_count": 19,
     "metadata": {},
     "output_type": "execute_result"
    }
   ],
   "source": [
    "df['director_names'].iloc[15:30]"
   ]
  },
  {
   "cell_type": "code",
   "execution_count": 68,
   "metadata": {},
   "outputs": [
    {
     "name": "stdout",
     "output_type": "stream",
     "text": [
      "['Allison Anders', 'Alexandre Rockwell', 'Robert Rodriguez', 'Quentin Tarantino']\n"
     ]
    }
   ],
   "source": [
    "pd.set_option('display.max_colwidth', None)\n",
    "print(df['director_names'].iloc[17])"
   ]
  },
  {
   "cell_type": "code",
   "execution_count": 21,
   "metadata": {},
   "outputs": [],
   "source": [
    "df.columns\n",
    "# ya tenemos los nombres de los directores en la columna 'director_names' así que me voy a deshacer de la columna 'crew'\n",
    "df.drop('crew',axis=1,inplace=True)"
   ]
  },
  {
   "cell_type": "code",
   "execution_count": 22,
   "metadata": {},
   "outputs": [
    {
     "data": {
      "text/plain": [
       "128                                                                                                                                                     NaN\n",
       "129                                                                                                                                                     NaN\n",
       "130                                                                                                                                                     NaN\n",
       "131                                                                                                                                                     NaN\n",
       "132                                                                                                                                                     NaN\n",
       "133                                                                                                                                                     NaN\n",
       "134                                                                                                                                                     NaN\n",
       "135                                                                                                                                                     NaN\n",
       "136                                                                                                                                                     NaN\n",
       "137                                                                                                                                                     NaN\n",
       "138                                                                                                                                                     NaN\n",
       "139                                                                                                                                                     NaN\n",
       "140                                                                                                                                                     NaN\n",
       "141                                                                                                                                                     NaN\n",
       "142    {'id': 14890, 'name': 'Bad Boys Collection', 'poster_path': '/tSVbihfvVTCbcm0zXKA7L8R6Y9v.jpg', 'backdrop_path': '/yUvBiiC77UY6SyKhfFyLj7DNbfh.jpg'}\n",
       "143                                                                                                                                                     NaN\n",
       "144                                                                                                                                                     NaN\n",
       "Name: belongs_to_collection, dtype: object"
      ]
     },
     "execution_count": 22,
     "metadata": {},
     "output_type": "execute_result"
    }
   ],
   "source": [
    "pd.set_option('display.max_colwidth', None)  # Set the maximum column width to XX characters or None for no limitations.\n",
    "df['belongs_to_collection'].iloc[128:145]"
   ]
  },
  {
   "attachments": {},
   "cell_type": "markdown",
   "metadata": {},
   "source": [
    "___\n",
    "# BACKUP code"
   ]
  },
  {
   "cell_type": "code",
   "execution_count": null,
   "metadata": {},
   "outputs": [],
   "source": [
    "# Antes de continuar voy a hacer una copia de seguridad del dataframe tal como está.\n",
    "# Guardar copia de seguridad \n",
    "# df.to_pickle('./data/df_backup.pickle')\n",
    "\n",
    "# ...\n",
    "\n",
    "# Restaurar desde copia de seguridad  \n",
    "df = pd.read_pickle('./data/df_backup.pickle')"
   ]
  },
  {
   "attachments": {},
   "cell_type": "markdown",
   "metadata": {},
   "source": [
    "# end of BACKUP code\n",
    "___"
   ]
  },
  {
   "cell_type": "code",
   "execution_count": 23,
   "metadata": {},
   "outputs": [],
   "source": [
    "# Vamos a normalizar la columna 'belongs_to_collection'\n",
    "\n",
    "# la función normalize_collection está preparada especificamente para dicha columna, ya que sabemos que contiene valores NaN\n",
    "# o unos chorizos con el nombre 'name' de la colección o franquicia.\n",
    "# Se usa \"regular expressions\" (re - para los amigos)\n",
    "\n",
    "def normalize_collection(value):\n",
    "    if pd.isnull(value):\n",
    "        return ''\n",
    "    elif isinstance(value, str):\n",
    "        matches = re.findall(r\"'name': '(.+?)'\", value)\n",
    "        if matches:\n",
    "            name = matches[0]\n",
    "            name = name.replace(' Collection', '')\n",
    "            return name\n",
    "        else:\n",
    "            return ''\n",
    "    else:\n",
    "        return value['name']\n",
    "    \n",
    "df['belongs_to_collection'] = df['belongs_to_collection'].apply(normalize_collection)"
   ]
  },
  {
   "cell_type": "code",
   "execution_count": 24,
   "metadata": {},
   "outputs": [
    {
     "data": {
      "text/plain": [
       "18      Ace Ventura\n",
       "19                 \n",
       "20     Chili Palmer\n",
       "21                 \n",
       "22                 \n",
       "23                 \n",
       "24                 \n",
       "25                 \n",
       "26                 \n",
       "27                 \n",
       "28                 \n",
       "29                 \n",
       "30                 \n",
       "31                 \n",
       "32                 \n",
       "33             Babe\n",
       "34                 \n",
       "35                 \n",
       "36                 \n",
       "37                 \n",
       "38                 \n",
       "39                 \n",
       "40                 \n",
       "41                 \n",
       "42                 \n",
       "43    Mortal Kombat\n",
       "Name: belongs_to_collection, dtype: object"
      ]
     },
     "execution_count": 24,
     "metadata": {},
     "output_type": "execute_result"
    }
   ],
   "source": [
    "# comprobamos el resultado de la normalización:\n",
    "df['belongs_to_collection'].iloc[18:44]"
   ]
  },
  {
   "attachments": {},
   "cell_type": "markdown",
   "metadata": {},
   "source": [
    "___"
   ]
  },
  {
   "cell_type": "code",
   "execution_count": 14,
   "metadata": {},
   "outputs": [],
   "source": [
    "# por si acaso...\n",
    "# df.to_pickle('./data/df_backup2.pickle')\n",
    "\n",
    "# ...\n",
    "\n",
    "# Restaurar desde copia de seguridad  \n",
    "df = pd.read_pickle('./data/df_backup2.pickle')"
   ]
  },
  {
   "attachments": {},
   "cell_type": "markdown",
   "metadata": {},
   "source": [
    "___"
   ]
  },
  {
   "cell_type": "code",
   "execution_count": 16,
   "metadata": {},
   "outputs": [],
   "source": [
    "# funcion para desanidar las columnas faltantes\n",
    "def extract_nested_data(names):\n",
    "    \"\"\"\n",
    "    Extrae los nombres de los objetos dentro de una estructura de datos anidados\n",
    "    que se proporciona como una cadena de texto en formato de diccionario de Python.\n",
    "\n",
    "    Parámetros:\n",
    "    names (str): La cadena de texto que contiene la estructura de datos anidados en formato de diccionario de Python.\n",
    "\n",
    "    Retorna:\n",
    "    list: Una lista que contiene los nombres de los objetos dentro de la estructura de datos anidados.\n",
    "\n",
    "    Ejemplo:\n",
    "    extract_nested_data('[{\"id\": 1, \"name\": \"Roberto\"}, {\"id\": 2, \"name\": \"Emilio\"}]')\n",
    "    ['Roberto', 'Emilio']\n",
    "    \"\"\"\n",
    "    try:\n",
    "        object_list = eval(names)\n",
    "        object_names = [object_dict['name'] for object_dict in object_list]\n",
    "        return object_names\n",
    "    except:\n",
    "        return ''"
   ]
  },
  {
   "cell_type": "code",
   "execution_count": 17,
   "metadata": {},
   "outputs": [],
   "source": [
    "df['production_companies'] = df['production_companies'].apply(extract_nested_data)"
   ]
  },
  {
   "cell_type": "code",
   "execution_count": 19,
   "metadata": {},
   "outputs": [],
   "source": [
    "df['production_countries'] = df['production_countries'].apply(extract_nested_data)"
   ]
  },
  {
   "cell_type": "code",
   "execution_count": 22,
   "metadata": {},
   "outputs": [],
   "source": [
    "df['genres'] = df['genres'].apply(extract_nested_data)"
   ]
  },
  {
   "cell_type": "code",
   "execution_count": 27,
   "metadata": {},
   "outputs": [],
   "source": [
    "df['spoken_languages'] = df['spoken_languages'].apply(extract_nested_data)"
   ]
  },
  {
   "attachments": {},
   "cell_type": "markdown",
   "metadata": {},
   "source": [
    "___\n",
    "2023-07-05 18:00 RAFTXO marcapáginas, hasta aquí, en teoría todo bien..."
   ]
  },
  {
   "cell_type": "code",
   "execution_count": 106,
   "metadata": {},
   "outputs": [],
   "source": [
    "# punto de backup. Ahora mismo tenemos Production Companies, Production Countries,\n",
    "# Genres y Spoken Languagues OK como listas\n",
    "\n",
    "# df.to_pickle('./data/df_backup3.pickle')\n",
    "# \n",
    "df = pd.read_pickle('./data/df_backup3.pickle')"
   ]
  },
  {
   "cell_type": "code",
   "execution_count": 107,
   "metadata": {},
   "outputs": [
    {
     "data": {
      "text/plain": [
       "Index(['id', 'belongs_to_collection', 'budget', 'genres', 'original_language',\n",
       "       'overview', 'popularity', 'production_companies',\n",
       "       'production_countries', 'release_date', 'revenue', 'runtime',\n",
       "       'spoken_languages', 'status', 'tagline', 'title', 'vote_average',\n",
       "       'vote_count', 'director_names'],\n",
       "      dtype='object')"
      ]
     },
     "execution_count": 107,
     "metadata": {},
     "output_type": "execute_result"
    }
   ],
   "source": [
    "df.columns"
   ]
  },
  {
   "cell_type": "code",
   "execution_count": 108,
   "metadata": {},
   "outputs": [
    {
     "data": {
      "text/plain": [
       "(45538, 19)"
      ]
     },
     "execution_count": 108,
     "metadata": {},
     "output_type": "execute_result"
    }
   ],
   "source": [
    "# comprobaciones\n",
    "df.iloc[100:102]\n",
    "df.shape"
   ]
  },
  {
   "attachments": {},
   "cell_type": "markdown",
   "metadata": {},
   "source": [
    "___"
   ]
  },
  {
   "cell_type": "code",
   "execution_count": 109,
   "metadata": {},
   "outputs": [],
   "source": [
    "# Creamos una función para comprobar duplicados\n",
    "def check_duplicates(df, column):\n",
    "    # Encuentra duplicados en la columna especificada\n",
    "    duplicate_values = df[df.duplicated(column)]\n",
    "    \n",
    "    # Contar frecuencia de cada valor duplicado\n",
    "    duplicate_counts = duplicate_values[column].value_counts()\n",
    "    \n",
    "    # Extraer lista de valores duplicados\n",
    "    duplicate_list = duplicate_counts.index.tolist()\n",
    "    \n",
    "    # Cantidad total de valores duplicados\n",
    "    total_duplicates = len(duplicate_list)\n",
    "    \n",
    "    print(f\"Total Duplicates in {column}: {total_duplicates}\")\n",
    "    \n",
    "    # Imprimir cada valor duplicado y su frecuencia\n",
    "    for value in duplicate_list:\n",
    "        count = duplicate_counts[value]\n",
    "        print(f\"{value} occurs {count} times\")"
   ]
  },
  {
   "cell_type": "code",
   "execution_count": 110,
   "metadata": {},
   "outputs": [
    {
     "name": "stdout",
     "output_type": "stream",
     "text": [
      "Total Duplicates in id: 43\n",
      "141971 occurs 8 times\n",
      "105045 occurs 3 times\n",
      "13209 occurs 3 times\n",
      "265189 occurs 3 times\n",
      "152795 occurs 3 times\n",
      "119916 occurs 3 times\n",
      "25541 occurs 3 times\n",
      "99080 occurs 3 times\n",
      "42495 occurs 3 times\n",
      "132641 occurs 3 times\n",
      "18440 occurs 3 times\n",
      "97995 occurs 3 times\n",
      "168538 occurs 3 times\n",
      "159849 occurs 3 times\n",
      "11115 occurs 3 times\n",
      "77221 occurs 3 times\n",
      "15028 occurs 3 times\n",
      "14788 occurs 3 times\n",
      "22649 occurs 3 times\n",
      "84198 occurs 3 times\n",
      "10991 occurs 3 times\n",
      "110428 occurs 3 times\n",
      "298721 occurs 3 times\n",
      "12600 occurs 3 times\n",
      "4912 occurs 3 times\n",
      "5511 occurs 3 times\n",
      "23305 occurs 3 times\n",
      "69234 occurs 3 times\n",
      "109962 occurs 3 times\n",
      "157301 occurs 1 times\n",
      "187156 occurs 1 times\n",
      "43629 occurs 1 times\n",
      "8767 occurs 1 times\n",
      "123634 occurs 1 times\n",
      "9755 occurs 1 times\n",
      "24026 occurs 1 times\n",
      "142563 occurs 1 times\n",
      "11752 occurs 1 times\n",
      "24023 occurs 1 times\n",
      "199591 occurs 1 times\n",
      "125458 occurs 1 times\n",
      "116723 occurs 1 times\n",
      "3057 occurs 1 times\n"
     ]
    }
   ],
   "source": [
    "check_duplicates(df, 'id')"
   ]
  },
  {
   "cell_type": "code",
   "execution_count": 118,
   "metadata": {},
   "outputs": [
    {
     "name": "stdout",
     "output_type": "stream",
     "text": [
      "<class 'pandas.core.frame.DataFrame'>\n",
      "Index: 45535 entries, 0 to 45537\n",
      "Data columns (total 19 columns):\n",
      " #   Column                 Non-Null Count  Dtype  \n",
      "---  ------                 --------------  -----  \n",
      " 0   id                     45535 non-null  object \n",
      " 1   belongs_to_collection  45535 non-null  object \n",
      " 2   budget                 45535 non-null  object \n",
      " 3   genres                 45535 non-null  object \n",
      " 4   original_language      45524 non-null  object \n",
      " 5   overview               44576 non-null  object \n",
      " 6   popularity             45535 non-null  object \n",
      " 7   production_companies   45535 non-null  object \n",
      " 8   production_countries   45535 non-null  object \n",
      " 9   release_date           45451 non-null  object \n",
      " 10  revenue                45535 non-null  float64\n",
      " 11  runtime                45278 non-null  float64\n",
      " 12  spoken_languages       45535 non-null  object \n",
      " 13  status                 45454 non-null  object \n",
      " 14  tagline                20438 non-null  object \n",
      " 15  title                  45535 non-null  object \n",
      " 16  vote_average           45535 non-null  float64\n",
      " 17  vote_count             45535 non-null  float64\n",
      " 18  director_names         45535 non-null  object \n",
      "dtypes: float64(4), object(15)\n",
      "memory usage: 6.9+ MB\n"
     ]
    }
   ],
   "source": [
    "df.info()"
   ]
  },
  {
   "attachments": {},
   "cell_type": "markdown",
   "metadata": {},
   "source": [
    "___\n",
    "RAFTXO MARCAPÁGINAS 2023-07-05 18:08"
   ]
  },
  {
   "cell_type": "code",
   "execution_count": null,
   "metadata": {},
   "outputs": [],
   "source": []
  },
  {
   "cell_type": "code",
   "execution_count": 111,
   "metadata": {},
   "outputs": [
    {
     "name": "stdout",
     "output_type": "stream",
     "text": [
      "Data in 'production_countries' column have different data types.\n"
     ]
    }
   ],
   "source": [
    "data_types = df['production_countries'].apply(type).unique()\n",
    "if len(data_types) == 1:\n",
    "    print(f\"All data in 'production_countries' column have the same data type: {data_types[0].__name__}\")\n",
    "else:\n",
    "    print(\"Data in 'production_countries' column have different data types.\")"
   ]
  },
  {
   "cell_type": "code",
   "execution_count": 112,
   "metadata": {},
   "outputs": [
    {
     "name": "stdout",
     "output_type": "stream",
     "text": [
      "[<class 'list'> <class 'str'>]\n"
     ]
    }
   ],
   "source": [
    "data_types = df['production_countries'].apply(type).unique()\n",
    "print(data_types)"
   ]
  },
  {
   "cell_type": "code",
   "execution_count": 113,
   "metadata": {},
   "outputs": [
    {
     "name": "stdout",
     "output_type": "stream",
     "text": [
      "19801    \n",
      "29584    \n",
      "35667    \n",
      "Name: production_countries, dtype: object\n"
     ]
    }
   ],
   "source": [
    "str_data = df[df['production_countries'].apply(lambda x: isinstance(x, str))]\n",
    "print(str_data['production_countries'])\n",
    "\n",
    "# 19801 id=82663 no tiene ni título ni casi ningún dato - candidata a eliminar\n",
    "# 29584 id=122662 es una repe de 'Mardock Scramble: The First Compression' película japonesa - candidata a eliminar\n",
    "# 35667 id=249260 posiblemente sea una fila con datos perdidos de la película (tv-movie) \"Avalanche Sharks\" - se puede borrar"
   ]
  },
  {
   "cell_type": "code",
   "execution_count": 114,
   "metadata": {},
   "outputs": [
    {
     "name": "stdout",
     "output_type": "stream",
     "text": [
      "           id belongs_to_collection budget  \\\n",
      "19801   82663                            0   \n",
      "29584  122662      Mardock Scramble      0   \n",
      "35667  249260                            0   \n",
      "\n",
      "                                            genres original_language  \\\n",
      "19801                    [Action, Thriller, Drama]                en   \n",
      "29584                 [Animation, Science Fiction]                ja   \n",
      "35667  [TV Movie, Action, Horror, Science Fiction]                en   \n",
      "\n",
      "                                                overview popularity  \\\n",
      "19801  British soldiers force a recently captured IRA...        NaN   \n",
      "29584         Third film of the Mardock Scramble series.        NaN   \n",
      "35667  A group of skiers are terrorized during spring...        NaN   \n",
      "\n",
      "      production_companies production_countries release_date  revenue  \\\n",
      "19801                                                    NaN      NaN   \n",
      "29584                                                    NaN      NaN   \n",
      "35667                                                    NaN      NaN   \n",
      "\n",
      "       runtime spoken_languages status tagline title  vote_average  \\\n",
      "19801      NaN                     NaN     NaN   NaN           NaN   \n",
      "29584      NaN                     NaN     NaN   NaN           NaN   \n",
      "35667      NaN                     NaN     NaN   NaN           NaN   \n",
      "\n",
      "       vote_count           director_names  \n",
      "19801         NaN  [Lawrence Gordon Clark]  \n",
      "29584         NaN            [Susumu Kudo]  \n",
      "35667         NaN          [Scott Wheeler]  \n"
     ]
    }
   ],
   "source": [
    "nan_rows = df[df['title'].isna()]\n",
    "print(nan_rows)\n",
    "\n",
    "# coinciden las 3 filas que hemos visto antes al analizar la columna 'production_countries'"
   ]
  },
  {
   "cell_type": "code",
   "execution_count": 115,
   "metadata": {},
   "outputs": [],
   "source": [
    "# Procedemos a eliminar esas filas estorbantes:\n",
    "df = df.dropna(subset=['title'])"
   ]
  },
  {
   "cell_type": "code",
   "execution_count": 116,
   "metadata": {},
   "outputs": [
    {
     "name": "stdout",
     "output_type": "stream",
     "text": [
      "False\n"
     ]
    }
   ],
   "source": [
    "has_na = df['title'].isna().any()\n",
    "print(has_na)"
   ]
  },
  {
   "cell_type": "code",
   "execution_count": 119,
   "metadata": {},
   "outputs": [
    {
     "name": "stdout",
     "output_type": "stream",
     "text": [
      "<class 'pandas.core.frame.DataFrame'>\n",
      "Index: 45535 entries, 0 to 45537\n",
      "Data columns (total 19 columns):\n",
      " #   Column                 Non-Null Count  Dtype  \n",
      "---  ------                 --------------  -----  \n",
      " 0   id                     45535 non-null  object \n",
      " 1   belongs_to_collection  45535 non-null  object \n",
      " 2   budget                 45535 non-null  object \n",
      " 3   genres                 45535 non-null  object \n",
      " 4   original_language      45524 non-null  object \n",
      " 5   overview               44576 non-null  object \n",
      " 6   popularity             45535 non-null  object \n",
      " 7   production_companies   45535 non-null  object \n",
      " 8   production_countries   45535 non-null  object \n",
      " 9   release_date           45451 non-null  object \n",
      " 10  revenue                45535 non-null  float64\n",
      " 11  runtime                45278 non-null  float64\n",
      " 12  spoken_languages       45535 non-null  object \n",
      " 13  status                 45454 non-null  object \n",
      " 14  tagline                20438 non-null  object \n",
      " 15  title                  45535 non-null  object \n",
      " 16  vote_average           45535 non-null  float64\n",
      " 17  vote_count             45535 non-null  float64\n",
      " 18  director_names         45535 non-null  object \n",
      "dtypes: float64(4), object(15)\n",
      "memory usage: 6.9+ MB\n",
      "None\n"
     ]
    }
   ],
   "source": [
    "print(df.info())"
   ]
  },
  {
   "attachments": {},
   "cell_type": "markdown",
   "metadata": {},
   "source": [
    "___\n",
    "vamos a hacer otro backup"
   ]
  },
  {
   "cell_type": "code",
   "execution_count": null,
   "metadata": {},
   "outputs": [],
   "source": []
  },
  {
   "attachments": {},
   "cell_type": "markdown",
   "metadata": {},
   "source": [
    "Los siguientes dos líneas de código cambian o intentan cambiar el tipo de datos de la columna 'title'"
   ]
  },
  {
   "cell_type": "code",
   "execution_count": 88,
   "metadata": {},
   "outputs": [
    {
     "name": "stderr",
     "output_type": "stream",
     "text": [
      "C:\\Users\\raftx\\AppData\\Local\\Temp\\ipykernel_13980\\2924549625.py:1: SettingWithCopyWarning: \n",
      "A value is trying to be set on a copy of a slice from a DataFrame.\n",
      "Try using .loc[row_indexer,col_indexer] = value instead\n",
      "\n",
      "See the caveats in the documentation: https://pandas.pydata.org/pandas-docs/stable/user_guide/indexing.html#returning-a-view-versus-a-copy\n",
      "  df['title'] = df['title'].astype(str)\n"
     ]
    }
   ],
   "source": [
    "df['title'] = df['title'].astype(str)"
   ]
  },
  {
   "cell_type": "code",
   "execution_count": 90,
   "metadata": {},
   "outputs": [],
   "source": [
    "df.loc[:, 'title'] = df['title'].astype(str)"
   ]
  },
  {
   "cell_type": "code",
   "execution_count": 103,
   "metadata": {},
   "outputs": [
    {
     "data": {
      "text/plain": [
       "45533                        [\"['Iran']\"]\n",
       "45534                 [\"['Philippines']\"]\n",
       "45535    [\"['United States of America']\"]\n",
       "45536                      [\"['Russia']\"]\n",
       "45537              [\"['United Kingdom']\"]\n",
       "Name: production_countries, dtype: object"
      ]
     },
     "execution_count": 103,
     "metadata": {},
     "output_type": "execute_result"
    }
   ],
   "source": [
    "df['production_countries'].tail()\n",
    "\n",
    "45533                        [\"['Iran']\"]\n",
    "45534                 [\"['Philippines']\"]\n",
    "45535    [\"['United States of America']\"]\n",
    "45536                      [\"['Russia']\"]\n",
    "45537              [\"['United Kingdom']\"]\n",
    "Name: production_countries, dtype: object"
   ]
  },
  {
   "cell_type": "code",
   "execution_count": 104,
   "metadata": {},
   "outputs": [
    {
     "name": "stdout",
     "output_type": "stream",
     "text": [
      "Cantidad de valores nulos: 0\n"
     ]
    }
   ],
   "source": [
    "# Verificar si hay valores nulos\n",
    "null_values = df['production_countries'].isnull().sum()\n",
    "print(\"Cantidad de valores nulos:\", null_values)\n"
   ]
  },
  {
   "cell_type": "code",
   "execution_count": 105,
   "metadata": {},
   "outputs": [
    {
     "name": "stdout",
     "output_type": "stream",
     "text": [
      "<class 'pandas.core.frame.DataFrame'>\n",
      "Index: 55646 entries, 0 to 45537\n",
      "Data columns (total 19 columns):\n",
      " #   Column                 Non-Null Count  Dtype  \n",
      "---  ------                 --------------  -----  \n",
      " 0   id                     55646 non-null  object \n",
      " 1   belongs_to_collection  55646 non-null  object \n",
      " 2   budget                 55646 non-null  object \n",
      " 3   genres                 55646 non-null  object \n",
      " 4   original_language      55631 non-null  object \n",
      " 5   overview               54575 non-null  object \n",
      " 6   popularity             55646 non-null  object \n",
      " 7   production_companies   55646 non-null  object \n",
      " 8   production_countries   55646 non-null  object \n",
      " 9   release_date           55560 non-null  object \n",
      " 10  revenue                55646 non-null  float64\n",
      " 11  runtime                55367 non-null  float64\n",
      " 12  spoken_languages       55646 non-null  object \n",
      " 13  status                 55562 non-null  object \n",
      " 14  tagline                25317 non-null  object \n",
      " 15  title                  55646 non-null  object \n",
      " 16  vote_average           55646 non-null  float64\n",
      " 17  vote_count             55646 non-null  float64\n",
      " 18  director_names         55646 non-null  object \n",
      "dtypes: float64(4), object(15)\n",
      "memory usage: 8.5+ MB\n"
     ]
    }
   ],
   "source": [
    "df.info()"
   ]
  },
  {
   "cell_type": "code",
   "execution_count": null,
   "metadata": {},
   "outputs": [],
   "source": [
    "# Reemplazar valores NaN con un valor vacío\n",
    "df['production_countries'] = df['production_countries'].fillna('')"
   ]
  },
  {
   "cell_type": "code",
   "execution_count": null,
   "metadata": {},
   "outputs": [],
   "source": [
    "# Desanidar la columna 'production_countries' y extraer solo el valor del nombre\n",
    "df_production_countries = movies_dataset['production_countries'].apply(lambda x: [country['name'] for country in x] if isinstance(x, list) else [])"
   ]
  },
  {
   "cell_type": "code",
   "execution_count": 95,
   "metadata": {},
   "outputs": [
    {
     "ename": "KeyError",
     "evalue": "\"None of [Index([nan, nan, nan, nan, nan, nan, nan, nan, nan, nan,\\n       ...\\n       nan, nan, nan, nan, nan, nan, nan, nan, nan, nan],\\n      dtype='float64', length=45429)] are in the [columns]\"",
     "output_type": "error",
     "traceback": [
      "\u001b[1;31m---------------------------------------------------------------------------\u001b[0m",
      "\u001b[1;31mKeyError\u001b[0m                                  Traceback (most recent call last)",
      "\u001b[1;32md:\\HENRY2023\\M7(PI)\\DTS-12\\PI_ML_OPS\\transform.ipynb Cell 46\u001b[0m in \u001b[0;36m1\n\u001b[1;32m----> <a href='vscode-notebook-cell:/d%3A/HENRY2023/M7%28PI%29/DTS-12/PI_ML_OPS/transform.ipynb#Y153sZmlsZQ%3D%3D?line=0'>1</a>\u001b[0m filtered_rows \u001b[39m=\u001b[39m df[df[\u001b[39m'\u001b[39;49m\u001b[39mproduction_countries\u001b[39;49m\u001b[39m'\u001b[39;49m]\u001b[39m.\u001b[39;49mstr\u001b[39m.\u001b[39;49mcontains(\u001b[39m'\u001b[39;49m\u001b[39mArgentina\u001b[39;49m\u001b[39m'\u001b[39;49m, case\u001b[39m=\u001b[39;49m\u001b[39mFalse\u001b[39;49;00m)]\n\u001b[0;32m      <a href='vscode-notebook-cell:/d%3A/HENRY2023/M7%28PI%29/DTS-12/PI_ML_OPS/transform.ipynb#Y153sZmlsZQ%3D%3D?line=1'>2</a>\u001b[0m \u001b[39mprint\u001b[39m(filtered_rows[[\u001b[39m'\u001b[39m\u001b[39mid\u001b[39m\u001b[39m'\u001b[39m,\u001b[39m'\u001b[39m\u001b[39mproduction_countries\u001b[39m\u001b[39m'\u001b[39m,\u001b[39m'\u001b[39m\u001b[39mtitle\u001b[39m\u001b[39m'\u001b[39m,\u001b[39m'\u001b[39m\u001b[39moriginal_language\u001b[39m\u001b[39m'\u001b[39m]])\n",
      "File \u001b[1;32mc:\\Python311\\Lib\\site-packages\\pandas\\core\\frame.py:3767\u001b[0m, in \u001b[0;36mDataFrame.__getitem__\u001b[1;34m(self, key)\u001b[0m\n\u001b[0;32m   3765\u001b[0m     \u001b[39mif\u001b[39;00m is_iterator(key):\n\u001b[0;32m   3766\u001b[0m         key \u001b[39m=\u001b[39m \u001b[39mlist\u001b[39m(key)\n\u001b[1;32m-> 3767\u001b[0m     indexer \u001b[39m=\u001b[39m \u001b[39mself\u001b[39;49m\u001b[39m.\u001b[39;49mcolumns\u001b[39m.\u001b[39;49m_get_indexer_strict(key, \u001b[39m\"\u001b[39;49m\u001b[39mcolumns\u001b[39;49m\u001b[39m\"\u001b[39;49m)[\u001b[39m1\u001b[39m]\n\u001b[0;32m   3769\u001b[0m \u001b[39m# take() does not accept boolean indexers\u001b[39;00m\n\u001b[0;32m   3770\u001b[0m \u001b[39mif\u001b[39;00m \u001b[39mgetattr\u001b[39m(indexer, \u001b[39m\"\u001b[39m\u001b[39mdtype\u001b[39m\u001b[39m\"\u001b[39m, \u001b[39mNone\u001b[39;00m) \u001b[39m==\u001b[39m \u001b[39mbool\u001b[39m:\n",
      "File \u001b[1;32mc:\\Python311\\Lib\\site-packages\\pandas\\core\\indexes\\base.py:5877\u001b[0m, in \u001b[0;36mIndex._get_indexer_strict\u001b[1;34m(self, key, axis_name)\u001b[0m\n\u001b[0;32m   5874\u001b[0m \u001b[39melse\u001b[39;00m:\n\u001b[0;32m   5875\u001b[0m     keyarr, indexer, new_indexer \u001b[39m=\u001b[39m \u001b[39mself\u001b[39m\u001b[39m.\u001b[39m_reindex_non_unique(keyarr)\n\u001b[1;32m-> 5877\u001b[0m \u001b[39mself\u001b[39;49m\u001b[39m.\u001b[39;49m_raise_if_missing(keyarr, indexer, axis_name)\n\u001b[0;32m   5879\u001b[0m keyarr \u001b[39m=\u001b[39m \u001b[39mself\u001b[39m\u001b[39m.\u001b[39mtake(indexer)\n\u001b[0;32m   5880\u001b[0m \u001b[39mif\u001b[39;00m \u001b[39misinstance\u001b[39m(key, Index):\n\u001b[0;32m   5881\u001b[0m     \u001b[39m# GH 42790 - Preserve name from an Index\u001b[39;00m\n",
      "File \u001b[1;32mc:\\Python311\\Lib\\site-packages\\pandas\\core\\indexes\\base.py:5938\u001b[0m, in \u001b[0;36mIndex._raise_if_missing\u001b[1;34m(self, key, indexer, axis_name)\u001b[0m\n\u001b[0;32m   5936\u001b[0m     \u001b[39mif\u001b[39;00m use_interval_msg:\n\u001b[0;32m   5937\u001b[0m         key \u001b[39m=\u001b[39m \u001b[39mlist\u001b[39m(key)\n\u001b[1;32m-> 5938\u001b[0m     \u001b[39mraise\u001b[39;00m \u001b[39mKeyError\u001b[39;00m(\u001b[39mf\u001b[39m\u001b[39m\"\u001b[39m\u001b[39mNone of [\u001b[39m\u001b[39m{\u001b[39;00mkey\u001b[39m}\u001b[39;00m\u001b[39m] are in the [\u001b[39m\u001b[39m{\u001b[39;00maxis_name\u001b[39m}\u001b[39;00m\u001b[39m]\u001b[39m\u001b[39m\"\u001b[39m)\n\u001b[0;32m   5940\u001b[0m not_found \u001b[39m=\u001b[39m \u001b[39mlist\u001b[39m(ensure_index(key)[missing_mask\u001b[39m.\u001b[39mnonzero()[\u001b[39m0\u001b[39m]]\u001b[39m.\u001b[39munique())\n\u001b[0;32m   5941\u001b[0m \u001b[39mraise\u001b[39;00m \u001b[39mKeyError\u001b[39;00m(\u001b[39mf\u001b[39m\u001b[39m\"\u001b[39m\u001b[39m{\u001b[39;00mnot_found\u001b[39m}\u001b[39;00m\u001b[39m not in index\u001b[39m\u001b[39m\"\u001b[39m)\n",
      "\u001b[1;31mKeyError\u001b[0m: \"None of [Index([nan, nan, nan, nan, nan, nan, nan, nan, nan, nan,\\n       ...\\n       nan, nan, nan, nan, nan, nan, nan, nan, nan, nan],\\n      dtype='float64', length=45429)] are in the [columns]\""
     ]
    }
   ],
   "source": [
    "filtered_rows = df[df['production_countries'].str.contains('Argentina', case=False)]\n",
    "print(filtered_rows[['id','production_countries','title','original_language']])"
   ]
  },
  {
   "cell_type": "code",
   "execution_count": 91,
   "metadata": {},
   "outputs": [
    {
     "name": "stdout",
     "output_type": "stream",
     "text": [
      "           id belongs_to_collection budget  \\\n",
      "318     20306                            0   \n",
      "22541   83896                            0   \n",
      "31491  259075                            0   \n",
      "36434  257450                            0   \n",
      "38486  241004                            0   \n",
      "39685   46658                            0   \n",
      "\n",
      "                                        genres original_language  \\\n",
      "318                            [Crime, Comedy]                en   \n",
      "22541        [Comedy, Horror, Science Fiction]                en   \n",
      "31491              [Action, Adventure, Horror]                es   \n",
      "36434                         [Horror, Comedy]                en   \n",
      "38486  [Adventure, Mystery, Family, Animation]                fr   \n",
      "39685                  [Horror, Action, Drama]                fr   \n",
      "\n",
      "                                                overview popularity  \\\n",
      "318    A young, naive Hollywood studio assistant fina...   5.869261   \n",
      "22541  Just when you thought it was safe to go back t...   2.498266   \n",
      "31491  When Andres and his partner are hired to recov...   0.000032   \n",
      "36434  Great white sharks bio-engineered to be the si...    1.35227   \n",
      "38486  Tintin is sent to guard Professor Calculus, wh...   2.105854   \n",
      "39685  David must fight for his life against the gang...   0.110781   \n",
      "\n",
      "                                    production_companies  \\\n",
      "318                        [Cineville, Trimark Pictures]   \n",
      "22541  [Rogue State, Remember Dreaming Productions, L...   \n",
      "31491  [Koala Cinematografica, Amanecer Films, Belma ...   \n",
      "36434                                  [The Imaginarium]   \n",
      "38486        [Belvision, Dargaud Films, Raymond Leblanc]   \n",
      "39685                                                 []   \n",
      "\n",
      "             production_countries         release_date  revenue  runtime  \\\n",
      "318    [United States of America]  1994-09-10 00:00:00      0.0    101.0   \n",
      "22541  [United States of America]  2011-12-20 00:00:00      0.0     87.0   \n",
      "31491      [Mexico, Italy, Spain]  1978-06-28 00:00:00      0.0     90.0   \n",
      "36434  [United States of America]  2015-08-06 00:00:00      0.0     79.0   \n",
      "38486           [France, Belgium]  1972-12-13 00:00:00      0.0     81.0   \n",
      "39685                          []  1989-01-01 00:00:00      0.0     85.0   \n",
      "\n",
      "                   spoken_languages         status  \\\n",
      "318                       [English]       Released   \n",
      "22541                     [English]       Released   \n",
      "31491  [Español, English, Italiano]       Released   \n",
      "36434                     [English]  In Production   \n",
      "38486                    [Français]       Released   \n",
      "39685                     [English]       Released   \n",
      "\n",
      "                                                 tagline  \\\n",
      "318                                  Life is not a movie   \n",
      "22541  Just When You Thought You Were Safe Out of the...   \n",
      "31491                                                NaN   \n",
      "36434                                                NaN   \n",
      "38486                                                NaN   \n",
      "39685            Still waters run deep, dark and deadly.   \n",
      "\n",
      "                               title  vote_average  vote_count  \\\n",
      "318             Swimming with Sharks           6.7       104.0   \n",
      "22541                    Sand Sharks           2.7        37.0   \n",
      "31491             Cave of the Sharks           0.0         0.0   \n",
      "36434                 Piranha Sharks           5.0         4.0   \n",
      "38486  Tintin and the Lake of Sharks           6.0        16.0   \n",
      "39685            Night of the Sharks           3.0         1.0   \n",
      "\n",
      "          director_names  \n",
      "318       [George Huang]  \n",
      "22541      [Mark Atkins]  \n",
      "31491     [Tonino Ricci]  \n",
      "36434      [Leigh Scott]  \n",
      "38486  [Raymond Leblanc]  \n",
      "39685     [Tonino Ricci]  \n"
     ]
    }
   ],
   "source": [
    "sharks_rows = df[df['title'].str.contains('sharks', case=False)]\n",
    "print(sharks_rows)"
   ]
  },
  {
   "cell_type": "code",
   "execution_count": 75,
   "metadata": {},
   "outputs": [
    {
     "data": {
      "text/html": [
       "<div>\n",
       "<style scoped>\n",
       "    .dataframe tbody tr th:only-of-type {\n",
       "        vertical-align: middle;\n",
       "    }\n",
       "\n",
       "    .dataframe tbody tr th {\n",
       "        vertical-align: top;\n",
       "    }\n",
       "\n",
       "    .dataframe thead th {\n",
       "        text-align: right;\n",
       "    }\n",
       "</style>\n",
       "<table border=\"1\" class=\"dataframe\">\n",
       "  <thead>\n",
       "    <tr style=\"text-align: right;\">\n",
       "      <th></th>\n",
       "      <th>id</th>\n",
       "      <th>belongs_to_collection</th>\n",
       "      <th>budget</th>\n",
       "      <th>genres</th>\n",
       "      <th>original_language</th>\n",
       "      <th>overview</th>\n",
       "      <th>popularity</th>\n",
       "      <th>production_companies</th>\n",
       "      <th>production_countries</th>\n",
       "      <th>release_date</th>\n",
       "      <th>revenue</th>\n",
       "      <th>runtime</th>\n",
       "      <th>spoken_languages</th>\n",
       "      <th>status</th>\n",
       "      <th>tagline</th>\n",
       "      <th>title</th>\n",
       "      <th>vote_average</th>\n",
       "      <th>vote_count</th>\n",
       "      <th>director_names</th>\n",
       "    </tr>\n",
       "  </thead>\n",
       "  <tbody>\n",
       "    <tr>\n",
       "      <th>35666</th>\n",
       "      <td>89145</td>\n",
       "      <td>The Bowery Boys</td>\n",
       "      <td>0</td>\n",
       "      <td>[Drama, Comedy, Crime]</td>\n",
       "      <td>en</td>\n",
       "      <td>Slip invites his cousin Jimmy to stay with his...</td>\n",
       "      <td>0.1446</td>\n",
       "      <td>[Monogram Pictures]</td>\n",
       "      <td>[United States of America]</td>\n",
       "      <td>1948-03-07 00:00:00</td>\n",
       "      <td>0.0</td>\n",
       "      <td>0.0</td>\n",
       "      <td>[English]</td>\n",
       "      <td>Released</td>\n",
       "      <td>TWO-FISTED DRAMA!</td>\n",
       "      <td>Angels' Alley</td>\n",
       "      <td>3.0</td>\n",
       "      <td>1.0</td>\n",
       "      <td>[William Beaudine]</td>\n",
       "    </tr>\n",
       "    <tr>\n",
       "      <th>35667</th>\n",
       "      <td>249260</td>\n",
       "      <td></td>\n",
       "      <td>0</td>\n",
       "      <td>[TV Movie, Action, Horror, Science Fiction]</td>\n",
       "      <td>en</td>\n",
       "      <td>A group of skiers are terrorized during spring...</td>\n",
       "      <td>NaN</td>\n",
       "      <td></td>\n",
       "      <td></td>\n",
       "      <td>NaN</td>\n",
       "      <td>NaN</td>\n",
       "      <td>NaN</td>\n",
       "      <td></td>\n",
       "      <td>NaN</td>\n",
       "      <td>NaN</td>\n",
       "      <td>NaN</td>\n",
       "      <td>NaN</td>\n",
       "      <td>NaN</td>\n",
       "      <td>[Scott Wheeler]</td>\n",
       "    </tr>\n",
       "    <tr>\n",
       "      <th>35668</th>\n",
       "      <td>151911</td>\n",
       "      <td></td>\n",
       "      <td>0</td>\n",
       "      <td>[War, Drama]</td>\n",
       "      <td>en</td>\n",
       "      <td>A simple peasant is forced to take up arms to ...</td>\n",
       "      <td>0.69411</td>\n",
       "      <td>[United Artists, Walter Wanger Productions]</td>\n",
       "      <td>[United States of America]</td>\n",
       "      <td>1938-06-17 00:00:00</td>\n",
       "      <td>0.0</td>\n",
       "      <td>85.0</td>\n",
       "      <td>[English]</td>\n",
       "      <td>Released</td>\n",
       "      <td>Romance under Fire!</td>\n",
       "      <td>Blockade</td>\n",
       "      <td>0.0</td>\n",
       "      <td>0.0</td>\n",
       "      <td>[William Dieterle]</td>\n",
       "    </tr>\n",
       "  </tbody>\n",
       "</table>\n",
       "</div>"
      ],
      "text/plain": [
       "           id belongs_to_collection budget  \\\n",
       "35666   89145       The Bowery Boys      0   \n",
       "35667  249260                            0   \n",
       "35668  151911                            0   \n",
       "\n",
       "                                            genres original_language  \\\n",
       "35666                       [Drama, Comedy, Crime]                en   \n",
       "35667  [TV Movie, Action, Horror, Science Fiction]                en   \n",
       "35668                                 [War, Drama]                en   \n",
       "\n",
       "                                                overview popularity  \\\n",
       "35666  Slip invites his cousin Jimmy to stay with his...     0.1446   \n",
       "35667  A group of skiers are terrorized during spring...        NaN   \n",
       "35668  A simple peasant is forced to take up arms to ...    0.69411   \n",
       "\n",
       "                              production_companies  \\\n",
       "35666                          [Monogram Pictures]   \n",
       "35667                                                \n",
       "35668  [United Artists, Walter Wanger Productions]   \n",
       "\n",
       "             production_countries         release_date  revenue  runtime  \\\n",
       "35666  [United States of America]  1948-03-07 00:00:00      0.0      0.0   \n",
       "35667                                              NaN      NaN      NaN   \n",
       "35668  [United States of America]  1938-06-17 00:00:00      0.0     85.0   \n",
       "\n",
       "      spoken_languages    status              tagline          title  \\\n",
       "35666        [English]  Released    TWO-FISTED DRAMA!  Angels' Alley   \n",
       "35667                        NaN                  NaN            NaN   \n",
       "35668        [English]  Released  Romance under Fire!       Blockade   \n",
       "\n",
       "       vote_average  vote_count      director_names  \n",
       "35666           3.0         1.0  [William Beaudine]  \n",
       "35667           NaN         NaN     [Scott Wheeler]  \n",
       "35668           0.0         0.0  [William Dieterle]  "
      ]
     },
     "execution_count": 75,
     "metadata": {},
     "output_type": "execute_result"
    }
   ],
   "source": [
    "df.iloc[35560:35563]"
   ]
  },
  {
   "cell_type": "code",
   "execution_count": 57,
   "metadata": {},
   "outputs": [
    {
     "data": {
      "text/plain": [
       "0        [United States of America]\n",
       "1        [United States of America]\n",
       "2        [United States of America]\n",
       "3        [United States of America]\n",
       "4        [United States of America]\n",
       "                    ...            \n",
       "45533                        [Iran]\n",
       "45534                 [Philippines]\n",
       "45535    [United States of America]\n",
       "45536                      [Russia]\n",
       "45537              [United Kingdom]\n",
       "Name: production_countries, Length: 45432, dtype: object"
      ]
     },
     "execution_count": 57,
     "metadata": {},
     "output_type": "execute_result"
    }
   ],
   "source": [
    "df['production_countries']"
   ]
  },
  {
   "cell_type": "code",
   "execution_count": 93,
   "metadata": {},
   "outputs": [
    {
     "name": "stdout",
     "output_type": "stream",
     "text": [
      "Total Duplicates in id: 0\n"
     ]
    }
   ],
   "source": [
    "# comprobamos la columna 'id'\n",
    "check_duplicates(df, 'id')"
   ]
  },
  {
   "attachments": {},
   "cell_type": "markdown",
   "metadata": {},
   "source": [
    "___"
   ]
  },
  {
   "cell_type": "code",
   "execution_count": 52,
   "metadata": {},
   "outputs": [],
   "source": [
    "# Eliminar todas las filas duplicadas por el valor de 'id', ya que debe ser único.\n",
    "df.drop_duplicates(subset=['id', 'title'], keep='first', inplace=True)"
   ]
  },
  {
   "cell_type": "code",
   "execution_count": 54,
   "metadata": {},
   "outputs": [
    {
     "name": "stdout",
     "output_type": "stream",
     "text": [
      "Empty DataFrame\n",
      "Columns: [title, director_names, release_date, id]\n",
      "Index: []\n"
     ]
    }
   ],
   "source": [
    "# Filter to rows with title 'Cinderella'\n",
    "congress2 = df[df['production_countries'] == 'United States of America']\n",
    "\n",
    "# Print title and other relevant columns\n",
    "print(congress2[['title', 'director_names', 'release_date', 'id']])"
   ]
  },
  {
   "cell_type": "code",
   "execution_count": 90,
   "metadata": {},
   "outputs": [
    {
     "name": "stdout",
     "output_type": "stream",
     "text": [
      "2391\n",
      "production_countries\n",
      "['United States of America']                        17841\n",
      "[]                                                   6278\n",
      "['United Kingdom']                                   2238\n",
      "['France']                                           1653\n",
      "['Japan']                                            1354\n",
      "                                                    ...  \n",
      "['Finland', 'Germany', 'Netherlands']                   1\n",
      "['France', 'Denmark', 'Spain', 'Sweden']                1\n",
      "['France', 'United States of America', 'Canada']        1\n",
      "['France', 'Monaco', 'Spain', 'Switzerland']            1\n",
      "['Egypt', 'Italy', 'United States of America']          1\n",
      "Name: count, Length: 2391, dtype: int64\n"
     ]
    }
   ],
   "source": [
    "# Convert lists to strings\n",
    "df['production_countries'] = df['production_countries'].apply(str)\n",
    "\n",
    "# Count distinct values   \n",
    "num_countries = df['production_countries'].nunique()\n",
    "counts = df['production_countries'].value_counts()\n",
    "\n",
    "print(num_countries)\n",
    "print(counts)"
   ]
  },
  {
   "attachments": {},
   "cell_type": "markdown",
   "metadata": {},
   "source": [
    "### aquí hay un problemilla, porque trata ['France'] diferente a ['France','Denmark']\n",
    "#### no cuenta bien todas las apariciones de 'France'\n",
    "y lo peor de todo que luego la función de películas por país tampoco rula\n",
    "dice películas hechas en Francia 0"
   ]
  },
  {
   "cell_type": "code",
   "execution_count": 91,
   "metadata": {},
   "outputs": [
    {
     "name": "stdout",
     "output_type": "stream",
     "text": [
      "Index(['['United States of America']', '[]', '['United Kingdom']',\n",
      "       '['France']', '['Japan']', '['Italy']', '['Canada']', '['Germany']',\n",
      "       '['India']', '['Russia']',\n",
      "       ...\n",
      "       '['United States of America', 'Nicaragua', 'France']',\n",
      "       '['United Kingdom', 'Cayman Islands', 'Sweden']',\n",
      "       '['France', 'Italy', 'Belgium', 'Japan']',\n",
      "       '['Australia', 'South Africa']',\n",
      "       '['Romania', 'United Kingdom', 'Canada']',\n",
      "       '['Finland', 'Germany', 'Netherlands']',\n",
      "       '['France', 'Denmark', 'Spain', 'Sweden']',\n",
      "       '['France', 'United States of America', 'Canada']',\n",
      "       '['France', 'Monaco', 'Spain', 'Switzerland']',\n",
      "       '['Egypt', 'Italy', 'United States of America']'],\n",
      "      dtype='object', name='production_countries', length=2391)\n"
     ]
    }
   ],
   "source": [
    "unique_countries = counts.index\n",
    "\n",
    "print(unique_countries)\n",
    "\n",
    "# ['USA', 'UK', 'France', 'China', 'India']"
   ]
  },
  {
   "cell_type": "code",
   "execution_count": 72,
   "metadata": {},
   "outputs": [
    {
     "data": {
      "text/plain": [
       "Index(['id', 'belongs_to_collection', 'budget', 'genres', 'original_language',\n",
       "       'overview', 'popularity', 'production_companies',\n",
       "       'production_countries', 'release_date', 'revenue', 'runtime',\n",
       "       'spoken_languages', 'status', 'tagline', 'title', 'vote_average',\n",
       "       'vote_count', 'director_names'],\n",
       "      dtype='object')"
      ]
     },
     "execution_count": 72,
     "metadata": {},
     "output_type": "execute_result"
    }
   ],
   "source": [
    "df.columns"
   ]
  },
  {
   "cell_type": "code",
   "execution_count": 73,
   "metadata": {},
   "outputs": [],
   "source": [
    "# voy a ver si hay valores repetidos en 'id'\n",
    "id_counts = df['id'].value_counts()"
   ]
  },
  {
   "cell_type": "code",
   "execution_count": 79,
   "metadata": {},
   "outputs": [
    {
     "name": "stdout",
     "output_type": "stream",
     "text": [
      "id\n",
      "862       1\n",
      "74458     1\n",
      "296206    1\n",
      "107308    1\n",
      "16247     1\n",
      "         ..\n",
      "32985     1\n",
      "44399     1\n",
      "10138     1\n",
      "32084     1\n",
      "461257    1\n",
      "Name: count, Length: 45432, dtype: int64\n"
     ]
    }
   ],
   "source": [
    "print(id_counts)"
   ]
  },
  {
   "cell_type": "code",
   "execution_count": 80,
   "metadata": {},
   "outputs": [
    {
     "data": {
      "text/plain": [
       "(45432, 19)"
      ]
     },
     "execution_count": 80,
     "metadata": {},
     "output_type": "execute_result"
    }
   ],
   "source": [
    "df.shape"
   ]
  },
  {
   "cell_type": "code",
   "execution_count": 75,
   "metadata": {},
   "outputs": [],
   "source": [
    "most_common = id_counts.sort_values(ascending=False).head()"
   ]
  },
  {
   "cell_type": "code",
   "execution_count": 76,
   "metadata": {},
   "outputs": [
    {
     "name": "stdout",
     "output_type": "stream",
     "text": [
      "id\n",
      "862      1\n",
      "2086     1\n",
      "1710     1\n",
      "9087     1\n",
      "15602    1\n",
      "Name: count, dtype: int64\n"
     ]
    }
   ],
   "source": [
    "print(most_common)"
   ]
  },
  {
   "attachments": {},
   "cell_type": "markdown",
   "metadata": {},
   "source": [
    "___\n"
   ]
  },
  {
   "cell_type": "code",
   "execution_count": 98,
   "metadata": {},
   "outputs": [
    {
     "data": {
      "text/plain": [
       "Index(['id', 'belongs_to_collection', 'budget', 'genres', 'original_language',\n",
       "       'overview', 'popularity', 'production_companies',\n",
       "       'production_countries', 'release_date', 'revenue', 'runtime',\n",
       "       'spoken_languages', 'status', 'tagline', 'title', 'vote_average',\n",
       "       'vote_count', 'director_names'],\n",
       "      dtype='object')"
      ]
     },
     "execution_count": 98,
     "metadata": {},
     "output_type": "execute_result"
    }
   ],
   "source": [
    "df.columns"
   ]
  },
  {
   "attachments": {},
   "cell_type": "markdown",
   "metadata": {},
   "source": [
    "___"
   ]
  },
  {
   "cell_type": "code",
   "execution_count": 100,
   "metadata": {},
   "outputs": [
    {
     "name": "stdout",
     "output_type": "stream",
     "text": [
      "Se produjeron 0 peliculas en el pais France\n"
     ]
    },
    {
     "name": "stderr",
     "output_type": "stream",
     "text": [
      "C:\\Users\\raftx\\AppData\\Local\\Temp\\ipykernel_13980\\2560518445.py:5: SettingWithCopyWarning: \n",
      "A value is trying to be set on a copy of a slice from a DataFrame.\n",
      "Try using .loc[row_indexer,col_indexer] = value instead\n",
      "\n",
      "See the caveats in the documentation: https://pandas.pydata.org/pandas-docs/stable/user_guide/indexing.html#returning-a-view-versus-a-copy\n",
      "  df['production_countries'] = df['production_countries'].apply(str).str.split(',')\n"
     ]
    }
   ],
   "source": [
    "def peliculas_pais(pais):\n",
    "    global df\n",
    "\n",
    "    # Explode the lists into separate rows \n",
    "    df['production_countries'] = df['production_countries'].apply(str).str.split(',')\n",
    "    df = df.explode('production_countries')\n",
    "    \n",
    "    # Count the number of rows for the given country   \n",
    "    num_peliculas = df[df['production_countries'] == pais].shape[0]\n",
    "    \n",
    "    # Return string with result\n",
    "    return f\"Se produjeron {num_peliculas} peliculas en el pais {pais}\"\n",
    "\n",
    "# Usage example\n",
    "result = peliculas_pais('France') \n",
    "print(result)\n"
   ]
  },
  {
   "cell_type": "code",
   "execution_count": 101,
   "metadata": {},
   "outputs": [
    {
     "name": "stdout",
     "output_type": "stream",
     "text": [
      "Se produjeron 0 peliculas en el pais France\n"
     ]
    }
   ],
   "source": [
    "def peliculas_pais(pais):\n",
    "    global df\n",
    "     # Explode the lists into separate rows \n",
    "    df.loc[:, 'production_countries'] = df['production_countries'].str.split(',')\n",
    "    df = df.explode('production_countries')\n",
    "     # Count the number of rows for the given country   \n",
    "    num_peliculas = df[df['production_countries'] == pais].shape[0]\n",
    "     # Return string with result\n",
    "    return f\"Se produjeron {num_peliculas} peliculas en el pais {pais}\"\n",
    " # Usage example\n",
    "result = peliculas_pais('France') \n",
    "print(result)"
   ]
  },
  {
   "cell_type": "code",
   "execution_count": 82,
   "metadata": {},
   "outputs": [],
   "source": [
    "def peliculas_pais(pais):\n",
    "    '''\n",
    "    Se ingresa un país, retornando la cantidad de peliculas producidas en el mismo.\n",
    "\n",
    "    Args:\n",
    "        pais (str): El nombre del país.\n",
    "\n",
    "    Returns:\n",
    "        Un string: 'Se produjeron X películas en el país Y'\n",
    "\n",
    "    '''\n",
    "\n",
    "    # filtrar las películas producidas en el país dado\n",
    "    peliculas_pais = df[df['production_countries'].str.contains(pais, case=False, na=False)]\n",
    "\n",
    "    # obtener la cantidad de películas producidas en ese país\n",
    "    cantidad = len(peliculas_pais)\n",
    "\n",
    "    resultado = f\"Se produjeron {cantidad} películas en el país {pais}\"\n",
    "\n",
    "    return resultado"
   ]
  },
  {
   "cell_type": "code",
   "execution_count": 83,
   "metadata": {},
   "outputs": [
    {
     "data": {
      "text/plain": [
       "'Se produjeron 0 películas en el país United States'"
      ]
     },
     "execution_count": 83,
     "metadata": {},
     "output_type": "execute_result"
    }
   ],
   "source": [
    "peliculas_pais('United States')"
   ]
  },
  {
   "cell_type": "code",
   "execution_count": null,
   "metadata": {},
   "outputs": [],
   "source": [
    "peliculas_pais('Argentina')"
   ]
  },
  {
   "attachments": {},
   "cell_type": "markdown",
   "metadata": {},
   "source": [
    "___\n"
   ]
  },
  {
   "cell_type": "code",
   "execution_count": null,
   "metadata": {},
   "outputs": [],
   "source": [
    "# @app.get('/get_director')\n",
    "def get_director(nombre_director):\n",
    "    retorno=[]\n",
    "    peliculas=[]\n",
    "    indice = []\n",
    "\n",
    "    for index, row in df.iterrows():\n",
    "        if nombre_director in row[\"directors\"]:\n",
    "            peliculas.append(row['title'])\n",
    "            retorno.append(row[\"return\"])\n",
    "            indice.append(index)\n",
    "        else:\n",
    "            continue\n",
    "\n",
    "    new_retorno = [valor for valor in retorno if valor != 0]\n",
    "    retorno_final = sum(new_retorno)\n",
    "    retorno_sum = sum(retorno)\n",
    "\n",
    "    if len(peliculas) > 1:\n",
    "        promedio = retorno_final/len(new_retorno)\n",
    "        peliculas_seleccionadas = df.loc[indice]\n",
    "        peliculas_part = []\n",
    "        fecha_lanzamiento = []\n",
    "        retorno = []\n",
    "        costo = []\n",
    "        revenue = []\n",
    "        for _, fila in peliculas_seleccionadas.iterrows():\n",
    "            peliculas_part.append(fila['title'])\n",
    "            fecha_lanzamiento.append(fila['release_date'])\n",
    "            revenue.append(fila['revenue'])\n",
    "            costo.append(fila['budget'])\n",
    "            retorno.append(fila{'return'})\n",
    "        return {'director':nombre_director, 'retorno_total_director':retorno_final, 'peliculas':peliculas_part, 'anio':fecha_lanzamiento, 'retorno_pelicula':retorno,'budget_pelicula':costo,'revenue_pelicula':revenue}\n",
    "    else:\n",
    "        return {'patata':nombre_director}"
   ]
  },
  {
   "cell_type": "code",
   "execution_count": null,
   "metadata": {},
   "outputs": [],
   "source": [
    "# Ejemplo de función que busca las películas de un director:\n",
    "def get_director_movie_titles(director_name):  \n",
    "    director_movies = []\n",
    "    director_rows = None\n",
    "    try:\n",
    "       # Filtrar sólo las celdas de directores\n",
    "       # director_rows = [df['director_names']]\n",
    "       \n",
    "       # Encontrar el director específico  \n",
    "       director_row = director_rows[director_rows['crew'].apply(lambda x: json.loads(x)['name'] == director_name)] \n",
    "       \n",
    "       # Obtener el ID de crédito  \n",
    "       credit_id = director_row['credit_id'].values[0]  \n",
    "  \n",
    "       # Encontrar las películas con ese ID\n",
    "       movie_rows = df_movies[df_movies['credit_id'] == credit_id]  \n",
    "  \n",
    "       # Extraer los títulos de películas  \n",
    "       titles = movie_rows['title'].tolist()\n",
    "       director_movies.extend(titles)\n",
    "        \n",
    "    except JSONDecodeError:\n",
    "       pass  \n",
    "        \n",
    "    # Buscar cualquier otra fila con el mismo director        \n",
    "    for row in director_rows['crew']:\n",
    "       try:\n",
    "           crew = json.loads(row)\n",
    "           if crew['name'] == director_name:  \n",
    "               credit_id = crew['credit_id']  \n",
    "               movie_rows = df_movies[df_movies['credit_id'] == credit_id]  \n",
    "               titles = movie_rows['title'].tolist()\n",
    "               director_movies.extend(titles)  \n",
    "       except JSONDecodeError:\n",
    "           pass\n",
    "           \n",
    "    return f\"{director_name} directed: {', '.join(director_movies)}\""
   ]
  },
  {
   "attachments": {},
   "cell_type": "markdown",
   "metadata": {},
   "source": [
    "___  \n",
    "## DIRECTOR"
   ]
  },
  {
   "cell_type": "code",
   "execution_count": null,
   "metadata": {},
   "outputs": [],
   "source": [
    "# Comprobar el funcionamiento de la función get_director...\n",
    "spielberg_movies = get_director_movie_titles(\"Steven Spielberg\")\n",
    "print(spielberg_movies)\n",
    "# ['Jaws', 'Raiders of the Lost Ark', 'E.T. the Extra-Terrestrial', ...]"
   ]
  },
  {
   "attachments": {},
   "cell_type": "markdown",
   "metadata": {},
   "source": [
    "Dado el éxito del tratamiento de la columna `belongs_to_collection` vamos a seguir transformando las otras columnas de este tipo"
   ]
  },
  {
   "cell_type": "code",
   "execution_count": null,
   "metadata": {},
   "outputs": [],
   "source": [
    "# comprobar los tipos de la columna 'genres'\n",
    "# Ver los tipos únicos \n",
    "df_movies['genres'].apply(type).unique()\n",
    "# al devolver solo un tipo (string), no la vamos a tocar más.\n"
   ]
  },
  {
   "cell_type": "code",
   "execution_count": null,
   "metadata": {},
   "outputs": [],
   "source": [
    "# un momento, en vez de ir comprobando una por una, vamos a hacerlo a la vez\n",
    "for col in df_movies.columns:\n",
    "    col_types = df_movies[col].apply(type).unique()\n",
    "    print(f\"{col}: {col_types}\")"
   ]
  },
  {
   "attachments": {},
   "cell_type": "markdown",
   "metadata": {},
   "source": [
    "___  \n",
    "### Transformaciones de la columna `budget`"
   ]
  },
  {
   "cell_type": "code",
   "execution_count": null,
   "metadata": {},
   "outputs": [],
   "source": [
    "# Hemos identificado que hay otras columnas con disparidad de tipos...\n",
    "# Vamos a por la primera: 'budget'\n",
    "# Filtrar solo strings\n",
    "strings = df_movies[df_movies['budget'].apply(type) == str]['budget']\n",
    "\n",
    "print(strings)"
   ]
  },
  {
   "cell_type": "code",
   "execution_count": null,
   "metadata": {},
   "outputs": [],
   "source": [
    "int_count = df_movies['budget'].apply(lambda x: 1 if type(x)==int else 0).sum()\n",
    "str_count = df_movies['budget'].apply(lambda x: 1 if type(x)==str else 0).sum()\n",
    "\n",
    "print(f\"Number of int values: {int_count}\") \n",
    "print(f\"Number of str values: {str_count}\")"
   ]
  },
  {
   "cell_type": "code",
   "execution_count": null,
   "metadata": {},
   "outputs": [],
   "source": [
    "# antes hemos identificado 3 strings en la variable strings\n",
    "# así que podemos sustituir lo que sea que contuvieran por 0 (integer directamente)\n",
    "df_movies.loc[strings.index, 'budget'] = 0"
   ]
  },
  {
   "cell_type": "code",
   "execution_count": null,
   "metadata": {},
   "outputs": [],
   "source": [
    "# vamos a por los nans del 'budget'\n",
    "nan_values = df_movies['budget'].isna()\n"
   ]
  },
  {
   "cell_type": "code",
   "execution_count": null,
   "metadata": {},
   "outputs": [],
   "source": [
    "print(nan_values) # no parece que haya ningún nan"
   ]
  },
  {
   "cell_type": "code",
   "execution_count": null,
   "metadata": {},
   "outputs": [],
   "source": [
    "# a ver cuántos 'budget' hay distintos a 0\n",
    "print(df_movies[df_movies['budget']!=0]['budget'])"
   ]
  },
  {
   "cell_type": "code",
   "execution_count": null,
   "metadata": {},
   "outputs": [],
   "source": [
    "# aunque en la API no se usa la columna 'budget' en las transformaciones se requiere\n",
    "# que los nulos sean 0 (y también hemos visto que hay 3 strings - los pondremos a 0 igualmente)\n",
    "df_movies.loc[nan_values, 'budget'] = 0"
   ]
  },
  {
   "cell_type": "code",
   "execution_count": null,
   "metadata": {},
   "outputs": [],
   "source": [
    "print(df_movies[df_movies['budget']==0]['budget'])"
   ]
  },
  {
   "attachments": {},
   "cell_type": "markdown",
   "metadata": {},
   "source": [
    "___  \n",
    "### Transformaciones `revenue`"
   ]
  },
  {
   "cell_type": "code",
   "execution_count": null,
   "metadata": {},
   "outputs": [],
   "source": [
    "nan_values = df_movies['revenue'].isna()\n",
    "print(nan_values)\n",
    "# reemplazar los valores NaN en la columna 'revenue' con el valor 0\n",
    "df_movies.loc[nan_values, 'revenue'] = 0\n"
   ]
  },
  {
   "cell_type": "code",
   "execution_count": null,
   "metadata": {},
   "outputs": [],
   "source": [
    "# comprobar cuántos 'revenue' hay iguales a 0\n",
    "print(df_movies[df_movies['revenue']==0]['revenue'])\n",
    "# y cuántos distintos a 0\n",
    "print(df_movies[df_movies['revenue']!=0]['revenue'])\n",
    "\n",
    "# conclusión: hay muy pocos datos en 'revenue', la mayoría eran nulos y ahora son 0"
   ]
  },
  {
   "attachments": {},
   "cell_type": "markdown",
   "metadata": {},
   "source": [
    "___"
   ]
  },
  {
   "cell_type": "code",
   "execution_count": null,
   "metadata": {},
   "outputs": [],
   "source": [
    "df_movies.columns"
   ]
  },
  {
   "cell_type": "code",
   "execution_count": null,
   "metadata": {},
   "outputs": [],
   "source": [
    "# comprobar la columna 'original_language'\n",
    "df_movies['original_language'].apply(type).unique()"
   ]
  },
  {
   "cell_type": "code",
   "execution_count": null,
   "metadata": {},
   "outputs": [],
   "source": [
    "# Ver tipos únicos\n",
    "types = df_movies['original_language'].apply(type).unique()\n",
    "\n",
    "# Clasificar valores por tipo\n",
    "strings = df_movies[df_movies['original_language'].apply(type) == str]['original_language']\n",
    "floats = df_movies[df_movies['original_language'].apply(type) == float]['original_language']  \n",
    "integers = df_movies[df_movies['original_language'].apply(type) == int]['original_language']\n",
    "\n",
    "# Imprimir valores clasificados\n",
    "print(f\"Strings: {strings}\")\n",
    "print(f\"Floats: {floats}\") \n",
    "print(f\"Integers: {integers}\")"
   ]
  },
  {
   "cell_type": "code",
   "execution_count": null,
   "metadata": {},
   "outputs": [],
   "source": [
    "# compruebo qué películas son esas de 'original_language' igual a NaN\n",
    "float_nans = df_movies[df_movies['original_language'].apply(type) == float]\n",
    "\n",
    "float_nans[['original_language', 'title','release_date']]"
   ]
  },
  {
   "cell_type": "code",
   "execution_count": null,
   "metadata": {},
   "outputs": [],
   "source": [
    "# Convertir a string\n",
    "df_movies['original_language'] = df_movies['original_language'].astype(str)"
   ]
  },
  {
   "cell_type": "code",
   "execution_count": null,
   "metadata": {},
   "outputs": [],
   "source": [
    "# comprobar nuevamente la columna 'original_language' tras la conversión\n",
    "df_movies['original_language'].apply(type).unique()"
   ]
  },
  {
   "cell_type": "code",
   "execution_count": null,
   "metadata": {},
   "outputs": [],
   "source": [
    "# comprobar qué filas contienen en la columna 'original_language' un valor \n",
    "# más largo de 2 caracteres\n",
    "\n",
    "mask = df_movies['original_language'].str.len() > 2\n",
    "df_movies[mask]"
   ]
  },
  {
   "cell_type": "code",
   "execution_count": null,
   "metadata": {},
   "outputs": [],
   "source": [
    "# Identificar valores a reemplazar de la columna 'original_language'\n",
    "condition1 = df_movies['original_language'] == '104'\n",
    "condition2 = df_movies['original_language'] == '68' \n",
    "condition3 = df_movies['original_language'] == '82'\n",
    "condition4 = df_movies['original_language'] == 'nan'\n",
    "\n",
    "condition = condition1 | condition2 | condition3 | condition4\n",
    "\n",
    "# Reemplazar esos valores con 'unknown'\n",
    "df_movies.loc[condition, 'original_language'] = 'unknown' "
   ]
  }
 ],
 "metadata": {
  "kernelspec": {
   "display_name": "Python 3",
   "language": "python",
   "name": "python3"
  },
  "language_info": {
   "codemirror_mode": {
    "name": "ipython",
    "version": 3
   },
   "file_extension": ".py",
   "mimetype": "text/x-python",
   "name": "python",
   "nbconvert_exporter": "python",
   "pygments_lexer": "ipython3",
   "version": "3.11.0"
  },
  "orig_nbformat": 4
 },
 "nbformat": 4,
 "nbformat_minor": 2
}
