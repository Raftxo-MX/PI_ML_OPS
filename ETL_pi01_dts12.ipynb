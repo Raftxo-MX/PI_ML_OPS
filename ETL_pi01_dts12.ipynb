{
 "cells": [
  {
   "attachments": {},
   "cell_type": "markdown",
   "metadata": {},
   "source": [
    "### Ingesta de datos del proyecto PI_ML_OPS cohorte DTS-12 \n",
    "#### https://github.com/Raftxo-MX/PI_ML_OPS.git"
   ]
  },
  {
   "attachments": {},
   "cell_type": "markdown",
   "metadata": {},
   "source": [
    "Importamos las librerías necesarias en el proceso ETL\n"
   ]
  },
  {
   "cell_type": "code",
   "execution_count": 14,
   "metadata": {},
   "outputs": [],
   "source": [
    "import pandas as pd\n",
    "import numpy as np\n",
    "import ast\n",
    "import re\n",
    "import matplotlib.pylab as plt\n",
    "import seaborn as sns\n",
    "plt.style.use('ggplot')"
   ]
  },
  {
   "attachments": {},
   "cell_type": "markdown",
   "metadata": {},
   "source": [
    "Cargamos los datos CSV en dataframes:"
   ]
  },
  {
   "cell_type": "code",
   "execution_count": 2,
   "metadata": {},
   "outputs": [
    {
     "name": "stderr",
     "output_type": "stream",
     "text": [
      "C:\\Users\\raftx\\AppData\\Local\\Temp\\ipykernel_23316\\3250179558.py:1: DtypeWarning: Columns (10) have mixed types. Specify dtype option on import or set low_memory=False.\n",
      "  movies_df = pd.read_csv('./data/movies_dataset.csv')\n"
     ]
    }
   ],
   "source": [
    "movies_df = pd.read_csv('./data/movies_dataset.csv')\n",
    "credits_df = pd.read_csv('./data/credits.csv')"
   ]
  },
  {
   "attachments": {},
   "cell_type": "markdown",
   "metadata": {},
   "source": [
    "Convertimos los valores de la columna 'budget' de string a integer"
   ]
  },
  {
   "cell_type": "code",
   "execution_count": null,
   "metadata": {},
   "outputs": [],
   "source": [
    "movies_df['budget'] = movies_df['budget'].astype(int)\n",
    "# da errores de momento, hay que encontrar valores chungueras"
   ]
  },
  {
   "attachments": {},
   "cell_type": "markdown",
   "metadata": {},
   "source": [
    "Primero vamos a buscar filas con valores nulos en 'id'"
   ]
  },
  {
   "cell_type": "code",
   "execution_count": 86,
   "metadata": {},
   "outputs": [
    {
     "name": "stdout",
     "output_type": "stream",
     "text": [
      "Empty DataFrame\n",
      "Columns: [adult, belongs_to_collection, budget, genres, homepage, id, imdb_id, original_language, original_title, overview, popularity, poster_path, production_companies, production_countries, release_date, revenue, runtime, spoken_languages, status, tagline, title, video, vote_average, vote_count]\n",
      "Index: []\n",
      "\n",
      "[0 rows x 24 columns]\n"
     ]
    }
   ],
   "source": [
    "mask = movies_df['id'].isnull()\n",
    "issues = movies_df.loc[mask]\n",
    "print(issues)"
   ]
  },
  {
   "attachments": {},
   "cell_type": "markdown",
   "metadata": {},
   "source": [
    "También quiero saber los valores nulos en 'title'.\n",
    "Hay 6 filas con los datos corridos con valores NaN en columnas importantes para la API"
   ]
  },
  {
   "cell_type": "code",
   "execution_count": 85,
   "metadata": {},
   "outputs": [
    {
     "name": "stdout",
     "output_type": "stream",
     "text": [
      "                                                   adult  \\\n",
      "19729                                              False   \n",
      "19730                                 - Written by Ørnås   \n",
      "29502                                              False   \n",
      "29503   Rune Balot goes to a casino connected to the ...   \n",
      "35586                                              False   \n",
      "35587   Avalanche Sharks tells the story of a bikini ...   \n",
      "\n",
      "                                   belongs_to_collection  \\\n",
      "19729                                                NaN   \n",
      "19730                                           0.065736   \n",
      "29502  {'id': 122661, 'name': 'Mardock Scramble Colle...   \n",
      "29503                                           1.931659   \n",
      "35586                                                NaN   \n",
      "35587                                           2.185485   \n",
      "\n",
      "                                 budget  \\\n",
      "19729                                 0   \n",
      "19730  /ff9qCepilowshEtG2GYWwzt2bs4.jpg   \n",
      "29502                                 0   \n",
      "29503  /zV8bHuSL6WXoD6FWogP9j4x80bL.jpg   \n",
      "35586                                 0   \n",
      "35587  /zaSf5OG7V8X8gqFvly88zDdRm46.jpg   \n",
      "\n",
      "                                                  genres  \\\n",
      "19729  [{'id': 28, 'name': 'Action'}, {'id': 53, 'nam...   \n",
      "19730  [{'name': 'Carousel Productions', 'id': 11176}...   \n",
      "29502  [{'id': 16, 'name': 'Animation'}, {'id': 878, ...   \n",
      "29503  [{'name': 'Aniplex', 'id': 2883}, {'name': 'Go...   \n",
      "35586  [{'id': 10770, 'name': 'TV Movie'}, {'id': 28,...   \n",
      "35587  [{'name': 'Odyssey Media', 'id': 17161}, {'nam...   \n",
      "\n",
      "                                                homepage          id  \\\n",
      "19729                                                NaN       82663   \n",
      "19730  [{'iso_3166_1': 'CA', 'name': 'Canada'}, {'iso...  1997-08-20   \n",
      "29502                      http://m-scramble.jp/exhaust/      122662   \n",
      "29503  [{'iso_3166_1': 'US', 'name': 'United States o...  2012-09-29   \n",
      "35586                                                NaN      249260   \n",
      "35587           [{'iso_3166_1': 'CA', 'name': 'Canada'}]  2014-01-01   \n",
      "\n",
      "         imdb_id original_language                            original_title  \\\n",
      "19729  tt0113002                en                              Midnight Man   \n",
      "19730          0             104.0  [{'iso_639_1': 'en', 'name': 'English'}]   \n",
      "29502  tt2423504                ja                          マルドゥック・スクランブル 排気   \n",
      "29503          0              68.0      [{'iso_639_1': 'ja', 'name': '日本語'}]   \n",
      "35586  tt2622826                en                          Avalanche Sharks   \n",
      "35587          0              82.0  [{'iso_639_1': 'en', 'name': 'English'}]   \n",
      "\n",
      "                                                overview  ... release_date  \\\n",
      "19729  British soldiers force a recently captured IRA...  ...          NaN   \n",
      "19730                                           Released  ...            1   \n",
      "29502         Third film of the Mardock Scramble series.  ...          NaN   \n",
      "29503                                           Released  ...           12   \n",
      "35586  A group of skiers are terrorized during spring...  ...          NaN   \n",
      "35587                                           Released  ...           22   \n",
      "\n",
      "      revenue runtime spoken_languages status  tagline  title video  \\\n",
      "19729     NaN     NaN              NaN    NaN      NaN    NaN   NaN   \n",
      "19730     NaN     NaN              NaN    NaN      NaN    NaN   NaN   \n",
      "29502     NaN     NaN              NaN    NaN      NaN    NaN   NaN   \n",
      "29503     NaN     NaN              NaN    NaN      NaN    NaN   NaN   \n",
      "35586     NaN     NaN              NaN    NaN      NaN    NaN   NaN   \n",
      "35587     NaN     NaN              NaN    NaN      NaN    NaN   NaN   \n",
      "\n",
      "      vote_average vote_count  \n",
      "19729          NaN        NaN  \n",
      "19730          NaN        NaN  \n",
      "29502          NaN        NaN  \n",
      "29503          NaN        NaN  \n",
      "35586          NaN        NaN  \n",
      "35587          NaN        NaN  \n",
      "\n",
      "[6 rows x 24 columns]\n"
     ]
    }
   ],
   "source": [
    "mask = movies_df['title'].isnull()\n",
    "issues = movies_df.loc[mask]\n",
    "print(issues)\n",
    "# en este query encontramos un patrón de datos traslapados"
   ]
  },
  {
   "cell_type": "code",
   "execution_count": 94,
   "metadata": {},
   "outputs": [],
   "source": [
    "mask = movies_df['id'].str.len() > 8\n",
    "issues = movies_df.loc[mask]"
   ]
  },
  {
   "cell_type": "code",
   "execution_count": 95,
   "metadata": {},
   "outputs": [
    {
     "name": "stdout",
     "output_type": "stream",
     "text": [
      "                                                   adult  \\\n",
      "19730                                 - Written by Ørnås   \n",
      "29503   Rune Balot goes to a casino connected to the ...   \n",
      "35587   Avalanche Sharks tells the story of a bikini ...   \n",
      "\n",
      "      belongs_to_collection                            budget  \\\n",
      "19730              0.065736  /ff9qCepilowshEtG2GYWwzt2bs4.jpg   \n",
      "29503              1.931659  /zV8bHuSL6WXoD6FWogP9j4x80bL.jpg   \n",
      "35587              2.185485  /zaSf5OG7V8X8gqFvly88zDdRm46.jpg   \n",
      "\n",
      "                                                  genres  \\\n",
      "19730  [{'name': 'Carousel Productions', 'id': 11176}...   \n",
      "29503  [{'name': 'Aniplex', 'id': 2883}, {'name': 'Go...   \n",
      "35587  [{'name': 'Odyssey Media', 'id': 17161}, {'nam...   \n",
      "\n",
      "                                                homepage          id imdb_id  \\\n",
      "19730  [{'iso_3166_1': 'CA', 'name': 'Canada'}, {'iso...  1997-08-20       0   \n",
      "29503  [{'iso_3166_1': 'US', 'name': 'United States o...  2012-09-29       0   \n",
      "35587           [{'iso_3166_1': 'CA', 'name': 'Canada'}]  2014-01-01       0   \n",
      "\n",
      "      original_language                            original_title  overview  \\\n",
      "19730             104.0  [{'iso_639_1': 'en', 'name': 'English'}]  Released   \n",
      "29503              68.0      [{'iso_639_1': 'ja', 'name': '日本語'}]  Released   \n",
      "35587              82.0  [{'iso_639_1': 'en', 'name': 'English'}]  Released   \n",
      "\n",
      "       ... release_date revenue runtime spoken_languages status  tagline  \\\n",
      "19730  ...            1     NaN     NaN              NaN    NaN      NaN   \n",
      "29503  ...           12     NaN     NaN              NaN    NaN      NaN   \n",
      "35587  ...           22     NaN     NaN              NaN    NaN      NaN   \n",
      "\n",
      "       title video vote_average vote_count  \n",
      "19730    NaN   NaN          NaN        NaN  \n",
      "29503    NaN   NaN          NaN        NaN  \n",
      "35587    NaN   NaN          NaN        NaN  \n",
      "\n",
      "[3 rows x 24 columns]\n"
     ]
    }
   ],
   "source": [
    "print(issues)"
   ]
  },
  {
   "cell_type": "code",
   "execution_count": 91,
   "metadata": {},
   "outputs": [
    {
     "name": "stdout",
     "output_type": "stream",
     "text": [
      "19730    1997-08-20\n",
      "Name: id, dtype: object\n"
     ]
    }
   ],
   "source": [
    "mask = movies_df['budget'].str.contains('ff9qCepilowshEtG2GYWwzt2bs4')\n",
    "issues = movies_df.loc[mask]\n",
    "print(issues['id'])\n",
    "\n",
    "# aquí encontramos una fila que nos salía también problemática al comprobar los 'id'\n"
   ]
  },
  {
   "cell_type": "code",
   "execution_count": 93,
   "metadata": {},
   "outputs": [
    {
     "name": "stdout",
     "output_type": "stream",
     "text": [
      "19730    1997-08-20\n",
      "29503    2012-09-29\n",
      "35587    2014-01-01\n",
      "Name: id, dtype: object\n"
     ]
    }
   ],
   "source": [
    "mask = movies_df['id'].str.len() > 8\n",
    "issues = movies_df.loc[mask]\n",
    "print(issues['id'])"
   ]
  },
  {
   "attachments": {},
   "cell_type": "markdown",
   "metadata": {},
   "source": [
    "### Hay filas con datos traslapados\n",
    "## 19729 y 19730 \n",
    "## 19502 y 29503\n",
    "## 35586 y 35587"
   ]
  },
  {
   "cell_type": "code",
   "execution_count": 104,
   "metadata": {},
   "outputs": [
    {
     "data": {
      "text/plain": [
       "adult                                                                False\n",
       "belongs_to_collection                                                  NaN\n",
       "budget                                                                   0\n",
       "genres                   [{'id': 28, 'name': 'Action'}, {'id': 53, 'nam...\n",
       "homepage                                                               NaN\n",
       "id                                                                   82663\n",
       "imdb_id                                                          tt0113002\n",
       "original_language                                                       en\n",
       "original_title                                                Midnight Man\n",
       "overview                 British soldiers force a recently captured IRA...\n",
       "popularity                                                        0.065736\n",
       "poster_path                               /ff9qCepilowshEtG2GYWwzt2bs4.jpg\n",
       "production_companies     [{'name': 'Carousel Productions', 'id': 11176}...\n",
       "production_countries     [{'iso_3166_1': 'CA', 'name': 'Canada'}, {'iso...\n",
       "release_date                                                    1997-08-20\n",
       "revenue                                                                  0\n",
       "runtime                                                              104.0\n",
       "spoken_languages                  [{'iso_639_1': 'en', 'name': 'English'}]\n",
       "status                                                            Released\n",
       "tagline                                                                NaN\n",
       "title                                                         Midnight Man\n",
       "video                                                                False\n",
       "vote_average                                                           6.0\n",
       "vote_count                                                               1\n",
       "Name: 19729, dtype: object"
      ]
     },
     "execution_count": 104,
     "metadata": {},
     "output_type": "execute_result"
    }
   ],
   "source": [
    "movies_df.loc[19729]"
   ]
  },
  {
   "cell_type": "code",
   "execution_count": 105,
   "metadata": {},
   "outputs": [
    {
     "data": {
      "text/plain": [
       "adult                                                   - Written by Ørnås\n",
       "belongs_to_collection                                             0.065736\n",
       "budget                                    /ff9qCepilowshEtG2GYWwzt2bs4.jpg\n",
       "genres                   [{'name': 'Carousel Productions', 'id': 11176}...\n",
       "homepage                 [{'iso_3166_1': 'CA', 'name': 'Canada'}, {'iso...\n",
       "id                                                              1997-08-20\n",
       "imdb_id                                                                  0\n",
       "original_language                                                    104.0\n",
       "original_title                    [{'iso_639_1': 'en', 'name': 'English'}]\n",
       "overview                                                          Released\n",
       "popularity                                                             NaN\n",
       "poster_path                                                   Midnight Man\n",
       "production_companies                                                 False\n",
       "production_countries                                                   6.0\n",
       "release_date                                                             1\n",
       "revenue                                                                NaN\n",
       "runtime                                                                NaN\n",
       "spoken_languages                                                       NaN\n",
       "status                                                                 NaN\n",
       "tagline                                                                NaN\n",
       "title                                                                  NaN\n",
       "video                                                                  NaN\n",
       "vote_average                                                           NaN\n",
       "vote_count                                                             NaN\n",
       "Name: 19730, dtype: object"
      ]
     },
     "execution_count": 105,
     "metadata": {},
     "output_type": "execute_result"
    }
   ],
   "source": [
    "movies_df.loc[19730]"
   ]
  },
  {
   "cell_type": "code",
   "execution_count": 98,
   "metadata": {},
   "outputs": [],
   "source": [
    "# una manera rudimentaria sería ir moviendo uno a uno los datos, por ejemplo:\n",
    "# Mover 'belongs_to_collection' de 19730 a 'popularity' de 19729\n",
    "movies_df.loc[19729, 'popularity'] = movies_df.loc[19730, 'belongs_to_collection']\n",
    "\n",
    "# Mover 'budget' de 19730 a 'poster_path' de 19729\n",
    "movies_df.loc[19729, 'poster_path'] = movies_df.loc[19730, 'budget']"
   ]
  },
  {
   "cell_type": "code",
   "execution_count": 102,
   "metadata": {},
   "outputs": [],
   "source": [
    "# otra manera sería hacerlo con una función con un loop simple:\n",
    "def unlap(row):\n",
    "    for i in range(1,15):\n",
    "        j=i+9\n",
    "        movies_df.iloc[row-1,j] = movies_df.iloc[row,i]"
   ]
  },
  {
   "cell_type": "code",
   "execution_count": 103,
   "metadata": {},
   "outputs": [],
   "source": [
    "# Vamos a probar la función con las filas 19730 y la anterior\n",
    "unlap(19730)\n",
    "# todo perfecto, ya tenemos la fila 19729 bien bonita, con todos los datos faltantes\n",
    "# más adelante borraremos la fila 19730 que ya no nos sirve para nada"
   ]
  },
  {
   "cell_type": "code",
   "execution_count": 106,
   "metadata": {},
   "outputs": [],
   "source": [
    "# procedemos a \"destraspolar\" las otras dos filas traspoladas\n",
    "unlap(29503)\n",
    "unlap(35587)"
   ]
  },
  {
   "cell_type": "code",
   "execution_count": 107,
   "metadata": {},
   "outputs": [
    {
     "data": {
      "text/plain": [
       "adult                                                                False\n",
       "belongs_to_collection    {'id': 122661, 'name': 'Mardock Scramble Colle...\n",
       "budget                                                                   0\n",
       "genres                   [{'id': 16, 'name': 'Animation'}, {'id': 878, ...\n",
       "homepage                                     http://m-scramble.jp/exhaust/\n",
       "id                                                                  122662\n",
       "imdb_id                                                          tt2423504\n",
       "original_language                                                       ja\n",
       "original_title                                            マルドゥック・スクランブル 排気\n",
       "overview                        Third film of the Mardock Scramble series.\n",
       "popularity                                                        1.931659\n",
       "poster_path                               /zV8bHuSL6WXoD6FWogP9j4x80bL.jpg\n",
       "production_companies     [{'name': 'Aniplex', 'id': 2883}, {'name': 'Go...\n",
       "production_countries     [{'iso_3166_1': 'US', 'name': 'United States o...\n",
       "release_date                                                    2012-09-29\n",
       "revenue                                                                  0\n",
       "runtime                                                               68.0\n",
       "spoken_languages                      [{'iso_639_1': 'ja', 'name': '日本語'}]\n",
       "status                                                            Released\n",
       "tagline                                                                NaN\n",
       "title                                  Mardock Scramble: The Third Exhaust\n",
       "video                                                                False\n",
       "vote_average                                                           7.0\n",
       "vote_count                                                              12\n",
       "Name: 29502, dtype: object"
      ]
     },
     "execution_count": 107,
     "metadata": {},
     "output_type": "execute_result"
    }
   ],
   "source": [
    "# comprobamos las filas 29502 y 35586\n",
    "movies_df.loc[29502]"
   ]
  },
  {
   "cell_type": "code",
   "execution_count": 108,
   "metadata": {},
   "outputs": [
    {
     "data": {
      "text/plain": [
       "adult                                                                False\n",
       "belongs_to_collection                                                  NaN\n",
       "budget                                                                   0\n",
       "genres                   [{'id': 10770, 'name': 'TV Movie'}, {'id': 28,...\n",
       "homepage                                                               NaN\n",
       "id                                                                  249260\n",
       "imdb_id                                                          tt2622826\n",
       "original_language                                                       en\n",
       "original_title                                            Avalanche Sharks\n",
       "overview                 A group of skiers are terrorized during spring...\n",
       "popularity                                                        2.185485\n",
       "poster_path                               /zaSf5OG7V8X8gqFvly88zDdRm46.jpg\n",
       "production_companies     [{'name': 'Odyssey Media', 'id': 17161}, {'nam...\n",
       "production_countries              [{'iso_3166_1': 'CA', 'name': 'Canada'}]\n",
       "release_date                                                    2014-01-01\n",
       "revenue                                                                  0\n",
       "runtime                                                               82.0\n",
       "spoken_languages                  [{'iso_639_1': 'en', 'name': 'English'}]\n",
       "status                                                            Released\n",
       "tagline                                              Beware Of Frost Bites\n",
       "title                                                     Avalanche Sharks\n",
       "video                                                                False\n",
       "vote_average                                                           4.3\n",
       "vote_count                                                              22\n",
       "Name: 35586, dtype: object"
      ]
     },
     "execution_count": 108,
     "metadata": {},
     "output_type": "execute_result"
    }
   ],
   "source": [
    "movies_df.loc[35586]"
   ]
  },
  {
   "cell_type": "code",
   "execution_count": 109,
   "metadata": {},
   "outputs": [
    {
     "name": "stdout",
     "output_type": "stream",
     "text": [
      "0 valores no numéricos\n"
     ]
    }
   ],
   "source": [
    "non_numeric = movies_df['budget'].isna().sum()\n",
    "print(f\"{non_numeric} valores no numéricos\")"
   ]
  },
  {
   "cell_type": "code",
   "execution_count": 110,
   "metadata": {},
   "outputs": [
    {
     "name": "stdout",
     "output_type": "stream",
     "text": [
      "budget\n",
      "<class 'str'>    45466\n",
      "Name: count, dtype: int64\n"
     ]
    }
   ],
   "source": [
    "types = movies_df['budget'].apply(type).value_counts()\n",
    "print(types)"
   ]
  },
  {
   "cell_type": "code",
   "execution_count": 56,
   "metadata": {},
   "outputs": [],
   "source": [
    "numeric = movies_df['budget'].str.isnumeric()"
   ]
  },
  {
   "cell_type": "code",
   "execution_count": 117,
   "metadata": {},
   "outputs": [
    {
     "name": "stdout",
     "output_type": "stream",
     "text": [
      "38233    True\n",
      "24321    True\n",
      "42343    True\n",
      "6473     True\n",
      "18892    True\n",
      "7536     True\n",
      "33725    True\n",
      "40568    True\n",
      "20080    True\n",
      "30964    True\n",
      "21087    True\n",
      "33284    True\n",
      "8171     True\n",
      "34386    True\n",
      "44806    True\n",
      "8852     True\n",
      "5891     True\n",
      "473      True\n",
      "6188     True\n",
      "33457    True\n",
      "37839    True\n",
      "32371    True\n",
      "28583    True\n",
      "43612    True\n",
      "41347    True\n",
      "33901    True\n",
      "42654    True\n",
      "4507     True\n",
      "Name: budget, dtype: bool\n"
     ]
    }
   ],
   "source": [
    "print(numeric.sample(28))"
   ]
  },
  {
   "cell_type": "code",
   "execution_count": 120,
   "metadata": {},
   "outputs": [],
   "source": [
    "# eliminamos las filas problemáticas 35587, 29503 y 19730\n",
    "problem_rows = [35587, 29503, 19730]\n",
    "movies_df = movies_df.drop(problem_rows)"
   ]
  },
  {
   "attachments": {},
   "cell_type": "markdown",
   "metadata": {},
   "source": [
    "Ahora sí que podemos ya convertir los valores de la columna 'budget' de string a integer"
   ]
  },
  {
   "cell_type": "code",
   "execution_count": 121,
   "metadata": {},
   "outputs": [],
   "source": [
    "movies_df['budget'] = movies_df['budget'].astype(int)\n",
    "# convertidos los valores 'budget' de string a integer"
   ]
  },
  {
   "cell_type": "code",
   "execution_count": 122,
   "metadata": {},
   "outputs": [
    {
     "name": "stdout",
     "output_type": "stream",
     "text": [
      "<class 'pandas.core.frame.DataFrame'>\n",
      "Index: 45463 entries, 0 to 45465\n",
      "Data columns (total 24 columns):\n",
      " #   Column                 Non-Null Count  Dtype \n",
      "---  ------                 --------------  ----- \n",
      " 0   adult                  45463 non-null  object\n",
      " 1   belongs_to_collection  4491 non-null   object\n",
      " 2   budget                 45463 non-null  int32 \n",
      " 3   genres                 45463 non-null  object\n",
      " 4   homepage               7779 non-null   object\n",
      " 5   id                     45463 non-null  object\n",
      " 6   imdb_id                45446 non-null  object\n",
      " 7   original_language      45452 non-null  object\n",
      " 8   original_title         45463 non-null  object\n",
      " 9   overview               44509 non-null  object\n",
      " 10  popularity             45463 non-null  object\n",
      " 11  poster_path            45080 non-null  object\n",
      " 12  production_companies   45463 non-null  object\n",
      " 13  production_countries   45463 non-null  object\n",
      " 14  release_date           45379 non-null  object\n",
      " 15  revenue                45463 non-null  object\n",
      " 16  runtime                45206 non-null  object\n",
      " 17  spoken_languages       45463 non-null  object\n",
      " 18  status                 45382 non-null  object\n",
      " 19  tagline                20413 non-null  object\n",
      " 20  title                  45463 non-null  object\n",
      " 21  video                  45463 non-null  object\n",
      " 22  vote_average           45463 non-null  object\n",
      " 23  vote_count             45463 non-null  object\n",
      "dtypes: int32(1), object(23)\n",
      "memory usage: 8.5+ MB\n"
     ]
    }
   ],
   "source": [
    "movies_df.info()"
   ]
  },
  {
   "attachments": {},
   "cell_type": "markdown",
   "metadata": {},
   "source": [
    "Sería un buen momento ahora para eliminar las columnas que no serán utilizadas según reza el readme.md del proyecto:\n",
    "- video,imdb_id,adult,original_title,poster_path y homepage"
   ]
  },
  {
   "cell_type": "code",
   "execution_count": 124,
   "metadata": {},
   "outputs": [],
   "source": [
    "# Definimos las columnas a dropear\n",
    "columns_to_drop = ['video','imdb_id','adult','original_title','poster_path','homepage']\n",
    "# Dropeamos con el argumento axis=1 para indicar que queremos eliminar columnas\n",
    "movies_df = movies_df.drop(columns_to_drop,axis=1)"
   ]
  },
  {
   "cell_type": "code",
   "execution_count": 125,
   "metadata": {},
   "outputs": [
    {
     "name": "stdout",
     "output_type": "stream",
     "text": [
      "(45463, 18)\n"
     ]
    }
   ],
   "source": [
    "# comprobamos el shape\n",
    "print(movies_df.shape)"
   ]
  },
  {
   "attachments": {},
   "cell_type": "markdown",
   "metadata": {},
   "source": [
    "Ahora sería un buen momento para eliminar duplicidades del 'id'."
   ]
  },
  {
   "cell_type": "code",
   "execution_count": 127,
   "metadata": {},
   "outputs": [
    {
     "name": "stdout",
     "output_type": "stream",
     "text": [
      "           id                                        title\n",
      "1465   105045                                  The Promise\n",
      "9165     5511                                  Le Samouraï\n",
      "9327    23305                                  The Warrior\n",
      "12066   14788                                       Bubble\n",
      "13375  141971                                     Blackout\n",
      "15074   22649                           A Farewell to Arms\n",
      "15765   13209                                      Offside\n",
      "16764  141971                                     Blackout\n",
      "20843   77221                                   Black Gold\n",
      "20899  109962                              Rich and Famous\n",
      "21116   84198                         A Place at the Table\n",
      "21165  119916                                  The Tempest\n",
      "21854  152795                                 The Congress\n",
      "22151   18440                             Days of Darkness\n",
      "23044   25541                                  Brotherhood\n",
      "23534  110428                         Camille Claudel 1915\n",
      "24844   11115                                         Deal\n",
      "26625   69234                     The Phantom of the Opera\n",
      "28860  168538               Nana, the True Key of Pleasure\n",
      "29374   42495                                    King Lear\n",
      "30001  132641                                         Wife\n",
      "33743   15028                                Clockstoppers\n",
      "33826    4912              Confessions of a Dangerous Mind\n",
      "35798  159849             Why We Fight: Divide and Conquer\n",
      "38871   99080                                   The Viking\n",
      "40040  298721                        Cemetery of Splendour\n",
      "40276   97995                         Seven Years Bad Luck\n",
      "44821   10991                Pokémon: Spell of the Unknown\n",
      "44826   12600  Pokémon 4Ever: Celebi - Voice of the Forest\n",
      "45265  265189                                Force Majeure\n"
     ]
    }
   ],
   "source": [
    "# ver filas con 'id' repetido\n",
    "ids_duplicated = movies_df['id'].duplicated()\n",
    "duplicated_indices = movies_df[ids_duplicated].index\n",
    "duplicated_rows = movies_df.loc[duplicated_indices]\n",
    "print(duplicated_rows[['id','title']])\n",
    "# se han encontrado 30 id repes pero algunos están repes más de 2 veces\n",
    "# así que las filas a borrar serán más..."
   ]
  },
  {
   "cell_type": "code",
   "execution_count": 138,
   "metadata": {},
   "outputs": [],
   "source": [
    "# eliminar filas con 'id' repetido con .drop_duplicates\n",
    "# subset identifica los valores duplicados en la columna especificada (en este caso, 'id')\n",
    "# keep='first' conserva la primera fila de las duplicadas y elimina el resto\n",
    "# por defecto es así, no es obligatorio poner keep='first'\n",
    "# otra posibilidad sería poner keep='last'\n",
    "movies_df = movies_df.drop_duplicates(subset='id', keep='first')"
   ]
  },
  {
   "cell_type": "code",
   "execution_count": 139,
   "metadata": {},
   "outputs": [
    {
     "data": {
      "text/plain": [
       "(45433, 18)"
      ]
     },
     "execution_count": 139,
     "metadata": {},
     "output_type": "execute_result"
    }
   ],
   "source": [
    "movies_df.shape"
   ]
  },
  {
   "attachments": {},
   "cell_type": "markdown",
   "metadata": {},
   "source": [
    "En este punto voy a hacer una copia de seguridad en formato .pickle"
   ]
  },
  {
   "cell_type": "code",
   "execution_count": 147,
   "metadata": {},
   "outputs": [],
   "source": [
    "# guardamos un backup de movies_df\n",
    "movies_df.to_pickle('./data/movies_df.pickle')\n",
    "\n"
   ]
  },
  {
   "cell_type": "code",
   "execution_count": 150,
   "metadata": {},
   "outputs": [
    {
     "data": {
      "text/plain": [
       "belongs_to_collection    object\n",
       "budget                    int32\n",
       "genres                   object\n",
       "id                       object\n",
       "original_language        object\n",
       "overview                 object\n",
       "popularity               object\n",
       "production_companies     object\n",
       "production_countries     object\n",
       "release_date             object\n",
       "revenue                  object\n",
       "runtime                  object\n",
       "spoken_languages         object\n",
       "status                   object\n",
       "tagline                  object\n",
       "title                    object\n",
       "vote_average             object\n",
       "vote_count               object\n",
       "dtype: object"
      ]
     },
     "execution_count": 150,
     "metadata": {},
     "output_type": "execute_result"
    }
   ],
   "source": [
    "movies_df.dtypes"
   ]
  },
  {
   "attachments": {},
   "cell_type": "markdown",
   "metadata": {},
   "source": [
    "Vamos a revisar la columna 'revenue' para después junto con la de 'budget' buscar los nulos y rellenarlos con valor 0."
   ]
  },
  {
   "cell_type": "code",
   "execution_count": 166,
   "metadata": {},
   "outputs": [
    {
     "name": "stdout",
     "output_type": "stream",
     "text": [
      "revenue\n",
      "<class 'float'>    45430\n",
      "<class 'str'>          3\n",
      "Name: count, dtype: int64\n"
     ]
    }
   ],
   "source": [
    "# enumeramos diverentes tipos de datos en la columna 'revenue'\n",
    "types = movies_df['revenue'].apply(type).value_counts()\n",
    "print(types)"
   ]
  },
  {
   "cell_type": "code",
   "execution_count": 153,
   "metadata": {},
   "outputs": [],
   "source": [
    "# buscamos las 3 filas de tipo string (que no sean float)\n",
    "not_float = movies_df['revenue'].apply(type) != float"
   ]
  },
  {
   "cell_type": "code",
   "execution_count": 154,
   "metadata": {},
   "outputs": [],
   "source": [
    "# obtenemos los índices de esas filas:\n",
    "non_float_idx = movies_df[not_float].index"
   ]
  },
  {
   "cell_type": "code",
   "execution_count": 155,
   "metadata": {},
   "outputs": [],
   "source": [
    "# y seleccionamos solo esas filas\n",
    "non_float_rows = movies_df.loc[non_float_idx]"
   ]
  },
  {
   "cell_type": "code",
   "execution_count": 160,
   "metadata": {},
   "outputs": [
    {
     "name": "stdout",
     "output_type": "stream",
     "text": [
      "                                   belongs_to_collection  budget  \\\n",
      "19729                                                NaN       0   \n",
      "29502  {'id': 122661, 'name': 'Mardock Scramble Colle...       0   \n",
      "35586                                                NaN       0   \n",
      "\n",
      "                                                  genres      id  \\\n",
      "19729  [{'id': 28, 'name': 'Action'}, {'id': 53, 'nam...   82663   \n",
      "29502  [{'id': 16, 'name': 'Animation'}, {'id': 878, ...  122662   \n",
      "35586  [{'id': 10770, 'name': 'TV Movie'}, {'id': 28,...  249260   \n",
      "\n",
      "      original_language                                           overview  \\\n",
      "19729                en  British soldiers force a recently captured IRA...   \n",
      "29502                ja         Third film of the Mardock Scramble series.   \n",
      "35586                en  A group of skiers are terrorized during spring...   \n",
      "\n",
      "      popularity                               production_companies  \\\n",
      "19729   0.065736  [{'name': 'Carousel Productions', 'id': 11176}...   \n",
      "29502   1.931659  [{'name': 'Aniplex', 'id': 2883}, {'name': 'Go...   \n",
      "35586   2.185485  [{'name': 'Odyssey Media', 'id': 17161}, {'nam...   \n",
      "\n",
      "                                    production_countries release_date  \\\n",
      "19729  [{'iso_3166_1': 'CA', 'name': 'Canada'}, {'iso...   1997-08-20   \n",
      "29502  [{'iso_3166_1': 'US', 'name': 'United States o...   2012-09-29   \n",
      "35586           [{'iso_3166_1': 'CA', 'name': 'Canada'}]   2014-01-01   \n",
      "\n",
      "       revenue runtime                          spoken_languages    status  \\\n",
      "19729        0   104.0  [{'iso_639_1': 'en', 'name': 'English'}]  Released   \n",
      "29502        0    68.0      [{'iso_639_1': 'ja', 'name': '日本語'}]  Released   \n",
      "35586        0    82.0  [{'iso_639_1': 'en', 'name': 'English'}]  Released   \n",
      "\n",
      "                     tagline                                title  \\\n",
      "19729                    NaN                         Midnight Man   \n",
      "29502                    NaN  Mardock Scramble: The Third Exhaust   \n",
      "35586  Beware Of Frost Bites                     Avalanche Sharks   \n",
      "\n",
      "      vote_average vote_count  \n",
      "19729          6.0          1  \n",
      "29502          7.0         12  \n",
      "35586          4.3         22  \n"
     ]
    }
   ],
   "source": [
    "print(non_float_rows)"
   ]
  },
  {
   "cell_type": "code",
   "execution_count": 210,
   "metadata": {},
   "outputs": [
    {
     "data": {
      "text/plain": [
       "belongs_to_collection     object\n",
       "budget                     int32\n",
       "genres                    object\n",
       "id                        object\n",
       "original_language         object\n",
       "overview                  object\n",
       "popularity                object\n",
       "production_companies      object\n",
       "production_countries      object\n",
       "release_date              object\n",
       "revenue                  float64\n",
       "runtime                   object\n",
       "spoken_languages          object\n",
       "status                    object\n",
       "tagline                   object\n",
       "title                     object\n",
       "vote_average              object\n",
       "vote_count                object\n",
       "return                   float64\n",
       "dtype: object"
      ]
     },
     "execution_count": 210,
     "metadata": {},
     "output_type": "execute_result"
    }
   ],
   "source": [
    "movies_df.dtypes"
   ]
  },
  {
   "cell_type": "code",
   "execution_count": 167,
   "metadata": {},
   "outputs": [],
   "source": [
    "# Reemplazamos '0' por 0 \n",
    "non_float_rows['revenue'] = non_float_rows['revenue'].replace({'0': 0})"
   ]
  },
  {
   "cell_type": "code",
   "execution_count": 168,
   "metadata": {},
   "outputs": [],
   "source": [
    "# Convertir el tipo a float  \n",
    "non_float_rows['revenue'] = non_float_rows['revenue'].astype(float)"
   ]
  },
  {
   "cell_type": "code",
   "execution_count": 171,
   "metadata": {},
   "outputs": [],
   "source": [
    "movies_df['revenue'] = movies_df['revenue'].astype(float)\n",
    "# ahora sí, convertidos los valores 'revenue' de string a float"
   ]
  },
  {
   "cell_type": "code",
   "execution_count": 172,
   "metadata": {},
   "outputs": [
    {
     "name": "stdout",
     "output_type": "stream",
     "text": [
      "revenue\n",
      "<class 'float'>    45433\n",
      "Name: count, dtype: int64\n"
     ]
    }
   ],
   "source": [
    "# enumeramos diverentes tipos de datos en la columna 'revenue'\n",
    "types = movies_df['revenue'].apply(type).value_counts()\n",
    "print(types)"
   ]
  },
  {
   "cell_type": "code",
   "execution_count": 174,
   "metadata": {},
   "outputs": [],
   "source": [
    "# Encontrar NaN\n",
    "null_values = movies_df['revenue'].isna()  \n",
    "\n",
    "# Obtener índices de las filas con NaN\n",
    "null_idx = movies_df[null_values].index\n",
    "\n",
    "# Seleccionar esas filas\n",
    "null_rows = movies_df.loc[null_idx]"
   ]
  },
  {
   "cell_type": "code",
   "execution_count": 175,
   "metadata": {},
   "outputs": [
    {
     "name": "stdout",
     "output_type": "stream",
     "text": [
      "0        False\n",
      "1        False\n",
      "2        False\n",
      "3        False\n",
      "4        False\n",
      "         ...  \n",
      "45461    False\n",
      "45462    False\n",
      "45463    False\n",
      "45464    False\n",
      "45465    False\n",
      "Name: revenue, Length: 45433, dtype: bool\n",
      "Empty DataFrame\n",
      "Columns: [belongs_to_collection, budget, genres, id, original_language, overview, popularity, production_companies, production_countries, release_date, revenue, runtime, spoken_languages, status, tagline, title, vote_average, vote_count]\n",
      "Index: []\n"
     ]
    }
   ],
   "source": [
    "print(null_values)\n",
    "print(null_rows)"
   ]
  },
  {
   "cell_type": "code",
   "execution_count": 208,
   "metadata": {},
   "outputs": [
    {
     "name": "stdout",
     "output_type": "stream",
     "text": [
      "2179     12000000\n",
      "28185           0\n",
      "28428           0\n",
      "23152         200\n",
      "623             0\n",
      "19126           0\n",
      "29675           0\n",
      "28339           0\n",
      "24780           0\n",
      "35438           0\n",
      "33639      300000\n",
      "26332           0\n",
      "13341           0\n",
      "41664           0\n",
      "7956      3000000\n",
      "27216           0\n",
      "22678           0\n",
      "5791            0\n",
      "3707      1500000\n",
      "35469           0\n",
      "18117           0\n",
      "4060            0\n",
      "34135           0\n",
      "12521    25000000\n",
      "8277            0\n",
      "1918     10000000\n",
      "5917            0\n",
      "9290            0\n",
      "Name: budget, dtype: int32\n"
     ]
    }
   ],
   "source": [
    "print(movies_df['budget'].sample(28))"
   ]
  },
  {
   "cell_type": "code",
   "execution_count": 196,
   "metadata": {},
   "outputs": [
    {
     "name": "stdout",
     "output_type": "stream",
     "text": [
      "38035\n",
      "36553\n"
     ]
    }
   ],
   "source": [
    "print((movies_df['revenue']==0).sum())\n",
    "print((movies_df['budget']==0).sum())"
   ]
  },
  {
   "cell_type": "code",
   "execution_count": 197,
   "metadata": {},
   "outputs": [
    {
     "name": "stdout",
     "output_type": "stream",
     "text": [
      "7398\n",
      "8880\n"
     ]
    }
   ],
   "source": [
    "print((movies_df['revenue']!=0).sum())\n",
    "print((movies_df['budget']!=0).sum())"
   ]
  },
  {
   "attachments": {},
   "cell_type": "markdown",
   "metadata": {},
   "source": [
    "Crear columna `return` calculando el retorno de inversión = revenue / budget"
   ]
  },
  {
   "cell_type": "code",
   "execution_count": 209,
   "metadata": {},
   "outputs": [],
   "source": [
    "# Creamos columna nueva con los valores a 0 inicialmente\n",
    "movies_df['return'] = 0\n",
    "\n",
    "# Calcular return donde es posible (budget > 0)\n",
    "# Cuando budget == 0, return se quedará en 0\n",
    "valid = movies_df['budget'] > 0\n",
    "movies_df.loc[valid, 'return'] = movies_df.loc[valid, 'revenue'] / movies_df.loc[valid, 'budget']\n",
    "\n",
    "# Cuando revenue es NaN, return es también NaN\n",
    "# movies_df['return'].fillna(0, inplace=True)"
   ]
  },
  {
   "cell_type": "code",
   "execution_count": 249,
   "metadata": {},
   "outputs": [
    {
     "name": "stdout",
     "output_type": "stream",
     "text": [
      "26515    0.000000\n",
      "23070    0.000000\n",
      "25960    0.000000\n",
      "40655    0.000000\n",
      "6849     6.870438\n",
      "1744     0.000000\n",
      "41122    0.000000\n",
      "33716    0.000000\n",
      "37324    0.000000\n",
      "36493    0.000000\n",
      "10992    0.000000\n",
      "30068    0.000000\n",
      "5386     0.000000\n",
      "38288    0.000000\n",
      "23455    0.000000\n",
      "3590     0.000000\n",
      "44232    0.000000\n",
      "35261    0.000000\n",
      "2298     9.692701\n",
      "38720    0.000000\n",
      "24615    0.000000\n",
      "806      4.476923\n",
      "707      0.000000\n",
      "15253    0.000000\n",
      "17753    0.000000\n",
      "3268     0.000000\n",
      "39893    0.000000\n",
      "41002    0.000000\n",
      "Name: return, dtype: float64\n"
     ]
    }
   ],
   "source": [
    "print(movies_df['return'].sample(28))"
   ]
  },
  {
   "cell_type": "code",
   "execution_count": 250,
   "metadata": {},
   "outputs": [
    {
     "data": {
      "text/plain": [
       "belongs_to_collection                                                  NaN\n",
       "budget                                                             3500000\n",
       "genres                   [{'id': 27, 'name': 'Horror'}, {'id': 9648, 'n...\n",
       "id                                                                   11850\n",
       "original_language                                                       en\n",
       "overview                 The first remake of the paranoid infiltration ...\n",
       "popularity                                                        5.219641\n",
       "production_companies     [{'name': 'United Artists', 'id': 60}, {'name'...\n",
       "production_countries     [{'iso_3166_1': 'US', 'name': 'United States o...\n",
       "release_date                                                    1978-12-19\n",
       "revenue                                                         24046533.0\n",
       "runtime                                                              115.0\n",
       "spoken_languages         [{'iso_639_1': 'cs', 'name': 'Český'}, {'iso_6...\n",
       "status                                                            Released\n",
       "tagline                  From deep space... The seed is planted... the ...\n",
       "title                                       Invasion of the Body Snatchers\n",
       "vote_average                                                           7.1\n",
       "vote_count                                                           231.0\n",
       "return                                                            6.870438\n",
       "Name: 6849, dtype: object"
      ]
     },
     "execution_count": 250,
     "metadata": {},
     "output_type": "execute_result"
    }
   ],
   "source": [
    "movies_df.loc[6849]"
   ]
  },
  {
   "attachments": {},
   "cell_type": "markdown",
   "metadata": {},
   "source": [
    "___\n",
    "Punto de backup 2\n"
   ]
  },
  {
   "cell_type": "code",
   "execution_count": 251,
   "metadata": {},
   "outputs": [],
   "source": [
    "movies_df.to_pickle('./data/movies_df2.pickle')"
   ]
  },
  {
   "cell_type": "code",
   "execution_count": 252,
   "metadata": {},
   "outputs": [],
   "source": [
    "# Eliminamos los valores nulos de la columna 'release_date'\n",
    "movies_df.dropna(subset=['release_date'], inplace=True)"
   ]
  },
  {
   "cell_type": "code",
   "execution_count": 275,
   "metadata": {},
   "outputs": [],
   "source": [
    "# Convertir las fechas a datetime y formatear a AAAA-MM-DD\n",
    "movies_df['release_date'] = pd.to_datetime(movies_df['release_date']).dt.strftime('%Y-%m-%d')"
   ]
  },
  {
   "cell_type": "code",
   "execution_count": 282,
   "metadata": {},
   "outputs": [],
   "source": [
    "movies_df['release_date'] = pd.to_datetime(movies_df['release_date'])"
   ]
  },
  {
   "cell_type": "code",
   "execution_count": 283,
   "metadata": {},
   "outputs": [],
   "source": [
    "# Crear columna 'release_year'\n",
    "movies_df['release_year'] = movies_df['release_date'].dt.year"
   ]
  },
  {
   "cell_type": "code",
   "execution_count": 290,
   "metadata": {},
   "outputs": [
    {
     "data": {
      "text/plain": [
       "belongs_to_collection            object\n",
       "budget                            int32\n",
       "genres                           object\n",
       "id                               object\n",
       "original_language                object\n",
       "overview                         object\n",
       "popularity                       object\n",
       "production_companies             object\n",
       "production_countries             object\n",
       "release_date             datetime64[ns]\n",
       "revenue                         float64\n",
       "runtime                          object\n",
       "spoken_languages                 object\n",
       "status                           object\n",
       "tagline                          object\n",
       "title                            object\n",
       "vote_average                     object\n",
       "vote_count                       object\n",
       "return                          float64\n",
       "release_year                      int32\n",
       "dtype: object"
      ]
     },
     "execution_count": 290,
     "metadata": {},
     "output_type": "execute_result"
    }
   ],
   "source": [
    "movies_df.dtypes"
   ]
  },
  {
   "attachments": {},
   "cell_type": "markdown",
   "metadata": {},
   "source": [
    "___\n",
    "### Punto de backup 3\n",
    "antes de empezar a desanidar las columnas 'belongs_to_collection','genres','production_companies','production_countries'"
   ]
  },
  {
   "cell_type": "code",
   "execution_count": 407,
   "metadata": {},
   "outputs": [],
   "source": [
    "# movies_df.to_pickle('./data/movies_df3.pickle')\n",
    "movies_df = pd.read_pickle('./data/movies_df3.pickle')"
   ]
  },
  {
   "attachments": {},
   "cell_type": "markdown",
   "metadata": {},
   "source": [
    "___"
   ]
  },
  {
   "cell_type": "code",
   "execution_count": 408,
   "metadata": {},
   "outputs": [],
   "source": [
    "# Antes de desanidar etc... vamos a unir los dos datasets por la columna 'id'\n",
    "# Cast 'id' to int in both DataFrames\n",
    "credits_df['id'] = credits_df['id'].astype(int)  \n",
    "movies_df['id'] = movies_df['id'].astype(int)\n",
    "\n",
    "# Then merge  \n",
    "df = pd.merge(credits_df, movies_df, on='id')"
   ]
  },
  {
   "cell_type": "code",
   "execution_count": 409,
   "metadata": {},
   "outputs": [
    {
     "data": {
      "text/plain": [
       "(45392, 22)"
      ]
     },
     "execution_count": 409,
     "metadata": {},
     "output_type": "execute_result"
    }
   ],
   "source": [
    "df.shape"
   ]
  },
  {
   "cell_type": "code",
   "execution_count": 416,
   "metadata": {},
   "outputs": [
    {
     "data": {
      "text/plain": [
       "cast                             object\n",
       "crew                             object\n",
       "id                                int32\n",
       "belongs_to_collection            object\n",
       "budget                            int32\n",
       "genres                           object\n",
       "original_language                object\n",
       "overview                         object\n",
       "popularity                       object\n",
       "production_companies             object\n",
       "production_countries             object\n",
       "release_date             datetime64[ns]\n",
       "revenue                         float64\n",
       "runtime                          object\n",
       "spoken_languages                 object\n",
       "status                           object\n",
       "tagline                          object\n",
       "title                            object\n",
       "vote_average                     object\n",
       "vote_count                       object\n",
       "return                          float64\n",
       "release_year                      int32\n",
       "dtype: object"
      ]
     },
     "execution_count": 416,
     "metadata": {},
     "output_type": "execute_result"
    }
   ],
   "source": [
    "df.dtypes"
   ]
  },
  {
   "cell_type": "code",
   "execution_count": 426,
   "metadata": {},
   "outputs": [
    {
     "data": {
      "text/html": [
       "<div>\n",
       "<style scoped>\n",
       "    .dataframe tbody tr th:only-of-type {\n",
       "        vertical-align: middle;\n",
       "    }\n",
       "\n",
       "    .dataframe tbody tr th {\n",
       "        vertical-align: top;\n",
       "    }\n",
       "\n",
       "    .dataframe thead th {\n",
       "        text-align: right;\n",
       "    }\n",
       "</style>\n",
       "<table border=\"1\" class=\"dataframe\">\n",
       "  <thead>\n",
       "    <tr style=\"text-align: right;\">\n",
       "      <th></th>\n",
       "      <th>cast</th>\n",
       "      <th>crew</th>\n",
       "      <th>id</th>\n",
       "      <th>belongs_to_collection</th>\n",
       "      <th>budget</th>\n",
       "      <th>genres</th>\n",
       "      <th>original_language</th>\n",
       "      <th>overview</th>\n",
       "      <th>popularity</th>\n",
       "      <th>production_companies</th>\n",
       "      <th>...</th>\n",
       "      <th>revenue</th>\n",
       "      <th>runtime</th>\n",
       "      <th>spoken_languages</th>\n",
       "      <th>status</th>\n",
       "      <th>tagline</th>\n",
       "      <th>title</th>\n",
       "      <th>vote_average</th>\n",
       "      <th>vote_count</th>\n",
       "      <th>return</th>\n",
       "      <th>release_year</th>\n",
       "    </tr>\n",
       "  </thead>\n",
       "  <tbody>\n",
       "    <tr>\n",
       "      <th>13269</th>\n",
       "      <td>[{'cast_id': 1, 'character': 'Pekka', 'credit_...</td>\n",
       "      <td>[{'credit_id': '52fe4ac89251416c750edd47', 'de...</td>\n",
       "      <td>141971</td>\n",
       "      <td>NaN</td>\n",
       "      <td>0</td>\n",
       "      <td>[{'id': 53, 'name': 'Thriller'}, {'id': 9648, ...</td>\n",
       "      <td>fi</td>\n",
       "      <td>Recovering from a nail gun shot to the head an...</td>\n",
       "      <td>0.411949</td>\n",
       "      <td>[{'name': 'Filmiteollisuus Fine', 'id': 5166}]</td>\n",
       "      <td>...</td>\n",
       "      <td>0.0</td>\n",
       "      <td>108.0</td>\n",
       "      <td>[{'iso_639_1': 'fi', 'name': 'suomi'}]</td>\n",
       "      <td>Released</td>\n",
       "      <td>Which one is the first to return - memory or t...</td>\n",
       "      <td>Blackout</td>\n",
       "      <td>6.7</td>\n",
       "      <td>3.0</td>\n",
       "      <td>0.0</td>\n",
       "      <td>2008</td>\n",
       "    </tr>\n",
       "  </tbody>\n",
       "</table>\n",
       "<p>1 rows × 22 columns</p>\n",
       "</div>"
      ],
      "text/plain": [
       "                                                    cast  \\\n",
       "13269  [{'cast_id': 1, 'character': 'Pekka', 'credit_...   \n",
       "\n",
       "                                                    crew      id  \\\n",
       "13269  [{'credit_id': '52fe4ac89251416c750edd47', 'de...  141971   \n",
       "\n",
       "      belongs_to_collection  budget  \\\n",
       "13269                   NaN       0   \n",
       "\n",
       "                                                  genres original_language  \\\n",
       "13269  [{'id': 53, 'name': 'Thriller'}, {'id': 9648, ...                fi   \n",
       "\n",
       "                                                overview popularity  \\\n",
       "13269  Recovering from a nail gun shot to the head an...   0.411949   \n",
       "\n",
       "                                 production_companies  ... revenue runtime  \\\n",
       "13269  [{'name': 'Filmiteollisuus Fine', 'id': 5166}]  ...     0.0   108.0   \n",
       "\n",
       "                             spoken_languages    status  \\\n",
       "13269  [{'iso_639_1': 'fi', 'name': 'suomi'}]  Released   \n",
       "\n",
       "                                                 tagline     title  \\\n",
       "13269  Which one is the first to return - memory or t...  Blackout   \n",
       "\n",
       "      vote_average vote_count return release_year  \n",
       "13269          6.7        3.0    0.0         2008  \n",
       "\n",
       "[1 rows x 22 columns]"
      ]
     },
     "execution_count": 426,
     "metadata": {},
     "output_type": "execute_result"
    }
   ],
   "source": [
    "mask = df['id'] == 141971\n",
    "\n",
    "df[mask]"
   ]
  },
  {
   "cell_type": "code",
   "execution_count": 421,
   "metadata": {},
   "outputs": [
    {
     "name": "stdout",
     "output_type": "stream",
     "text": [
      "           id                                             title\n",
      "677    105045                                       The Promise\n",
      "838    132641                                              Wife\n",
      "950     22649                                A Farewell to Arms\n",
      "2565    84198                              A Place at the Table\n",
      "4114    10991                     Pokémon: Spell of the Unknown\n",
      "4357   110428                              Camille Claudel 1915\n",
      "5132    15028                                     Clockstoppers\n",
      "5538    12600       Pokémon 4Ever: Celebi - Voice of the Forest\n",
      "5714   109962                                   Rich and Famous\n",
      "5870     4912                   Confessions of a Dangerous Mind\n",
      "7350     5511                                       Le Samouraï\n",
      "8074    23305                                       The Warrior\n",
      "9581    69234                          The Phantom of the Opera\n",
      "10425   14788                                            Bubble\n",
      "11162   77221                                        Black Gold\n",
      "11350   13209                                           Offside\n",
      "13228  159849                  Why We Fight: Divide and Conquer\n",
      "13270  141971                                          Blackout\n",
      "13271  141971                                          Blackout\n",
      "13613  168538                    Nana, the True Key of Pleasure\n",
      "13956   97995                              Seven Years Bad Luck\n",
      "14011   18440                                  Days of Darkness\n",
      "14024   11115                                              Deal\n",
      "15713   42495                                         King Lear\n",
      "16178   99080                                        The Viking\n",
      "17238   25541                                       Brotherhood\n",
      "19893  119916                                       The Tempest\n",
      "19929  152795                                      The Congress\n",
      "24149  265189                                     Force Majeure\n",
      "25869  116723                                Comes a Bright Day\n",
      "25871    3057                                      Frankenstein\n",
      "25873  125458                          North and South, Book II\n",
      "25875  199591                                   Penthouse North\n",
      "25877   24023  Johan Falk: GSI - Gruppen för särskilda insatser\n",
      "25879   24026                           Johan Falk: Vapenbröder\n",
      "25881   11752                                      Cheeky Girls\n",
      "25883  142563                                   Fresh Guacamole\n",
      "25885  157301                                      Adam and Dog\n",
      "25887    9755                                      Bloodsuckers\n",
      "25889  123634                                          Poolside\n",
      "25891    8767                                        Stuntwoman\n",
      "25893   43629                                         Doodlebug\n",
      "25895  187156                            Jean-Luc Cinema Godard\n",
      "33169  298721                             Cemetery of Splendour\n"
     ]
    }
   ],
   "source": [
    "# hay que volver a revisar si no tienen 'id' repes\n",
    "ids_duplicated = df['id'].duplicated()\n",
    "duplicated_indices = df[ids_duplicated].index\n",
    "duplicated_rows = df.loc[duplicated_indices]\n",
    "print(duplicated_rows[['id','title']])"
   ]
  },
  {
   "cell_type": "code",
   "execution_count": 429,
   "metadata": {},
   "outputs": [
    {
     "name": "stdout",
     "output_type": "stream",
     "text": [
      "<class 'pandas.core.frame.DataFrame'>\n",
      "Index: 45348 entries, 0 to 45391\n",
      "Data columns (total 22 columns):\n",
      " #   Column                 Non-Null Count  Dtype         \n",
      "---  ------                 --------------  -----         \n",
      " 0   cast                   45348 non-null  object        \n",
      " 1   crew                   45348 non-null  object        \n",
      " 2   id                     45348 non-null  int32         \n",
      " 3   belongs_to_collection  4486 non-null   object        \n",
      " 4   budget                 45348 non-null  int32         \n",
      " 5   genres                 45348 non-null  object        \n",
      " 6   original_language      45337 non-null  object        \n",
      " 7   overview               44407 non-null  object        \n",
      " 8   popularity             45348 non-null  object        \n",
      " 9   production_companies   45348 non-null  object        \n",
      " 10  production_countries   45348 non-null  object        \n",
      " 11  release_date           45348 non-null  datetime64[ns]\n",
      " 12  revenue                45348 non-null  float64       \n",
      " 13  runtime                45102 non-null  object        \n",
      " 14  spoken_languages       45348 non-null  object        \n",
      " 15  status                 45268 non-null  object        \n",
      " 16  tagline                20388 non-null  object        \n",
      " 17  title                  45348 non-null  object        \n",
      " 18  vote_average           45348 non-null  object        \n",
      " 19  vote_count             45348 non-null  object        \n",
      " 20  return                 45348 non-null  float64       \n",
      " 21  release_year           45348 non-null  int32         \n",
      "dtypes: datetime64[ns](1), float64(2), int32(3), object(16)\n",
      "memory usage: 7.4+ MB\n"
     ]
    }
   ],
   "source": [
    "df.info()"
   ]
  },
  {
   "cell_type": "code",
   "execution_count": 423,
   "metadata": {},
   "outputs": [],
   "source": [
    "# Procedemos a borrar los duplicados\n",
    "df = df.drop_duplicates(subset='id', keep='first')\n",
    "# se eliminan los 44 duplicados que aparecieron al unir ambos dataframes"
   ]
  },
  {
   "attachments": {},
   "cell_type": "markdown",
   "metadata": {},
   "source": [
    "___\n",
    "### Punto backup 4\n"
   ]
  },
  {
   "cell_type": "code",
   "execution_count": 428,
   "metadata": {},
   "outputs": [],
   "source": [
    "df.to_pickle('./data/df_backup4.pickle')\n",
    "# df = pd.read_pickle('./data/df_backup4.pickle')"
   ]
  },
  {
   "attachments": {},
   "cell_type": "markdown",
   "metadata": {},
   "source": [
    "___"
   ]
  },
  {
   "attachments": {},
   "cell_type": "markdown",
   "metadata": {},
   "source": [
    "Vamos a tratar las columnas anidadas, sacar de ahí la información que nos interesa."
   ]
  },
  {
   "cell_type": "code",
   "execution_count": 431,
   "metadata": {},
   "outputs": [],
   "source": [
    "# import ast \n",
    "# comentarizo el import porque ya lo paso al principio para tener todos los imports juntos\n",
    "\n",
    "# tras mucha investigación al final acabo con la biblioteca \"ast\"\n",
    "# para convertir los valores 'string' de la columna 'crew' en lista de diccionarios.\n",
    "df['crew'] = df['crew'].apply(ast.literal_eval)\n",
    "\n",
    "\n",
    "# Seguidamente aplico la funcion lambda a todos los valores de 'crew' para extraer nombres de los directores\n",
    "# compruebo con isinstance(x, list) que no haya valores None u otros que no sean de lista.\n",
    "df['director_names'] = df['crew'].apply(lambda x: [d['name'] for d in x if d['job'] == 'Director'] if isinstance(x, list) else None)"
   ]
  },
  {
   "cell_type": "code",
   "execution_count": 446,
   "metadata": {},
   "outputs": [
    {
     "data": {
      "text/plain": [
       "22654                [Ramon Zürcher]\n",
       "32770    [Risto Orko, Leonid Gayday]\n",
       "27827                   [Ken Kwapis]\n",
       "10954        [Hans-Christian Schmid]\n",
       "667                    [Peter Yates]\n",
       "Name: director_names, dtype: object"
      ]
     },
     "execution_count": 446,
     "metadata": {},
     "output_type": "execute_result"
    }
   ],
   "source": [
    "df['director_names'].sample(5)"
   ]
  },
  {
   "cell_type": "code",
   "execution_count": 447,
   "metadata": {},
   "outputs": [
    {
     "data": {
      "text/plain": [
       "12930    [{'credit_id': '54462a750e0a26633a00a27f', 'de...\n",
       "38678    [{'credit_id': '52fe4bb4c3a36847f8210659', 'de...\n",
       "40617    [{'credit_id': '5563401dc3a36854480023db', 'de...\n",
       "14451    [{'credit_id': '52fe45089251416c91025319', 'de...\n",
       "20905    [{'credit_id': '584f93a5c3a368315000490d', 'de...\n",
       "Name: crew, dtype: object"
      ]
     },
     "execution_count": 447,
     "metadata": {},
     "output_type": "execute_result"
    }
   ],
   "source": [
    "df['crew'].sample(5)"
   ]
  },
  {
   "cell_type": "code",
   "execution_count": 499,
   "metadata": {},
   "outputs": [
    {
     "data": {
      "text/plain": [
       "37072                                                   []\n",
       "15176                   [{'name': 'Alicéléo', 'id': 8799}]\n",
       "29328    [{'name': 'Hong Hwa Motion Picture Company', '...\n",
       "14310                                                   []\n",
       "33309    [{'name': 'Onyx Films', 'id': 2203}, {'name': ...\n",
       "Name: production_companies, dtype: object"
      ]
     },
     "execution_count": 499,
     "metadata": {},
     "output_type": "execute_result"
    }
   ],
   "source": [
    "df['production_companies'].sample(5)\n"
   ]
  },
  {
   "cell_type": "code",
   "execution_count": 449,
   "metadata": {},
   "outputs": [],
   "source": [
    "# Renombramos la columna 'director_names' por 'directed_by' que no se nos ocurrió antes pero es mejor nombre...\n",
    "df.rename(columns={'director_names':'directed_by'}, inplace=True)"
   ]
  },
  {
   "cell_type": "code",
   "execution_count": 454,
   "metadata": {},
   "outputs": [
    {
     "data": {
      "text/plain": [
       "Index(['cast', 'crew', 'id', 'belongs_to_collection', 'budget', 'genres',\n",
       "       'original_language', 'overview', 'popularity', 'production_companies',\n",
       "       'production_countries', 'release_date', 'revenue', 'runtime',\n",
       "       'spoken_languages', 'status', 'tagline', 'title', 'vote_average',\n",
       "       'vote_count', 'return', 'release_year', 'directed_by'],\n",
       "      dtype='object')"
      ]
     },
     "execution_count": 454,
     "metadata": {},
     "output_type": "execute_result"
    }
   ],
   "source": [
    "df.columns"
   ]
  },
  {
   "cell_type": "code",
   "execution_count": 453,
   "metadata": {},
   "outputs": [],
   "source": [
    "# Vamos a intentar sacar los nombres de las franquicias\n",
    "df['belongs_to_collection'] = df['belongs_to_collection'].apply(\n",
    "    lambda x: ast.literal_eval(x) if isinstance(x, str) else x\n",
    ")"
   ]
  },
  {
   "cell_type": "code",
   "execution_count": 459,
   "metadata": {},
   "outputs": [],
   "source": [
    "df['franchise'] = df['belongs_to_collection'].apply(\n",
    "    lambda x: x['name'] if isinstance(x,dict) else None\n",
    ")"
   ]
  },
  {
   "attachments": {},
   "cell_type": "markdown",
   "metadata": {},
   "source": [
    "___"
   ]
  },
  {
   "cell_type": "code",
   "execution_count": 502,
   "metadata": {},
   "outputs": [],
   "source": [
    "# Vamos a por las productoras:\n",
    "# Convertimos los valores string a dict usando ast.literal_eval()\n",
    "df['production_companies'] = df['production_companies'].apply(ast.literal_eval)\n",
    "\n",
    "# Extrayendo el nombre de la compañía en una lista \n",
    "df['produced_by'] = df['production_companies'].apply( \n",
    "    lambda x: [comp['name'] for comp in x] if isinstance(x, list) else None\n",
    ")"
   ]
  },
  {
   "attachments": {},
   "cell_type": "markdown",
   "metadata": {},
   "source": [
    "___"
   ]
  },
  {
   "cell_type": "code",
   "execution_count": 508,
   "metadata": {},
   "outputs": [],
   "source": [
    "# Ahora vamos a los países productores\n",
    "# usamos ast.literal_eval\n",
    "df['production_countries'] = df['production_countries'].apply(ast.literal_eval)\n",
    "\n",
    "# Extraemos los nombres de los países en una lista en una columna nueva\n",
    "df['produced_in'] = df['production_countries'].apply(\n",
    "    lambda x: [pais['name'] for pais in x] if isinstance(x, list) else None\n",
    ")"
   ]
  },
  {
   "cell_type": "code",
   "execution_count": 521,
   "metadata": {},
   "outputs": [
    {
     "data": {
      "text/plain": [
       "15464                [Animation, Comedy]\n",
       "1150     [Comedy, Crime, Drama, Romance]\n",
       "21769                                 []\n",
       "31861                            [Drama]\n",
       "14981                      [Documentary]\n",
       "Name: genres_clean, dtype: object"
      ]
     },
     "execution_count": 521,
     "metadata": {},
     "output_type": "execute_result"
    }
   ],
   "source": [
    "df['genres_clean'].sample(5)"
   ]
  },
  {
   "cell_type": "code",
   "execution_count": 515,
   "metadata": {},
   "outputs": [],
   "source": [
    "# Finalmente a por los 'genres'\n",
    "# con el mismo procedimiento...\n",
    "df['genres'] = df['genres'].apply(ast.literal_eval)\n",
    "\n",
    "# Extraemos los nombres de los países en una lista en una columna nueva\n",
    "df['genres_clean'] = df['genres'].apply(\n",
    "    lambda x: [genero['name'] for genero in x] if isinstance(x, list) else None\n",
    ")"
   ]
  },
  {
   "attachments": {},
   "cell_type": "markdown",
   "metadata": {},
   "source": [
    "___\n",
    "### Punto de backup 5\n"
   ]
  },
  {
   "cell_type": "code",
   "execution_count": 3,
   "metadata": {},
   "outputs": [],
   "source": [
    "# df.to_pickle('./data/df_backup5.pickle')\n",
    "\n",
    "# cuando empiezas de nuevo, ejecutar primero la celda de imports al principio del notebook\n",
    "df = pd.read_pickle('./data/df_backup5.pickle') # cargar el df guardado como pickle"
   ]
  },
  {
   "cell_type": "code",
   "execution_count": 5,
   "metadata": {},
   "outputs": [
    {
     "data": {
      "text/html": [
       "<div>\n",
       "<style scoped>\n",
       "    .dataframe tbody tr th:only-of-type {\n",
       "        vertical-align: middle;\n",
       "    }\n",
       "\n",
       "    .dataframe tbody tr th {\n",
       "        vertical-align: top;\n",
       "    }\n",
       "\n",
       "    .dataframe thead th {\n",
       "        text-align: right;\n",
       "    }\n",
       "</style>\n",
       "<table border=\"1\" class=\"dataframe\">\n",
       "  <thead>\n",
       "    <tr style=\"text-align: right;\">\n",
       "      <th></th>\n",
       "      <th>cast</th>\n",
       "      <th>crew</th>\n",
       "      <th>id</th>\n",
       "      <th>belongs_to_collection</th>\n",
       "      <th>budget</th>\n",
       "      <th>genres</th>\n",
       "      <th>original_language</th>\n",
       "      <th>overview</th>\n",
       "      <th>popularity</th>\n",
       "      <th>production_companies</th>\n",
       "      <th>...</th>\n",
       "      <th>title</th>\n",
       "      <th>vote_average</th>\n",
       "      <th>vote_count</th>\n",
       "      <th>return</th>\n",
       "      <th>release_year</th>\n",
       "      <th>directed_by</th>\n",
       "      <th>franchise</th>\n",
       "      <th>produced_by</th>\n",
       "      <th>produced_in</th>\n",
       "      <th>genres_clean</th>\n",
       "    </tr>\n",
       "  </thead>\n",
       "  <tbody>\n",
       "    <tr>\n",
       "      <th>0</th>\n",
       "      <td>[{'cast_id': 14, 'character': 'Woody (voice)',...</td>\n",
       "      <td>[{'credit_id': '52fe4284c3a36847f8024f49', 'de...</td>\n",
       "      <td>862</td>\n",
       "      <td>{'id': 10194, 'name': 'Toy Story Collection', ...</td>\n",
       "      <td>30000000</td>\n",
       "      <td>[{'id': 16, 'name': 'Animation'}, {'id': 35, '...</td>\n",
       "      <td>en</td>\n",
       "      <td>Led by Woody, Andy's toys live happily in his ...</td>\n",
       "      <td>21.946943</td>\n",
       "      <td>[{'name': 'Pixar Animation Studios', 'id': 3}]</td>\n",
       "      <td>...</td>\n",
       "      <td>Toy Story</td>\n",
       "      <td>7.7</td>\n",
       "      <td>5415.0</td>\n",
       "      <td>12.451801</td>\n",
       "      <td>1995</td>\n",
       "      <td>[John Lasseter]</td>\n",
       "      <td>Toy Story Collection</td>\n",
       "      <td>[Pixar Animation Studios]</td>\n",
       "      <td>[United States of America]</td>\n",
       "      <td>[Animation, Comedy, Family]</td>\n",
       "    </tr>\n",
       "  </tbody>\n",
       "</table>\n",
       "<p>1 rows × 27 columns</p>\n",
       "</div>"
      ],
      "text/plain": [
       "                                                cast  \\\n",
       "0  [{'cast_id': 14, 'character': 'Woody (voice)',...   \n",
       "\n",
       "                                                crew   id  \\\n",
       "0  [{'credit_id': '52fe4284c3a36847f8024f49', 'de...  862   \n",
       "\n",
       "                               belongs_to_collection    budget  \\\n",
       "0  {'id': 10194, 'name': 'Toy Story Collection', ...  30000000   \n",
       "\n",
       "                                              genres original_language  \\\n",
       "0  [{'id': 16, 'name': 'Animation'}, {'id': 35, '...                en   \n",
       "\n",
       "                                            overview popularity  \\\n",
       "0  Led by Woody, Andy's toys live happily in his ...  21.946943   \n",
       "\n",
       "                             production_companies  ...      title  \\\n",
       "0  [{'name': 'Pixar Animation Studios', 'id': 3}]  ...  Toy Story   \n",
       "\n",
       "  vote_average  vote_count     return release_year      directed_by  \\\n",
       "0          7.7      5415.0  12.451801         1995  [John Lasseter]   \n",
       "\n",
       "              franchise                produced_by  \\\n",
       "0  Toy Story Collection  [Pixar Animation Studios]   \n",
       "\n",
       "                  produced_in                 genres_clean  \n",
       "0  [United States of America]  [Animation, Comedy, Family]  \n",
       "\n",
       "[1 rows x 27 columns]"
      ]
     },
     "execution_count": 5,
     "metadata": {},
     "output_type": "execute_result"
    }
   ],
   "source": [
    "df.head(1)"
   ]
  },
  {
   "cell_type": "markdown",
   "metadata": {},
   "source": [
    "### Borrado de columnas originales de las cuales se extrajeron los datos necesarios en nuevas columnas"
   ]
  },
  {
   "cell_type": "code",
   "execution_count": 6,
   "metadata": {},
   "outputs": [],
   "source": [
    "# podemos borrar las columnas cast, crew, belongs_to_collection, \n",
    "# production_companies, production_countries, genres\n",
    "# 'cast' no la usamos en ningún momento\n",
    "# de 'crew' ya hemos sacado los directores en la columna 'directed_by'\n",
    "# de 'belongs_to_collection' ya hemos sacado el nombre de la franquicia en 'franchise'\n",
    "# de 'production_companies' se han extraido las productoras en 'produced_by'\n",
    "# de 'production_countries' se han extraido los países en 'produced_in'\n",
    "# de 'genres' se ha extraído la información en 'genres_clean'\n",
    "\n",
    "df.drop(['cast', 'crew', 'belongs_to_collection', 'production_companies',\n",
    "         'production_countries', 'genres'], axis=1, inplace=True)"
   ]
  },
  {
   "cell_type": "code",
   "execution_count": 11,
   "metadata": {},
   "outputs": [
    {
     "name": "stdout",
     "output_type": "stream",
     "text": [
      "Index(['id', 'budget', 'original_language', 'overview', 'popularity',\n",
      "       'release_date', 'revenue', 'runtime', 'spoken_languages', 'status',\n",
      "       'tagline', 'title', 'vote_average', 'vote_count', 'return',\n",
      "       'release_year', 'directed_by', 'franchise', 'produced_by',\n",
      "       'produced_in', 'genres_clean'],\n",
      "      dtype='object')\n",
      "(45348, 21)\n"
     ]
    }
   ],
   "source": [
    "print(df.columns)\n",
    "print(df.shape)"
   ]
  },
  {
   "cell_type": "code",
   "execution_count": 5,
   "metadata": {},
   "outputs": [],
   "source": [
    "def print_sample(df):\n",
    "   # Elige las 3 columnas aleatorias\n",
    "   columns = np.random.choice(df.columns, 3, replace=False)  \n",
    "   \n",
    "   # Obtén el sample  \n",
    "   sample = df[columns].sample(n=5).T.reset_index(drop=True).T\n",
    "\n",
    "   # Obtenemos los nombres de columnas    \n",
    "   column_names = df[columns].columns\n",
    "   \n",
    "   # Imprimimos el encabezado con los nombres de columna\n",
    "   print(f\"{', '.join(column_names)}\\n\")\n",
    "   \n",
    "   # Luego imprimos el sample      \n",
    "   print(sample.to_string())"
   ]
  },
  {
   "cell_type": "code",
   "execution_count": 6,
   "metadata": {},
   "outputs": [
    {
     "ename": "NameError",
     "evalue": "name 'df' is not defined",
     "output_type": "error",
     "traceback": [
      "\u001b[1;31m---------------------------------------------------------------------------\u001b[0m",
      "\u001b[1;31mNameError\u001b[0m                                 Traceback (most recent call last)",
      "\u001b[1;32md:\\HENRY2023\\M7(PI)\\DTS-12\\PI_ML_OPS\\ETL_pi01_dts12.ipynb Cell 106\u001b[0m in \u001b[0;36m1\n\u001b[1;32m----> <a href='vscode-notebook-cell:/d%3A/HENRY2023/M7%28PI%29/DTS-12/PI_ML_OPS/ETL_pi01_dts12.ipynb#Y210sZmlsZQ%3D%3D?line=0'>1</a>\u001b[0m print_sample(df)\n",
      "\u001b[1;31mNameError\u001b[0m: name 'df' is not defined"
     ]
    }
   ],
   "source": [
    "print_sample(df)"
   ]
  },
  {
   "cell_type": "markdown",
   "metadata": {},
   "source": [
    "___\n",
    "### Hora de exportar los datos antes de preparar las funciones de la API\n",
    "___"
   ]
  },
  {
   "cell_type": "code",
   "execution_count": 41,
   "metadata": {},
   "outputs": [],
   "source": [
    "# Aquí lo guardo como .pickle, nuestro viejo amigo\n",
    "df.to_pickle('./data/datos_limpios.pickle')"
   ]
  },
  {
   "cell_type": "code",
   "execution_count": 56,
   "metadata": {},
   "outputs": [],
   "source": [
    "df = pd.read_pickle('./data/datos_limpios.pickle')"
   ]
  },
  {
   "cell_type": "code",
   "execution_count": 57,
   "metadata": {},
   "outputs": [
    {
     "data": {
      "text/plain": [
       "Index(['id', 'budget', 'original_language', 'overview', 'popularity',\n",
       "       'release_date', 'revenue', 'runtime', 'spoken_languages', 'status',\n",
       "       'tagline', 'title', 'vote_average', 'vote_count', 'return',\n",
       "       'release_year', 'directed_by', 'franchise', 'produced_by',\n",
       "       'produced_in', 'genres_clean'],\n",
       "      dtype='object')"
      ]
     },
     "execution_count": 57,
     "metadata": {},
     "output_type": "execute_result"
    }
   ],
   "source": [
    "df.columns"
   ]
  },
  {
   "cell_type": "code",
   "execution_count": 58,
   "metadata": {},
   "outputs": [],
   "source": [
    "# Aquí hago una prueba de exportarlo al formato .feather para comparar el tamaño y velocidad\n",
    "df['popularity'] = pd.to_numeric(df['popularity'], errors='coerce')\n",
    "df['runtime'] = pd.to_numeric(df['runtime'], errors='coerce')\n",
    "df['vote_average'] = pd.to_numeric(df['vote_average'], errors='coerce')\n",
    "df['vote_count'] = pd.to_numeric(df['vote_count'], errors='coerce')  # Convert 'vote_count' column to numeric\n",
    "df.reset_index(inplace=True)\n",
    "df.to_feather('./data/datos_limpios.feather')"
   ]
  },
  {
   "cell_type": "markdown",
   "metadata": {},
   "source": [
    "___\n",
    "si empiezas desde aquí acuérdate de hacer imports del principio del notebook"
   ]
  },
  {
   "cell_type": "markdown",
   "metadata": {},
   "source": [
    "### Comparando el peso de los archivos, nos quisimos quedar con .feather\n",
    "### pero después no logramos a poder usarlo en RENDER, así que nada..."
   ]
  },
  {
   "cell_type": "code",
   "execution_count": 15,
   "metadata": {},
   "outputs": [],
   "source": [
    "df = pd.read_csv('./data/datos_limpios.csv')"
   ]
  },
  {
   "cell_type": "code",
   "execution_count": 16,
   "metadata": {},
   "outputs": [
    {
     "name": "stdout",
     "output_type": "stream",
     "text": [
      "Index(['index', 'id', 'budget', 'original_language', 'overview', 'popularity',\n",
      "       'release_date', 'revenue', 'runtime', 'spoken_languages', 'status',\n",
      "       'tagline', 'title', 'vote_average', 'vote_count', 'return',\n",
      "       'release_year', 'directed_by', 'franchise', 'produced_by',\n",
      "       'produced_in', 'genres_clean'],\n",
      "      dtype='object')\n",
      "(45348, 22)\n"
     ]
    }
   ],
   "source": [
    "print(df.columns)\n",
    "print(df.shape)"
   ]
  },
  {
   "cell_type": "code",
   "execution_count": 39,
   "metadata": {},
   "outputs": [],
   "source": [
    "def peliculas_duracion_version_antigua(pelicula:str):\n",
    "\n",
    "    # Verificar que se proporcione al menos un carácter como argumento\n",
    "    if len(pelicula.strip()) == 0:\n",
    "        mensaje_error = {'error': 'Debe proporcionar al menos un carácter para buscar'}\n",
    "        return mensaje_error\n",
    "    \n",
    "    # Escapar la cadena de búsqueda para evitar errores de expresión regular\n",
    "    pelicula_escaped = re.escape(pelicula)\n",
    "    \n",
    "    # Crear una lista vacía para almacenar los resultados\n",
    "    resultados = []\n",
    "    \n",
    "    # Filtrar las filas que contienen el texto especificado en el título\n",
    "    df_filtrado = df[df['title'].str.contains(pelicula_escaped, case=False)]\n",
    "    \n",
    "    # Verificar si hay resultados\n",
    "    if len(df_filtrado) == 0:\n",
    "        mensaje_error = {'error': f'No se encontró ninguna película que contenga la palabra \"{pelicula}\"'}\n",
    "        return mensaje_error\n",
    "    \n",
    "    # Iterar sobre las filas filtradas y agregar un diccionario de resultados para cada una\n",
    "    for indice, fila in df_filtrado.iterrows():\n",
    "        # Agregar un máximo de 10 resultados\n",
    "        if len(resultados) == 10:\n",
    "            break\n",
    "        resultado = {'título': fila['title'], 'duración (minutos)': fila['runtime'], 'año lanzamiento': fila['release_year']}\n",
    "        resultados.append(resultado)\n",
    "    \n",
    "    # Devolver la lista de resultados\n",
    "    return resultados"
   ]
  },
  {
   "cell_type": "code",
   "execution_count": 40,
   "metadata": {},
   "outputs": [],
   "source": [
    "def peliculas_duracion(pelicula:str):\n",
    "\n",
    "    # Verificar que se proporcione al menos un carácter como argumento\n",
    "    if len(pelicula.strip()) == 0:\n",
    "        mensaje_error = {'error': 'Debe proporcionar al menos un carácter para buscar'}\n",
    "        return mensaje_error, 400\n",
    "    \n",
    "    # Escapar la cadena de búsqueda para evitar errores de expresión regular\n",
    "    pelicula_escaped = re.escape(pelicula)\n",
    "    \n",
    "    # Crear una lista vacía para almacenar los resultados\n",
    "    resultados = []\n",
    "    \n",
    "    # Filtrar las filas que contienen el texto especificado en el título\n",
    "    df_filtrado = df[df['title'].str.contains(pelicula_escaped, case=False)]\n",
    "    \n",
    "    # Verificar si hay resultados\n",
    "    if len(df_filtrado) == 0:\n",
    "        mensaje_error = {'error': f'No se encontró ninguna película que contenga la palabra \"{pelicula}\"'}\n",
    "        return mensaje_error, 404\n",
    "    \n",
    "    # Convertir los valores \"nan\" del campo \"runtime\" a una cadena vacía\n",
    "    df_filtrado['runtime'] = df_filtrado['runtime'].fillna('')\n",
    "    \n",
    "    # Iterar sobre las filas filtradas y agregar un diccionario de resultados para cada una\n",
    "    for indice, fila in df_filtrado.iterrows():\n",
    "        # Agregar un máximo de 10 resultados\n",
    "        if len(resultados) == 10:\n",
    "            break\n",
    "        resultado = {'título': fila['title'], 'duración (minutos)': fila['runtime'], 'año lanzamiento': fila['release_year']}\n",
    "        resultados.append(resultado)\n",
    "    \n",
    "    # Devolver la lista de resultados\n",
    "    return resultados, 200"
   ]
  },
  {
   "cell_type": "code",
   "execution_count": 41,
   "metadata": {},
   "outputs": [
    {
     "name": "stderr",
     "output_type": "stream",
     "text": [
      "C:\\Users\\raftx\\AppData\\Local\\Temp\\ipykernel_2924\\2988312141.py:23: SettingWithCopyWarning: \n",
      "A value is trying to be set on a copy of a slice from a DataFrame.\n",
      "Try using .loc[row_indexer,col_indexer] = value instead\n",
      "\n",
      "See the caveats in the documentation: https://pandas.pydata.org/pandas-docs/stable/user_guide/indexing.html#returning-a-view-versus-a-copy\n",
      "  df_filtrado['runtime'] = df_filtrado['runtime'].fillna('')\n"
     ]
    },
    {
     "data": {
      "text/plain": [
       "([{'título': 'Harry and Tonto',\n",
       "   'duración (minutos)': 115.0,\n",
       "   'año lanzamiento': 1974},\n",
       "  {'título': 'Los tontos y los estúpidos',\n",
       "   'duración (minutos)': '',\n",
       "   'año lanzamiento': 2014}],\n",
       " 200)"
      ]
     },
     "execution_count": 41,
     "metadata": {},
     "output_type": "execute_result"
    }
   ],
   "source": [
    "peliculas_duracion('tonto')"
   ]
  },
  {
   "cell_type": "code",
   "execution_count": 12,
   "metadata": {},
   "outputs": [
    {
     "name": "stdout",
     "output_type": "stream",
     "text": [
      "original_language\n",
      "en    32186\n",
      "fr     2435\n",
      "it     1528\n",
      "ja     1347\n",
      "de     1077\n",
      "es      991\n",
      "ru      822\n",
      "hi      508\n",
      "ko      444\n",
      "zh      408\n",
      "sv      383\n",
      "pt      315\n",
      "cn      313\n",
      "fi      293\n",
      "nl      247\n",
      "da      224\n",
      "pl      218\n",
      "tr      150\n",
      "cs      130\n",
      "el      113\n",
      "no      106\n",
      "hu      100\n",
      "fa       99\n",
      "ta       78\n",
      "th       75\n",
      "he       67\n",
      "sr       63\n",
      "ro       57\n",
      "te       45\n",
      "ar       39\n",
      "ml       36\n",
      "xx       33\n",
      "hr       29\n",
      "bn       29\n",
      "mr       24\n",
      "et       24\n",
      "is       24\n",
      "tl       23\n",
      "id       20\n",
      "ka       18\n",
      "sl       17\n",
      "lv       17\n",
      "uk       16\n",
      "bs       14\n",
      "ca       12\n",
      "vi       10\n",
      "bg       10\n",
      "ab       10\n",
      "sk        9\n",
      "lt        9\n",
      "ur        8\n",
      "nb        6\n",
      "wo        5\n",
      "sh        5\n",
      "ms        5\n",
      "mk        5\n",
      "sq        5\n",
      "kn        3\n",
      "eu        3\n",
      "ky        3\n",
      "kk        3\n",
      "ku        3\n",
      "bm        3\n",
      "pa        2\n",
      "ne        2\n",
      "ps        2\n",
      "iu        2\n",
      "mn        2\n",
      "af        2\n",
      "am        2\n",
      "bo        2\n",
      "lo        2\n",
      "gl        1\n",
      "rw        1\n",
      "uz        1\n",
      "sm        1\n",
      "eo        1\n",
      "hy        1\n",
      "lb        1\n",
      "mt        1\n",
      "ay        1\n",
      "zu        1\n",
      "cy        1\n",
      "tg        1\n",
      "jv        1\n",
      "qu        1\n",
      "la        1\n",
      "fy        1\n",
      "si        1\n"
     ]
    }
   ],
   "source": [
    "lenguas = df['original_language'].value_counts()\n",
    "print(lenguas.to_string())"
   ]
  },
  {
   "cell_type": "code",
   "execution_count": 14,
   "metadata": {},
   "outputs": [],
   "source": [
    "# @app.get('/peliculas_idioma/{idioma}')\n",
    "def peliculas_idioma(idioma:str):\n",
    "    '''\n",
    "    Ingresa el idioma en formato abreviado conforme la norma internacional ISO 639-1. \n",
    "    Los idiomas más populares son:\n",
    "        \"en\" corresponde a inglés (English).\n",
    "        \"fr\" corresponde a francés (French).\n",
    "        \"it\" corresponde a italiano (Italian).\n",
    "        \"ja\" corresponde a japonés (Japanese).\n",
    "        \"de\" corresponde a alemán (German).\n",
    "        \"es\" corresponde a español (Spanish).\n",
    "        \"ru\" corresponde a ruso (Russian).\n",
    "        \"hi\" corresponde a hindi (Hindi).\n",
    "        \"ko\" corresponde a coreano (Korean).\n",
    "        \"zh\" corresponde a chino (Chinese).\n",
    "        \"pl\" corresponde a polaco (Polish)\n",
    "        \"ar\" corresponde a argentino viste...\n",
    "\n",
    "    La función devolverá:\n",
    "        Un diccionario {'idioma':idioma, 'cantidad':respuesta}.\n",
    "\n",
    "    '''\n",
    "    df_filtrado=df[df['original_language']==idioma]\n",
    "    cantidad=len(df_filtrado)\n",
    "    respuesta = {'idioma':idioma, 'cantidad':cantidad}\n",
    "  \n",
    "    return respuesta"
   ]
  },
  {
   "cell_type": "code",
   "execution_count": 18,
   "metadata": {},
   "outputs": [
    {
     "data": {
      "text/plain": [
       "{'idioma': 'pl', 'cantidad': 218}"
      ]
     },
     "execution_count": 18,
     "metadata": {},
     "output_type": "execute_result"
    }
   ],
   "source": [
    "peliculas_idioma('pl')"
   ]
  },
  {
   "cell_type": "code",
   "execution_count": 19,
   "metadata": {},
   "outputs": [],
   "source": [
    "def get_director(nombre_director: str):\n",
    "    \"\"\"\n",
    "    Ingresar el nombre de un director incluído en el dataset.<br>\n",
    "\n",
    "    Devuelve el éxito del mismo medido a través del retorno.<br>\n",
    "\n",
    "    Además devuelve el nombre de cada película con su fecha de lanzamiento, retorno individual,\n",
    "    costo y ganancia de la misma en formato lista.\n",
    "    \n",
    "    \"\"\"\n",
    "    # Filtramos el DataFrame por el nombre del director ingresado\n",
    "    pelis_del_director = df[df['directed_by'].str.contains(nombre_director, case=False, na=False)]\n",
    "\n",
    "    if pelis_del_director.empty:\n",
    "        return f\"No se encontraron películas dirigidas por {nombre_director}.\"\n",
    "\n",
    "    # Limpiamos los valores 'N/A' y reemplazamos los valores 'inf' y 'nan' en el DataFrame\n",
    "    pelis_del_director = pelis_del_director.replace({'N/A': np.nan, np.inf: np.nan})\n",
    "\n",
    "    # Calculamos el promedio de éxito de las películas del director sin considerar los valores NaN\n",
    "    exito_director = pelis_del_director['return'].mean(skipna=True)\n",
    "\n",
    "    # Limitamos la cantidad de películas a devolver\n",
    "    max_movies = 10  # Se puede ajustar este valor según tus necesidades\n",
    "    pelis_del_director = pelis_del_director.head(max_movies)\n",
    "\n",
    "    # Crea una lista de películas dirigidas por el director\n",
    "    lista_pelis = pelis_del_director[['title', 'release_date', 'return', 'budget', 'revenue']].to_dict(orient='records')\n",
    "\n",
    "    return {'director_success': exito_director, 'lista_peliculas': lista_pelis}"
   ]
  },
  {
   "cell_type": "code",
   "execution_count": 33,
   "metadata": {},
   "outputs": [
    {
     "data": {
      "text/plain": [
       "{'director_success': 0.0,\n",
       " 'lista_peliculas': [{'title': \"Richard Pryor: I Ain't Dead Yet, #*%$#@!!\",\n",
       "   'release_date': '2003-01-01',\n",
       "   'return': 0.0,\n",
       "   'budget': 0,\n",
       "   'revenue': 0.0}]}"
      ]
     },
     "execution_count": 33,
     "metadata": {},
     "output_type": "execute_result"
    }
   ],
   "source": [
    "get_director('Grundfest')"
   ]
  },
  {
   "cell_type": "code",
   "execution_count": 23,
   "metadata": {},
   "outputs": [
    {
     "data": {
      "text/html": [
       "<div>\n",
       "<style scoped>\n",
       "    .dataframe tbody tr th:only-of-type {\n",
       "        vertical-align: middle;\n",
       "    }\n",
       "\n",
       "    .dataframe tbody tr th {\n",
       "        vertical-align: top;\n",
       "    }\n",
       "\n",
       "    .dataframe thead th {\n",
       "        text-align: right;\n",
       "    }\n",
       "</style>\n",
       "<table border=\"1\" class=\"dataframe\">\n",
       "  <thead>\n",
       "    <tr style=\"text-align: right;\">\n",
       "      <th></th>\n",
       "      <th>index</th>\n",
       "      <th>id</th>\n",
       "      <th>budget</th>\n",
       "      <th>original_language</th>\n",
       "      <th>overview</th>\n",
       "      <th>popularity</th>\n",
       "      <th>release_date</th>\n",
       "      <th>revenue</th>\n",
       "      <th>runtime</th>\n",
       "      <th>spoken_languages</th>\n",
       "      <th>...</th>\n",
       "      <th>title</th>\n",
       "      <th>vote_average</th>\n",
       "      <th>vote_count</th>\n",
       "      <th>return</th>\n",
       "      <th>release_year</th>\n",
       "      <th>directed_by</th>\n",
       "      <th>franchise</th>\n",
       "      <th>produced_by</th>\n",
       "      <th>produced_in</th>\n",
       "      <th>genres_clean</th>\n",
       "    </tr>\n",
       "  </thead>\n",
       "  <tbody>\n",
       "    <tr>\n",
       "      <th>45341</th>\n",
       "      <td>45385</td>\n",
       "      <td>289923</td>\n",
       "      <td>0</td>\n",
       "      <td>en</td>\n",
       "      <td>A film archivist revisits the story of Rustin ...</td>\n",
       "      <td>0.38645</td>\n",
       "      <td>2000-10-03</td>\n",
       "      <td>0.0</td>\n",
       "      <td>30.0</td>\n",
       "      <td>[{'iso_639_1': 'en', 'name': 'English'}]</td>\n",
       "      <td>...</td>\n",
       "      <td>The Burkittsville 7</td>\n",
       "      <td>7.0</td>\n",
       "      <td>1.0</td>\n",
       "      <td>0.0</td>\n",
       "      <td>2000</td>\n",
       "      <td>['Ben Rock']</td>\n",
       "      <td>NaN</td>\n",
       "      <td>['Neptune Salad Entertainment' 'Pirie Producti...</td>\n",
       "      <td>['United States of America']</td>\n",
       "      <td>['Horror']</td>\n",
       "    </tr>\n",
       "  </tbody>\n",
       "</table>\n",
       "<p>1 rows × 22 columns</p>\n",
       "</div>"
      ],
      "text/plain": [
       "       index      id  budget original_language  \\\n",
       "45341  45385  289923       0                en   \n",
       "\n",
       "                                                overview  popularity  \\\n",
       "45341  A film archivist revisits the story of Rustin ...     0.38645   \n",
       "\n",
       "      release_date  revenue  runtime  \\\n",
       "45341   2000-10-03      0.0     30.0   \n",
       "\n",
       "                               spoken_languages  ...                title  \\\n",
       "45341  [{'iso_639_1': 'en', 'name': 'English'}]  ...  The Burkittsville 7   \n",
       "\n",
       "      vote_average vote_count  return  release_year   directed_by  franchise  \\\n",
       "45341          7.0        1.0     0.0          2000  ['Ben Rock']        NaN   \n",
       "\n",
       "                                             produced_by  \\\n",
       "45341  ['Neptune Salad Entertainment' 'Pirie Producti...   \n",
       "\n",
       "                        produced_in genres_clean  \n",
       "45341  ['United States of America']   ['Horror']  \n",
       "\n",
       "[1 rows x 22 columns]"
      ]
     },
     "execution_count": 23,
     "metadata": {},
     "output_type": "execute_result"
    }
   ],
   "source": [
    "df[df['title'] == 'The Burkittsville 7']"
   ]
  },
  {
   "cell_type": "code",
   "execution_count": 30,
   "metadata": {},
   "outputs": [],
   "source": [
    "#@app.get('/peliculas_duracion/{pelicula}')\n",
    "def peliculas_duracion_sin_re(pelicula: str):\n",
    "    \"\"\"\n",
    "    Ingresa un título o parte del título y la API devolverá<br>\n",
    "    ese título con su duración y año de estreno (o varios)<br>\n",
    "    \"\"\"\n",
    "\n",
    "    # Verificar que se proporcione al menos un carácter como argumento\n",
    "    if len(pelicula.strip()) == 0:\n",
    "        mensaje_error = {'error': 'Debe proporcionar al menos un carácter para buscar'}\n",
    "        return mensaje_error\n",
    "\n",
    "    # Escapar los caracteres especiales en la cadena de búsqueda para evitar errores\n",
    "    pelicula_escaped = pelicula.replace('*', r'\\*').replace('\\'', r'\\'')\n",
    "    \n",
    "    # Crear una lista vacía para almacenar los resultados\n",
    "    resultados = []\n",
    "    \n",
    "    # Filtrar las filas que contienen el texto especificado en el título\n",
    "    df_filtrado = df[df['title'].str.contains(pelicula_escaped, case=False)]\n",
    "    \n",
    "    # Verificar si hay resultados\n",
    "    if len(df_filtrado) == 0:\n",
    "        mensaje_error = {'error': f'No se encontró ninguna película que contenga la palabra \"{pelicula}\"'}\n",
    "        return mensaje_error\n",
    "    \n",
    "    # Iterar sobre las filas filtradas y agregar un diccionario de resultados para cada una\n",
    "    for indice, fila in df_filtrado.iterrows():\n",
    "        # Agregar un máximo de 10 resultados\n",
    "        if len(resultados) == 10:\n",
    "            break\n",
    "        resultado = {'titulo': fila['title'], 'duracion (minutos)': fila['runtime'], 'año lanzamiento': fila['release_year']}\n",
    "        resultados.append(resultado)\n",
    "    \n",
    "    # Devolver la lista de resultados\n",
    "    return resultados"
   ]
  },
  {
   "cell_type": "code",
   "execution_count": 31,
   "metadata": {},
   "outputs": [
    {
     "data": {
      "text/plain": [
       "[{'titulo': 'Se7en', 'duracion (minutos)': 127.0, 'año lanzamiento': 1995},\n",
       " {'titulo': 'To Gillian on Her 37th Birthday',\n",
       "  'duracion (minutos)': 93.0,\n",
       "  'año lanzamiento': 1996},\n",
       " {'titulo': '24 7: Twenty Four Seven',\n",
       "  'duracion (minutos)': 96.0,\n",
       "  'año lanzamiento': 1997},\n",
       " {'titulo': 'Airport 1975',\n",
       "  'duracion (minutos)': 107.0,\n",
       "  'año lanzamiento': 1974},\n",
       " {'titulo': \"Airport '77\",\n",
       "  'duracion (minutos)': 114.0,\n",
       "  'año lanzamiento': 1977},\n",
       " {'titulo': \"The Concorde... Airport '79\",\n",
       "  'duracion (minutos)': 123.0,\n",
       "  'año lanzamiento': 1979},\n",
       " {'titulo': '47 Samurai',\n",
       "  'duracion (minutos)': 207.0,\n",
       "  'año lanzamiento': 1962},\n",
       " {'titulo': 'The 7th Voyage of Sinbad',\n",
       "  'duracion (minutos)': 88.0,\n",
       "  'año lanzamiento': 1958},\n",
       " {'titulo': 'Stalag 17', 'duracion (minutos)': 120.0, 'año lanzamiento': 1953},\n",
       " {'titulo': 'U-571', 'duracion (minutos)': 116.0, 'año lanzamiento': 2000}]"
      ]
     },
     "execution_count": 31,
     "metadata": {},
     "output_type": "execute_result"
    }
   ],
   "source": [
    "peliculas_duracion_sin_re(\"7\")"
   ]
  },
  {
   "cell_type": "code",
   "execution_count": 32,
   "metadata": {},
   "outputs": [
    {
     "data": {
      "text/html": [
       "<div>\n",
       "<style scoped>\n",
       "    .dataframe tbody tr th:only-of-type {\n",
       "        vertical-align: middle;\n",
       "    }\n",
       "\n",
       "    .dataframe tbody tr th {\n",
       "        vertical-align: top;\n",
       "    }\n",
       "\n",
       "    .dataframe thead th {\n",
       "        text-align: right;\n",
       "    }\n",
       "</style>\n",
       "<table border=\"1\" class=\"dataframe\">\n",
       "  <thead>\n",
       "    <tr style=\"text-align: right;\">\n",
       "      <th></th>\n",
       "      <th>index</th>\n",
       "      <th>id</th>\n",
       "      <th>budget</th>\n",
       "      <th>original_language</th>\n",
       "      <th>overview</th>\n",
       "      <th>popularity</th>\n",
       "      <th>release_date</th>\n",
       "      <th>revenue</th>\n",
       "      <th>runtime</th>\n",
       "      <th>spoken_languages</th>\n",
       "      <th>...</th>\n",
       "      <th>title</th>\n",
       "      <th>vote_average</th>\n",
       "      <th>vote_count</th>\n",
       "      <th>return</th>\n",
       "      <th>release_year</th>\n",
       "      <th>directed_by</th>\n",
       "      <th>franchise</th>\n",
       "      <th>produced_by</th>\n",
       "      <th>produced_in</th>\n",
       "      <th>genres_clean</th>\n",
       "    </tr>\n",
       "  </thead>\n",
       "  <tbody>\n",
       "    <tr>\n",
       "      <th>3685</th>\n",
       "      <td>3689</td>\n",
       "      <td>11624</td>\n",
       "      <td>2000000</td>\n",
       "      <td>en</td>\n",
       "      <td>A collection of seven vignettes, which each ad...</td>\n",
       "      <td>5.378481</td>\n",
       "      <td>1972-08-06</td>\n",
       "      <td>18016290.0</td>\n",
       "      <td>88.0</td>\n",
       "      <td>[{'iso_639_1': 'en', 'name': 'English'}, {'iso...</td>\n",
       "      <td>...</td>\n",
       "      <td>Everything You Always Wanted to Know About Sex...</td>\n",
       "      <td>6.6</td>\n",
       "      <td>218.0</td>\n",
       "      <td>9.008145</td>\n",
       "      <td>1972</td>\n",
       "      <td>['Woody Allen']</td>\n",
       "      <td>NaN</td>\n",
       "      <td>['United Artists']</td>\n",
       "      <td>['United States of America']</td>\n",
       "      <td>['Comedy']</td>\n",
       "    </tr>\n",
       "    <tr>\n",
       "      <th>4340</th>\n",
       "      <td>4345</td>\n",
       "      <td>14911</td>\n",
       "      <td>0</td>\n",
       "      <td>en</td>\n",
       "      <td>Lt. Col. Iceal \"Ham\" Hambleton is a weapons co...</td>\n",
       "      <td>9.179655</td>\n",
       "      <td>1988-07-21</td>\n",
       "      <td>3184348.0</td>\n",
       "      <td>105.0</td>\n",
       "      <td>[{'iso_639_1': 'en', 'name': 'English'}]</td>\n",
       "      <td>...</td>\n",
       "      <td>Bat*21</td>\n",
       "      <td>5.9</td>\n",
       "      <td>42.0</td>\n",
       "      <td>0.000000</td>\n",
       "      <td>1988</td>\n",
       "      <td>['Peter Markle']</td>\n",
       "      <td>NaN</td>\n",
       "      <td>['TriStar Pictures' 'Vision PDG']</td>\n",
       "      <td>['United States of America']</td>\n",
       "      <td>['Action' 'Drama' 'War']</td>\n",
       "    </tr>\n",
       "    <tr>\n",
       "      <th>4925</th>\n",
       "      <td>4931</td>\n",
       "      <td>651</td>\n",
       "      <td>3500000</td>\n",
       "      <td>en</td>\n",
       "      <td>One of the world's most acclaimed comedies, MA...</td>\n",
       "      <td>7.701349</td>\n",
       "      <td>1970-01-24</td>\n",
       "      <td>81600000.0</td>\n",
       "      <td>116.0</td>\n",
       "      <td>[{'iso_639_1': 'en', 'name': 'English'}, {'iso...</td>\n",
       "      <td>...</td>\n",
       "      <td>M*A*S*H</td>\n",
       "      <td>6.9</td>\n",
       "      <td>238.0</td>\n",
       "      <td>23.314286</td>\n",
       "      <td>1970</td>\n",
       "      <td>['Robert Altman']</td>\n",
       "      <td>NaN</td>\n",
       "      <td>['Twentieth Century Fox Film Corporation' 'Asp...</td>\n",
       "      <td>['United States of America']</td>\n",
       "      <td>['Comedy' 'Drama' 'War']</td>\n",
       "    </tr>\n",
       "    <tr>\n",
       "      <th>9257</th>\n",
       "      <td>9269</td>\n",
       "      <td>20536</td>\n",
       "      <td>0</td>\n",
       "      <td>en</td>\n",
       "      <td>In 1961, Roger Maris and Mickey Mantle played ...</td>\n",
       "      <td>2.077090</td>\n",
       "      <td>2001-04-28</td>\n",
       "      <td>0.0</td>\n",
       "      <td>129.0</td>\n",
       "      <td>[{'iso_639_1': 'en', 'name': 'English'}]</td>\n",
       "      <td>...</td>\n",
       "      <td>61*</td>\n",
       "      <td>6.3</td>\n",
       "      <td>34.0</td>\n",
       "      <td>0.000000</td>\n",
       "      <td>2001</td>\n",
       "      <td>['Billy Crystal']</td>\n",
       "      <td>NaN</td>\n",
       "      <td>['61* Productions Inc.']</td>\n",
       "      <td>['United States of America']</td>\n",
       "      <td>['Drama' 'History']</td>\n",
       "    </tr>\n",
       "    <tr>\n",
       "      <th>9500</th>\n",
       "      <td>9512</td>\n",
       "      <td>8357</td>\n",
       "      <td>0</td>\n",
       "      <td>en</td>\n",
       "      <td>Amanda (Marlee Maitlin) is a divorced woman wh...</td>\n",
       "      <td>7.631049</td>\n",
       "      <td>2004-04-23</td>\n",
       "      <td>10000000.0</td>\n",
       "      <td>109.0</td>\n",
       "      <td>[{'iso_639_1': 'en', 'name': 'English'}, {'iso...</td>\n",
       "      <td>...</td>\n",
       "      <td>What the #$*! Do We (K)now!?</td>\n",
       "      <td>5.8</td>\n",
       "      <td>34.0</td>\n",
       "      <td>0.000000</td>\n",
       "      <td>2004</td>\n",
       "      <td>['William Arntz' 'Betsy Chasse']</td>\n",
       "      <td>What the Bleep! Collection</td>\n",
       "      <td>['Lord of the Wind']</td>\n",
       "      <td>['United States of America']</td>\n",
       "      <td>['Documentary']</td>\n",
       "    </tr>\n",
       "    <tr>\n",
       "      <th>12635</th>\n",
       "      <td>12651</td>\n",
       "      <td>13636</td>\n",
       "      <td>0</td>\n",
       "      <td>en</td>\n",
       "      <td>In America, we define ourselves in the superla...</td>\n",
       "      <td>6.108182</td>\n",
       "      <td>2008-05-30</td>\n",
       "      <td>307811.0</td>\n",
       "      <td>105.0</td>\n",
       "      <td>[{'iso_639_1': 'en', 'name': 'English'}]</td>\n",
       "      <td>...</td>\n",
       "      <td>Bigger Stronger Faster*</td>\n",
       "      <td>7.0</td>\n",
       "      <td>41.0</td>\n",
       "      <td>0.000000</td>\n",
       "      <td>2008</td>\n",
       "      <td>['Chris Bell']</td>\n",
       "      <td>NaN</td>\n",
       "      <td>['BSF Film']</td>\n",
       "      <td>['United States of America']</td>\n",
       "      <td>['Documentary']</td>\n",
       "    </tr>\n",
       "    <tr>\n",
       "      <th>15111</th>\n",
       "      <td>15134</td>\n",
       "      <td>36325</td>\n",
       "      <td>0</td>\n",
       "      <td>en</td>\n",
       "      <td>Juan “Accidentes” Dominguez is on his biggest ...</td>\n",
       "      <td>0.502688</td>\n",
       "      <td>2009-10-09</td>\n",
       "      <td>0.0</td>\n",
       "      <td>87.0</td>\n",
       "      <td>[{'iso_639_1': 'en', 'name': 'English'}, {'iso...</td>\n",
       "      <td>...</td>\n",
       "      <td>Bananas!*</td>\n",
       "      <td>5.6</td>\n",
       "      <td>5.0</td>\n",
       "      <td>0.000000</td>\n",
       "      <td>2009</td>\n",
       "      <td>['Fredrik Gertten']</td>\n",
       "      <td>Bananas!* Collection</td>\n",
       "      <td>['Magic Hour Films ApS']</td>\n",
       "      <td>['United States of America' 'Nicaragua' 'France']</td>\n",
       "      <td>['Documentary']</td>\n",
       "    </tr>\n",
       "    <tr>\n",
       "      <th>18904</th>\n",
       "      <td>18930</td>\n",
       "      <td>84177</td>\n",
       "      <td>0</td>\n",
       "      <td>en</td>\n",
       "      <td>Dole Food Company wages a campaign to prevent ...</td>\n",
       "      <td>0.296487</td>\n",
       "      <td>2011-11-19</td>\n",
       "      <td>0.0</td>\n",
       "      <td>90.0</td>\n",
       "      <td>[{'iso_639_1': 'sv', 'name': 'svenska'}]</td>\n",
       "      <td>...</td>\n",
       "      <td>Big Boys Gone Bananas!*</td>\n",
       "      <td>7.2</td>\n",
       "      <td>7.0</td>\n",
       "      <td>0.000000</td>\n",
       "      <td>2011</td>\n",
       "      <td>['Fredrik Gertten']</td>\n",
       "      <td>Bananas!* Collection</td>\n",
       "      <td>['WG Film']</td>\n",
       "      <td>['Sweden' 'United States of America']</td>\n",
       "      <td>['Documentary']</td>\n",
       "    </tr>\n",
       "    <tr>\n",
       "      <th>23858</th>\n",
       "      <td>23886</td>\n",
       "      <td>254446</td>\n",
       "      <td>0</td>\n",
       "      <td>pt</td>\n",
       "      <td>A look at the high-octane global live music in...</td>\n",
       "      <td>0.071652</td>\n",
       "      <td>2013-03-22</td>\n",
       "      <td>0.0</td>\n",
       "      <td>93.0</td>\n",
       "      <td>[{'iso_639_1': 'en', 'name': 'English'}]</td>\n",
       "      <td>...</td>\n",
       "      <td>Who the F**K Is Arthur Fogel</td>\n",
       "      <td>5.0</td>\n",
       "      <td>1.0</td>\n",
       "      <td>0.000000</td>\n",
       "      <td>2013</td>\n",
       "      <td>['Ron Chapman']</td>\n",
       "      <td>NaN</td>\n",
       "      <td>[]</td>\n",
       "      <td>['Canada']</td>\n",
       "      <td>['Documentary']</td>\n",
       "    </tr>\n",
       "    <tr>\n",
       "      <th>26444</th>\n",
       "      <td>26487</td>\n",
       "      <td>35405</td>\n",
       "      <td>0</td>\n",
       "      <td>en</td>\n",
       "      <td>Two CIA bunglers (Donald Sutherland, Elliott G...</td>\n",
       "      <td>0.774252</td>\n",
       "      <td>1974-09-05</td>\n",
       "      <td>0.0</td>\n",
       "      <td>87.0</td>\n",
       "      <td>[{'iso_639_1': 'en', 'name': 'English'}]</td>\n",
       "      <td>...</td>\n",
       "      <td>S*P*Y*S</td>\n",
       "      <td>5.9</td>\n",
       "      <td>5.0</td>\n",
       "      <td>0.000000</td>\n",
       "      <td>1974</td>\n",
       "      <td>['Irvin Kershner']</td>\n",
       "      <td>NaN</td>\n",
       "      <td>['Twentieth Century Fox Film Corporation' 'Ame...</td>\n",
       "      <td>['United States of America']</td>\n",
       "      <td>['Action' 'Comedy']</td>\n",
       "    </tr>\n",
       "    <tr>\n",
       "      <th>31718</th>\n",
       "      <td>31761</td>\n",
       "      <td>142161</td>\n",
       "      <td>0</td>\n",
       "      <td>en</td>\n",
       "      <td>A look into the 100-meter final at the 1988 Se...</td>\n",
       "      <td>0.154128</td>\n",
       "      <td>2012-10-09</td>\n",
       "      <td>0.0</td>\n",
       "      <td>79.0</td>\n",
       "      <td>[]</td>\n",
       "      <td>...</td>\n",
       "      <td>9.79*</td>\n",
       "      <td>8.9</td>\n",
       "      <td>4.0</td>\n",
       "      <td>0.000000</td>\n",
       "      <td>2012</td>\n",
       "      <td>['Daniel Gordon']</td>\n",
       "      <td>NaN</td>\n",
       "      <td>[]</td>\n",
       "      <td>[]</td>\n",
       "      <td>[]</td>\n",
       "    </tr>\n",
       "    <tr>\n",
       "      <th>41899</th>\n",
       "      <td>41943</td>\n",
       "      <td>274326</td>\n",
       "      <td>0</td>\n",
       "      <td>en</td>\n",
       "      <td>The boys head to Ireland after winning a conte...</td>\n",
       "      <td>1.063387</td>\n",
       "      <td>2014-05-01</td>\n",
       "      <td>0.0</td>\n",
       "      <td>81.0</td>\n",
       "      <td>[]</td>\n",
       "      <td>...</td>\n",
       "      <td>Trailer Park Boys - Live in F**kin' Dublin</td>\n",
       "      <td>6.0</td>\n",
       "      <td>12.0</td>\n",
       "      <td>0.000000</td>\n",
       "      <td>2014</td>\n",
       "      <td>[]</td>\n",
       "      <td>NaN</td>\n",
       "      <td>[]</td>\n",
       "      <td>[]</td>\n",
       "      <td>['Comedy']</td>\n",
       "    </tr>\n",
       "    <tr>\n",
       "      <th>43484</th>\n",
       "      <td>43528</td>\n",
       "      <td>27631</td>\n",
       "      <td>0</td>\n",
       "      <td>en</td>\n",
       "      <td>This documentary praises comedian Richard Pryo...</td>\n",
       "      <td>0.851160</td>\n",
       "      <td>2003-01-01</td>\n",
       "      <td>0.0</td>\n",
       "      <td>40.0</td>\n",
       "      <td>[{'iso_639_1': 'en', 'name': 'English'}]</td>\n",
       "      <td>...</td>\n",
       "      <td>Richard Pryor: I Ain't Dead Yet, #*%$#@!!</td>\n",
       "      <td>0.0</td>\n",
       "      <td>0.0</td>\n",
       "      <td>0.000000</td>\n",
       "      <td>2003</td>\n",
       "      <td>['Billy Grundfest']</td>\n",
       "      <td>NaN</td>\n",
       "      <td>[]</td>\n",
       "      <td>['United States of America']</td>\n",
       "      <td>['Comedy']</td>\n",
       "    </tr>\n",
       "  </tbody>\n",
       "</table>\n",
       "<p>13 rows × 22 columns</p>\n",
       "</div>"
      ],
      "text/plain": [
       "       index      id   budget original_language  \\\n",
       "3685    3689   11624  2000000                en   \n",
       "4340    4345   14911        0                en   \n",
       "4925    4931     651  3500000                en   \n",
       "9257    9269   20536        0                en   \n",
       "9500    9512    8357        0                en   \n",
       "12635  12651   13636        0                en   \n",
       "15111  15134   36325        0                en   \n",
       "18904  18930   84177        0                en   \n",
       "23858  23886  254446        0                pt   \n",
       "26444  26487   35405        0                en   \n",
       "31718  31761  142161        0                en   \n",
       "41899  41943  274326        0                en   \n",
       "43484  43528   27631        0                en   \n",
       "\n",
       "                                                overview  popularity  \\\n",
       "3685   A collection of seven vignettes, which each ad...    5.378481   \n",
       "4340   Lt. Col. Iceal \"Ham\" Hambleton is a weapons co...    9.179655   \n",
       "4925   One of the world's most acclaimed comedies, MA...    7.701349   \n",
       "9257   In 1961, Roger Maris and Mickey Mantle played ...    2.077090   \n",
       "9500   Amanda (Marlee Maitlin) is a divorced woman wh...    7.631049   \n",
       "12635  In America, we define ourselves in the superla...    6.108182   \n",
       "15111  Juan “Accidentes” Dominguez is on his biggest ...    0.502688   \n",
       "18904  Dole Food Company wages a campaign to prevent ...    0.296487   \n",
       "23858  A look at the high-octane global live music in...    0.071652   \n",
       "26444  Two CIA bunglers (Donald Sutherland, Elliott G...    0.774252   \n",
       "31718  A look into the 100-meter final at the 1988 Se...    0.154128   \n",
       "41899  The boys head to Ireland after winning a conte...    1.063387   \n",
       "43484  This documentary praises comedian Richard Pryo...    0.851160   \n",
       "\n",
       "      release_date     revenue  runtime  \\\n",
       "3685    1972-08-06  18016290.0     88.0   \n",
       "4340    1988-07-21   3184348.0    105.0   \n",
       "4925    1970-01-24  81600000.0    116.0   \n",
       "9257    2001-04-28         0.0    129.0   \n",
       "9500    2004-04-23  10000000.0    109.0   \n",
       "12635   2008-05-30    307811.0    105.0   \n",
       "15111   2009-10-09         0.0     87.0   \n",
       "18904   2011-11-19         0.0     90.0   \n",
       "23858   2013-03-22         0.0     93.0   \n",
       "26444   1974-09-05         0.0     87.0   \n",
       "31718   2012-10-09         0.0     79.0   \n",
       "41899   2014-05-01         0.0     81.0   \n",
       "43484   2003-01-01         0.0     40.0   \n",
       "\n",
       "                                        spoken_languages  ...  \\\n",
       "3685   [{'iso_639_1': 'en', 'name': 'English'}, {'iso...  ...   \n",
       "4340            [{'iso_639_1': 'en', 'name': 'English'}]  ...   \n",
       "4925   [{'iso_639_1': 'en', 'name': 'English'}, {'iso...  ...   \n",
       "9257            [{'iso_639_1': 'en', 'name': 'English'}]  ...   \n",
       "9500   [{'iso_639_1': 'en', 'name': 'English'}, {'iso...  ...   \n",
       "12635           [{'iso_639_1': 'en', 'name': 'English'}]  ...   \n",
       "15111  [{'iso_639_1': 'en', 'name': 'English'}, {'iso...  ...   \n",
       "18904           [{'iso_639_1': 'sv', 'name': 'svenska'}]  ...   \n",
       "23858           [{'iso_639_1': 'en', 'name': 'English'}]  ...   \n",
       "26444           [{'iso_639_1': 'en', 'name': 'English'}]  ...   \n",
       "31718                                                 []  ...   \n",
       "41899                                                 []  ...   \n",
       "43484           [{'iso_639_1': 'en', 'name': 'English'}]  ...   \n",
       "\n",
       "                                                   title vote_average  \\\n",
       "3685   Everything You Always Wanted to Know About Sex...          6.6   \n",
       "4340                                              Bat*21          5.9   \n",
       "4925                                             M*A*S*H          6.9   \n",
       "9257                                                 61*          6.3   \n",
       "9500                        What the #$*! Do We (K)now!?          5.8   \n",
       "12635                            Bigger Stronger Faster*          7.0   \n",
       "15111                                          Bananas!*          5.6   \n",
       "18904                            Big Boys Gone Bananas!*          7.2   \n",
       "23858                       Who the F**K Is Arthur Fogel          5.0   \n",
       "26444                                            S*P*Y*S          5.9   \n",
       "31718                                              9.79*          8.9   \n",
       "41899         Trailer Park Boys - Live in F**kin' Dublin          6.0   \n",
       "43484          Richard Pryor: I Ain't Dead Yet, #*%$#@!!          0.0   \n",
       "\n",
       "      vote_count     return  release_year                       directed_by  \\\n",
       "3685       218.0   9.008145          1972                   ['Woody Allen']   \n",
       "4340        42.0   0.000000          1988                  ['Peter Markle']   \n",
       "4925       238.0  23.314286          1970                 ['Robert Altman']   \n",
       "9257        34.0   0.000000          2001                 ['Billy Crystal']   \n",
       "9500        34.0   0.000000          2004  ['William Arntz' 'Betsy Chasse']   \n",
       "12635       41.0   0.000000          2008                    ['Chris Bell']   \n",
       "15111        5.0   0.000000          2009               ['Fredrik Gertten']   \n",
       "18904        7.0   0.000000          2011               ['Fredrik Gertten']   \n",
       "23858        1.0   0.000000          2013                   ['Ron Chapman']   \n",
       "26444        5.0   0.000000          1974                ['Irvin Kershner']   \n",
       "31718        4.0   0.000000          2012                 ['Daniel Gordon']   \n",
       "41899       12.0   0.000000          2014                                []   \n",
       "43484        0.0   0.000000          2003               ['Billy Grundfest']   \n",
       "\n",
       "                        franchise  \\\n",
       "3685                          NaN   \n",
       "4340                          NaN   \n",
       "4925                          NaN   \n",
       "9257                          NaN   \n",
       "9500   What the Bleep! Collection   \n",
       "12635                         NaN   \n",
       "15111        Bananas!* Collection   \n",
       "18904        Bananas!* Collection   \n",
       "23858                         NaN   \n",
       "26444                         NaN   \n",
       "31718                         NaN   \n",
       "41899                         NaN   \n",
       "43484                         NaN   \n",
       "\n",
       "                                             produced_by  \\\n",
       "3685                                  ['United Artists']   \n",
       "4340                   ['TriStar Pictures' 'Vision PDG']   \n",
       "4925   ['Twentieth Century Fox Film Corporation' 'Asp...   \n",
       "9257                            ['61* Productions Inc.']   \n",
       "9500                                ['Lord of the Wind']   \n",
       "12635                                       ['BSF Film']   \n",
       "15111                           ['Magic Hour Films ApS']   \n",
       "18904                                        ['WG Film']   \n",
       "23858                                                 []   \n",
       "26444  ['Twentieth Century Fox Film Corporation' 'Ame...   \n",
       "31718                                                 []   \n",
       "41899                                                 []   \n",
       "43484                                                 []   \n",
       "\n",
       "                                             produced_in  \\\n",
       "3685                        ['United States of America']   \n",
       "4340                        ['United States of America']   \n",
       "4925                        ['United States of America']   \n",
       "9257                        ['United States of America']   \n",
       "9500                        ['United States of America']   \n",
       "12635                       ['United States of America']   \n",
       "15111  ['United States of America' 'Nicaragua' 'France']   \n",
       "18904              ['Sweden' 'United States of America']   \n",
       "23858                                         ['Canada']   \n",
       "26444                       ['United States of America']   \n",
       "31718                                                 []   \n",
       "41899                                                 []   \n",
       "43484                       ['United States of America']   \n",
       "\n",
       "                   genres_clean  \n",
       "3685                 ['Comedy']  \n",
       "4340   ['Action' 'Drama' 'War']  \n",
       "4925   ['Comedy' 'Drama' 'War']  \n",
       "9257        ['Drama' 'History']  \n",
       "9500            ['Documentary']  \n",
       "12635           ['Documentary']  \n",
       "15111           ['Documentary']  \n",
       "18904           ['Documentary']  \n",
       "23858           ['Documentary']  \n",
       "26444       ['Action' 'Comedy']  \n",
       "31718                        []  \n",
       "41899                ['Comedy']  \n",
       "43484                ['Comedy']  \n",
       "\n",
       "[13 rows x 22 columns]"
      ]
     },
     "execution_count": 32,
     "metadata": {},
     "output_type": "execute_result"
    }
   ],
   "source": [
    "df[df['title'].str.contains(r'\\*', case=False)]"
   ]
  },
  {
   "cell_type": "code",
   "execution_count": 34,
   "metadata": {},
   "outputs": [
    {
     "name": "stderr",
     "output_type": "stream",
     "text": [
      "C:\\Users\\raftx\\AppData\\Local\\Temp\\ipykernel_2924\\1968515713.py:20: UserWarning: This pattern is interpreted as a regular expression, and has match groups. To actually get the groups, use str.extract.\n",
      "  df_filtrado = df[df['title'].str.contains(pelicula_escaped, case=False)]\n"
     ]
    },
    {
     "data": {
      "text/plain": [
       "{'error': 'No se encontró ninguna película que contenga la palabra \"What the #$*! Do We (K)now!?\"'}"
      ]
     },
     "execution_count": 34,
     "metadata": {},
     "output_type": "execute_result"
    }
   ],
   "source": [
    "peliculas_duracion_sin_re('What the #$*! Do We (K)now!?')"
   ]
  }
 ],
 "metadata": {
  "kernelspec": {
   "display_name": "Python 3",
   "language": "python",
   "name": "python3"
  },
  "language_info": {
   "codemirror_mode": {
    "name": "ipython",
    "version": 3
   },
   "file_extension": ".py",
   "mimetype": "text/x-python",
   "name": "python",
   "nbconvert_exporter": "python",
   "pygments_lexer": "ipython3",
   "version": "3.11.0"
  },
  "orig_nbformat": 4
 },
 "nbformat": 4,
 "nbformat_minor": 2
}
